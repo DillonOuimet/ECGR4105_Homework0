{
 "cells": [
  {
   "cell_type": "code",
   "execution_count": 25,
   "id": "cb3611e3-3c8a-4f8d-a4c7-78f0a742bd6a",
   "metadata": {},
   "outputs": [],
   "source": [
    "import numpy as np\n",
    "import matplotlib.pyplot as plt\n",
    "import pandas as pd\n",
    "import seaborn as sns\n",
    "\n",
    "from sklearn.model_selection import cross_validate\n",
    "from sklearn.metrics import recall_score\n",
    "from sklearn.model_selection import KFold"
   ]
  },
  {
   "cell_type": "code",
   "execution_count": 26,
   "id": "211e93b5-2671-47c4-88b6-bb39689a175b",
   "metadata": {},
   "outputs": [
    {
     "data": {
      "text/html": [
       "<div>\n",
       "<style scoped>\n",
       "    .dataframe tbody tr th:only-of-type {\n",
       "        vertical-align: middle;\n",
       "    }\n",
       "\n",
       "    .dataframe tbody tr th {\n",
       "        vertical-align: top;\n",
       "    }\n",
       "\n",
       "    .dataframe thead th {\n",
       "        text-align: right;\n",
       "    }\n",
       "</style>\n",
       "<table border=\"1\" class=\"dataframe\">\n",
       "  <thead>\n",
       "    <tr style=\"text-align: right;\">\n",
       "      <th></th>\n",
       "      <th>Pregnancies</th>\n",
       "      <th>Glucose</th>\n",
       "      <th>BloodPressure</th>\n",
       "      <th>SkinThickness</th>\n",
       "      <th>Insulin</th>\n",
       "      <th>BMI</th>\n",
       "      <th>DiabetesPedigreeFunction</th>\n",
       "      <th>Age</th>\n",
       "      <th>Outcome</th>\n",
       "    </tr>\n",
       "  </thead>\n",
       "  <tbody>\n",
       "    <tr>\n",
       "      <th>0</th>\n",
       "      <td>6</td>\n",
       "      <td>148</td>\n",
       "      <td>72</td>\n",
       "      <td>35</td>\n",
       "      <td>0</td>\n",
       "      <td>33.6</td>\n",
       "      <td>0.627</td>\n",
       "      <td>50</td>\n",
       "      <td>1</td>\n",
       "    </tr>\n",
       "    <tr>\n",
       "      <th>1</th>\n",
       "      <td>1</td>\n",
       "      <td>85</td>\n",
       "      <td>66</td>\n",
       "      <td>29</td>\n",
       "      <td>0</td>\n",
       "      <td>26.6</td>\n",
       "      <td>0.351</td>\n",
       "      <td>31</td>\n",
       "      <td>0</td>\n",
       "    </tr>\n",
       "    <tr>\n",
       "      <th>2</th>\n",
       "      <td>8</td>\n",
       "      <td>183</td>\n",
       "      <td>64</td>\n",
       "      <td>0</td>\n",
       "      <td>0</td>\n",
       "      <td>23.3</td>\n",
       "      <td>0.672</td>\n",
       "      <td>32</td>\n",
       "      <td>1</td>\n",
       "    </tr>\n",
       "    <tr>\n",
       "      <th>3</th>\n",
       "      <td>1</td>\n",
       "      <td>89</td>\n",
       "      <td>66</td>\n",
       "      <td>23</td>\n",
       "      <td>94</td>\n",
       "      <td>28.1</td>\n",
       "      <td>0.167</td>\n",
       "      <td>21</td>\n",
       "      <td>0</td>\n",
       "    </tr>\n",
       "    <tr>\n",
       "      <th>4</th>\n",
       "      <td>0</td>\n",
       "      <td>137</td>\n",
       "      <td>40</td>\n",
       "      <td>35</td>\n",
       "      <td>168</td>\n",
       "      <td>43.1</td>\n",
       "      <td>2.288</td>\n",
       "      <td>33</td>\n",
       "      <td>1</td>\n",
       "    </tr>\n",
       "  </tbody>\n",
       "</table>\n",
       "</div>"
      ],
      "text/plain": [
       "   Pregnancies  Glucose  BloodPressure  SkinThickness  Insulin   BMI  \\\n",
       "0            6      148             72             35        0  33.6   \n",
       "1            1       85             66             29        0  26.6   \n",
       "2            8      183             64              0        0  23.3   \n",
       "3            1       89             66             23       94  28.1   \n",
       "4            0      137             40             35      168  43.1   \n",
       "\n",
       "   DiabetesPedigreeFunction  Age  Outcome  \n",
       "0                     0.627   50        1  \n",
       "1                     0.351   31        0  \n",
       "2                     0.672   32        1  \n",
       "3                     0.167   21        0  \n",
       "4                     2.288   33        1  "
      ]
     },
     "execution_count": 26,
     "metadata": {},
     "output_type": "execute_result"
    }
   ],
   "source": [
    "data = pd.read_csv('https://raw.githubusercontent.com/DillonOuimet/ECGR_4105/main/Homework_2/Data')\n",
    "data.head()"
   ]
  },
  {
   "cell_type": "code",
   "execution_count": 27,
   "id": "57e8d0cc-fdf5-4ff3-81fb-c811fcff029f",
   "metadata": {},
   "outputs": [
    {
     "name": "stdout",
     "output_type": "stream",
     "text": [
      "9\n"
     ]
    }
   ],
   "source": [
    "Size_Data =data.shape\n",
    "print (Size_Data[1])"
   ]
  },
  {
   "cell_type": "code",
   "execution_count": 28,
   "id": "7f135430-cf64-44e1-8cf0-4de15d38dbd6",
   "metadata": {},
   "outputs": [],
   "source": [
    "# Question 1"
   ]
  },
  {
   "cell_type": "code",
   "execution_count": 29,
   "id": "eae855ba-2c61-461f-b434-0d858818a5b8",
   "metadata": {},
   "outputs": [
    {
     "data": {
      "text/html": [
       "<div>\n",
       "<style scoped>\n",
       "    .dataframe tbody tr th:only-of-type {\n",
       "        vertical-align: middle;\n",
       "    }\n",
       "\n",
       "    .dataframe tbody tr th {\n",
       "        vertical-align: top;\n",
       "    }\n",
       "\n",
       "    .dataframe thead th {\n",
       "        text-align: right;\n",
       "    }\n",
       "</style>\n",
       "<table border=\"1\" class=\"dataframe\">\n",
       "  <thead>\n",
       "    <tr style=\"text-align: right;\">\n",
       "      <th></th>\n",
       "      <th>Pregnancies</th>\n",
       "      <th>Glucose</th>\n",
       "      <th>BloodPressure</th>\n",
       "      <th>SkinThickness</th>\n",
       "      <th>Insulin</th>\n",
       "      <th>BMI</th>\n",
       "      <th>DiabetesPedigreeFunction</th>\n",
       "      <th>Age</th>\n",
       "      <th>Outcome</th>\n",
       "    </tr>\n",
       "  </thead>\n",
       "  <tbody>\n",
       "    <tr>\n",
       "      <th>60</th>\n",
       "      <td>2</td>\n",
       "      <td>84</td>\n",
       "      <td>0</td>\n",
       "      <td>0</td>\n",
       "      <td>0</td>\n",
       "      <td>0.0</td>\n",
       "      <td>0.304</td>\n",
       "      <td>21</td>\n",
       "      <td>0</td>\n",
       "    </tr>\n",
       "    <tr>\n",
       "      <th>618</th>\n",
       "      <td>9</td>\n",
       "      <td>112</td>\n",
       "      <td>82</td>\n",
       "      <td>24</td>\n",
       "      <td>0</td>\n",
       "      <td>28.2</td>\n",
       "      <td>1.282</td>\n",
       "      <td>50</td>\n",
       "      <td>1</td>\n",
       "    </tr>\n",
       "    <tr>\n",
       "      <th>346</th>\n",
       "      <td>1</td>\n",
       "      <td>139</td>\n",
       "      <td>46</td>\n",
       "      <td>19</td>\n",
       "      <td>83</td>\n",
       "      <td>28.7</td>\n",
       "      <td>0.654</td>\n",
       "      <td>22</td>\n",
       "      <td>0</td>\n",
       "    </tr>\n",
       "    <tr>\n",
       "      <th>294</th>\n",
       "      <td>0</td>\n",
       "      <td>161</td>\n",
       "      <td>50</td>\n",
       "      <td>0</td>\n",
       "      <td>0</td>\n",
       "      <td>21.9</td>\n",
       "      <td>0.254</td>\n",
       "      <td>65</td>\n",
       "      <td>0</td>\n",
       "    </tr>\n",
       "    <tr>\n",
       "      <th>231</th>\n",
       "      <td>6</td>\n",
       "      <td>134</td>\n",
       "      <td>80</td>\n",
       "      <td>37</td>\n",
       "      <td>370</td>\n",
       "      <td>46.2</td>\n",
       "      <td>0.238</td>\n",
       "      <td>46</td>\n",
       "      <td>1</td>\n",
       "    </tr>\n",
       "  </tbody>\n",
       "</table>\n",
       "</div>"
      ],
      "text/plain": [
       "     Pregnancies  Glucose  BloodPressure  SkinThickness  Insulin   BMI  \\\n",
       "60             2       84              0              0        0   0.0   \n",
       "618            9      112             82             24        0  28.2   \n",
       "346            1      139             46             19       83  28.7   \n",
       "294            0      161             50              0        0  21.9   \n",
       "231            6      134             80             37      370  46.2   \n",
       "\n",
       "     DiabetesPedigreeFunction  Age  Outcome  \n",
       "60                      0.304   21        0  \n",
       "618                     1.282   50        1  \n",
       "346                     0.654   22        0  \n",
       "294                     0.254   65        0  \n",
       "231                     0.238   46        1  "
      ]
     },
     "execution_count": 29,
     "metadata": {},
     "output_type": "execute_result"
    }
   ],
   "source": [
    "from sklearn.model_selection import train_test_split\n",
    "\n",
    "np.random.seed(0)\n",
    "#Split the data\n",
    "data_train, data_test = train_test_split(data, train_size = 0.8, test_size = 0.2, random_state= 42)\n",
    "\n",
    "data_train.shape\n",
    "mTrain = len(data_train)\n",
    "data_train.head()"
   ]
  },
  {
   "cell_type": "code",
   "execution_count": 30,
   "id": "3e49ba07-7c14-4854-ac73-5d5081af00ac",
   "metadata": {},
   "outputs": [],
   "source": [
    "from sklearn.preprocessing import StandardScaler, MinMaxScaler\n",
    "#sc_X = StandardScaler()\n",
    "\n",
    "#Scale the data\n",
    "scalerNormal = MinMaxScaler()\n",
    "Train = scalerNormal.fit_transform(data_train)\n",
    "Test = scalerNormal.fit_transform(data_test)"
   ]
  },
  {
   "cell_type": "code",
   "execution_count": 31,
   "id": "4ad39b4b-9279-4297-b60f-775ebe90bcf4",
   "metadata": {},
   "outputs": [],
   "source": [
    "#Split the X and Y data in the training and testing data\n",
    "X_Test = Test[:, [0,1,2,3,4,5,6,7]]\n",
    "Y_Test = Test[:, 8]\n",
    "\n",
    "X_Train = Train[:, [0,1,2,3,4,5,6,7]]\n",
    "Y_Train = Train[:, 8]"
   ]
  },
  {
   "cell_type": "code",
   "execution_count": 32,
   "id": "6534aade-7d12-4d3d-9b37-06e940a8f4fb",
   "metadata": {},
   "outputs": [
    {
     "data": {
      "text/plain": [
       "LogisticRegression(random_state=0)"
      ]
     },
     "execution_count": 32,
     "metadata": {},
     "output_type": "execute_result"
    }
   ],
   "source": [
    "#Import LogisticRegression from sklearn.linear_model\n",
    "\n",
    "from sklearn.linear_model import LogisticRegression\n",
    "#Train the data\n",
    "\n",
    "classifier = LogisticRegression(random_state=0)\n",
    "classifier.fit(X_Train, Y_Train)\n"
   ]
  },
  {
   "cell_type": "code",
   "execution_count": 33,
   "id": "c4c5654c-4411-4a9a-b87d-72528c77fbed",
   "metadata": {},
   "outputs": [
    {
     "data": {
      "text/plain": [
       "array([0., 0., 0., 0., 1., 0., 0., 1., 1.])"
      ]
     },
     "execution_count": 33,
     "metadata": {},
     "output_type": "execute_result"
    }
   ],
   "source": [
    "Y_pred = classifier.predict(X_Test)\n",
    "Y_pred[0:9]"
   ]
  },
  {
   "cell_type": "code",
   "execution_count": 34,
   "id": "c8cc447e-bc25-43a8-acc1-ff51e23ae158",
   "metadata": {},
   "outputs": [
    {
     "data": {
      "text/plain": [
       "array([[82, 17],\n",
       "       [20, 35]], dtype=int64)"
      ]
     },
     "execution_count": 34,
     "metadata": {},
     "output_type": "execute_result"
    }
   ],
   "source": [
    "from sklearn.metrics import confusion_matrix\n",
    "#make the confustion matrix\n",
    "cnf_matrix = confusion_matrix(Y_Test, Y_pred)\n",
    "cnf_matrix"
   ]
  },
  {
   "cell_type": "code",
   "execution_count": 35,
   "id": "17ad09f3-f0dd-4f2a-9ae7-014e2e360a54",
   "metadata": {},
   "outputs": [
    {
     "name": "stdout",
     "output_type": "stream",
     "text": [
      "Accuracy: 0.7597402597402597\n",
      "Precision: 0.6730769230769231\n",
      "Recall: 0.6363636363636364\n"
     ]
    }
   ],
   "source": [
    "from sklearn import metrics\n",
    "\n",
    "#grab the metrics\n",
    "print(\"Accuracy:\",metrics.accuracy_score(Y_Test, Y_pred))\n",
    "print(\"Precision:\",metrics.precision_score(Y_Test, Y_pred))\n",
    "print(\"Recall:\",metrics.recall_score(Y_Test, Y_pred))\n"
   ]
  },
  {
   "cell_type": "code",
   "execution_count": 36,
   "id": "12ef556d-4234-447b-8a3b-536cbd26fd5f",
   "metadata": {},
   "outputs": [
    {
     "data": {
      "image/png": "[encoded data removed]",
      "text/plain": [
       "<Figure size 432x288 with 2 Axes>"
      ]
     },
     "metadata": {
      "needs_background": "light"
     },
     "output_type": "display_data"
    }
   ],
   "source": [
    "#Let's visualize the results of the model in the form of a co#nfusion matrix using matp\n",
    "#Here, you will visualize the confusion matrix using Heatmap.\n",
    "class_names=[0,1] # name of classes\n",
    "fig, ax = plt.subplots()\n",
    "tick_marks = np.arange(len(class_names))\n",
    "plt.xticks(tick_marks, class_names)\n",
    "plt.yticks(tick_marks, class_names)\n",
    "# create heatmap\n",
    "sns.heatmap(pd.DataFrame(cnf_matrix), annot=True, cmap=\"YlGnBu\" ,fmt='g')\n",
    "ax.xaxis.set_label_position(\"top\");\n",
    "plt.tight_layout()\n",
    "plt.title('Confusion matrix Question 1', y=1.1)\n",
    "plt.ylabel('Actual label');\n",
    "plt.xlabel('Predicted label');\n",
    "\n"
   ]
  },
  {
   "cell_type": "code",
   "execution_count": 37,
   "id": "e411ede5-a28f-42fc-85a2-47bb316c631a",
   "metadata": {},
   "outputs": [],
   "source": [
    "#Question 2"
   ]
  },
  {
   "cell_type": "code",
   "execution_count": 38,
   "id": "225c49f6-4708-452a-9f1d-3aa306bbb1fb",
   "metadata": {},
   "outputs": [
    {
     "data": {
      "text/plain": [
       "GaussianNB()"
      ]
     },
     "execution_count": 38,
     "metadata": {},
     "output_type": "execute_result"
    }
   ],
   "source": [
    "from sklearn.naive_bayes import GaussianNB\n",
    "#run the NB classifier\n",
    "X_TestQ2 = Test[:, [0,1,2,3,4,5,6,7]]\n",
    "Y_TestQ2 = Test[:, 8]\n",
    "\n",
    "X_TrainQ2 = Train[:, [0,1,2,3,4,5,6,7]]\n",
    "Y_TrainQ2 = Train[:, 8]\n",
    "\n",
    "classifierGaus = GaussianNB()\n",
    "classifierGaus.fit(X_TrainQ2, Y_TrainQ2)\n"
   ]
  },
  {
   "cell_type": "code",
   "execution_count": 39,
   "id": "675c5842-b670-4ce2-bf69-dd562b17a8f2",
   "metadata": {},
   "outputs": [],
   "source": [
    "Y2_pred_Q2 = classifierGaus.predict(X_TestQ2)"
   ]
  },
  {
   "cell_type": "code",
   "execution_count": 40,
   "id": "c09beee8-e362-40cc-b9ff-3f9e09e96b02",
   "metadata": {},
   "outputs": [],
   "source": [
    "from sklearn.metrics import confusion_matrix,accuracy_score\n",
    "cm = confusion_matrix(Y_Test, Y2_pred_Q2)"
   ]
  },
  {
   "cell_type": "code",
   "execution_count": 41,
   "id": "735d1a7d-553b-4489-91ca-7a9329193037",
   "metadata": {},
   "outputs": [
    {
     "name": "stdout",
     "output_type": "stream",
     "text": [
      "Accuracy: 0.6883116883116883\n",
      "Precision: 0.5411764705882353\n",
      "Recall: 0.8363636363636363\n"
     ]
    }
   ],
   "source": [
    "print(\"Accuracy:\",metrics.accuracy_score(Y_Test, Y2_pred_Q2))\n",
    "print(\"Precision:\",metrics.precision_score(Y_Test, Y2_pred_Q2))\n",
    "print(\"Recall:\",metrics.recall_score(Y_Test, Y2_pred_Q2))"
   ]
  },
  {
   "cell_type": "code",
   "execution_count": 42,
   "id": "32af92cb-12b4-4515-a078-d1ab9e69b7a9",
   "metadata": {},
   "outputs": [
    {
     "data": {
      "image/png": "[encoded data removed]",
      "text/plain": [
       "<Figure size 432x288 with 2 Axes>"
      ]
     },
     "metadata": {
      "needs_background": "light"
     },
     "output_type": "display_data"
    }
   ],
   "source": [
    "#Let's visualize the results of the model in the form of a co#nfusion matrix using matp\n",
    "#Here, you will visualize the confusion matrix using Heatmap.\n",
    "class_names=[0,1] # name of classes\n",
    "fig, ax = plt.subplots()\n",
    "tick_marks = np.arange(len(class_names))\n",
    "plt.xticks(tick_marks, class_names)\n",
    "plt.yticks(tick_marks, class_names)\n",
    "# create heatmap\n",
    "sns.heatmap(pd.DataFrame(cm), annot=True, cmap=\"YlGnBu\" ,fmt='g')\n",
    "ax.xaxis.set_label_position(\"top\");\n",
    "plt.tight_layout()\n",
    "plt.title('Confusion matrix Question 2', y=1.1)\n",
    "plt.ylabel('Actual label');\n",
    "plt.xlabel('Predicted label');"
   ]
  },
  {
   "cell_type": "code",
   "execution_count": 43,
   "id": "73296226-b0ec-4df5-ab62-e53ad99b18ef",
   "metadata": {},
   "outputs": [],
   "source": [
    "#Question 3 k = 5"
   ]
  },
  {
   "cell_type": "code",
   "execution_count": 44,
   "id": "aee99c71-7f4c-4897-b5f5-ecb0a4badfec",
   "metadata": {},
   "outputs": [],
   "source": [
    "# X and Y:\n",
    "K_data = scalerNormal.fit_transform(data)\n",
    "K_X = K_data[:, [0,1,2,3,4,5,6,7]]\n",
    "K_Y = K_data[:, 8]"
   ]
  },
  {
   "cell_type": "code",
   "execution_count": 45,
   "id": "5509872d-1c9f-4e18-a288-7c6f593df61f",
   "metadata": {},
   "outputs": [],
   "source": [
    "#Using the Cross_Val function I will create a function to be called for logrithmic regression. \n",
    "\n",
    "def K_Fold(k, K_X, K_Y):\n",
    "\n",
    "    scoring = ['accuracy', 'precision', 'recall']\n",
    "    split = KFold(n_splits=k, random_state=42, shuffle = True)\n",
    "    \n",
    "    lr = LogisticRegression(random_state=42)\n",
    "    scores = cross_validate(lr, K_X, K_Y, scoring=scoring, cv=split, n_jobs=-1)\n",
    "   \n",
    "    Accuracy_Q3_5 = sum(scores['test_accuracy']) / k\n",
    "    Precision_Q3_5 = sum(scores['test_precision']) / k\n",
    "    Recall_Q3_5 = sum(scores['test_recall']) / k\n",
    "\n",
    "  \n",
    "\n",
    "    print(\"Accuracy:\",Accuracy_Q3_5)\n",
    "    print(\"Precision:\",Precision_Q3_5)\n",
    "    print(\"Recall:\",Recall_Q3_5)\n",
    "    return "
   ]
  },
  {
   "cell_type": "code",
   "execution_count": 46,
   "id": "b33050c4-02c4-4d7d-9365-dbd95895fb13",
   "metadata": {},
   "outputs": [
    {
     "name": "stdout",
     "output_type": "stream",
     "text": [
      "Accuracy: 0.7656226126814362\n",
      "Precision: 0.7386700986700987\n",
      "Recall: 0.5120830595261395\n"
     ]
    }
   ],
   "source": [
    "#Here I do 5 fold validation for Logrithmic regression \n",
    "K_Fold(5, K_X, K_Y)"
   ]
  },
  {
   "cell_type": "code",
   "execution_count": 47,
   "id": "7f014f90-b5ce-4f72-b856-251db01ca231",
   "metadata": {},
   "outputs": [
    {
     "name": "stdout",
     "output_type": "stream",
     "text": [
      "Accuracy: 0.7694292549555708\n",
      "Precision: 0.7355244291312403\n",
      "Recall: 0.5248885630498533\n"
     ]
    }
   ],
   "source": [
    "#Here I do 10 fold validation for Logrithmic regression \n",
    "K_Fold(10, K_X, K_Y)"
   ]
  },
  {
   "cell_type": "code",
   "execution_count": 48,
   "id": "3a4275f3-53de-4ddc-bc34-8b42dbce6077",
   "metadata": {},
   "outputs": [],
   "source": [
    "#See report for answer to question 4 "
   ]
  }
 ],
 "metadata": {
  "kernelspec": {
   "display_name": "Python 3",
   "language": "python",
   "name": "python3"
  },
  "language_info": {
   "codemirror_mode": {
    "name": "ipython",
    "version": 3
   },
   "file_extension": ".py",
   "mimetype": "text/x-python",
   "name": "python",
   "nbconvert_exporter": "python",
   "pygments_lexer": "ipython3",
   "version": "3.8.8"
  }
 },
 "nbformat": 4,
 "nbformat_minor": 5
}
