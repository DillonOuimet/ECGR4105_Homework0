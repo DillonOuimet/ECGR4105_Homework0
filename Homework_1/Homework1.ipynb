{
 "cells": [
  {
   "cell_type": "code",
   "execution_count": null,
   "id": "614ae041-4873-4a71-af23-eab43206d4cd",
   "metadata": {},
   "outputs": [],
   "source": [
    "#Dillon Ouimet, 801045569, Homework 1"
   ]
  },
  {
   "cell_type": "code",
   "execution_count": 86,
   "id": "4804f087-2215-4b96-be23-60645eaf7452",
   "metadata": {},
   "outputs": [],
   "source": [
    "import numpy as np\n",
    "import pandas as pd\n",
    "import matplotlib.pyplot as plt\n",
    "import seaborn as sns"
   ]
  },
  {
   "cell_type": "code",
   "execution_count": 87,
   "id": "80f09337-5d3b-465f-aa86-f8c363f52390",
   "metadata": {},
   "outputs": [
    {
     "data": {
      "text/html": [
       "<div>\n",
       "<style scoped>\n",
       "    .dataframe tbody tr th:only-of-type {\n",
       "        vertical-align: middle;\n",
       "    }\n",
       "\n",
       "    .dataframe tbody tr th {\n",
       "        vertical-align: top;\n",
       "    }\n",
       "\n",
       "    .dataframe thead th {\n",
       "        text-align: right;\n",
       "    }\n",
       "</style>\n",
       "<table border=\"1\" class=\"dataframe\">\n",
       "  <thead>\n",
       "    <tr style=\"text-align: right;\">\n",
       "      <th></th>\n",
       "      <th>price</th>\n",
       "      <th>area</th>\n",
       "      <th>bedrooms</th>\n",
       "      <th>bathrooms</th>\n",
       "      <th>stories</th>\n",
       "      <th>mainroad</th>\n",
       "      <th>guestroom</th>\n",
       "      <th>basement</th>\n",
       "      <th>hotwaterheating</th>\n",
       "      <th>airconditioning</th>\n",
       "      <th>parking</th>\n",
       "      <th>prefarea</th>\n",
       "      <th>furnishingstatus</th>\n",
       "    </tr>\n",
       "  </thead>\n",
       "  <tbody>\n",
       "    <tr>\n",
       "      <th>0</th>\n",
       "      <td>13300000</td>\n",
       "      <td>7420</td>\n",
       "      <td>4</td>\n",
       "      <td>2</td>\n",
       "      <td>3</td>\n",
       "      <td>yes</td>\n",
       "      <td>no</td>\n",
       "      <td>no</td>\n",
       "      <td>no</td>\n",
       "      <td>yes</td>\n",
       "      <td>2</td>\n",
       "      <td>yes</td>\n",
       "      <td>furnished</td>\n",
       "    </tr>\n",
       "    <tr>\n",
       "      <th>1</th>\n",
       "      <td>12250000</td>\n",
       "      <td>8960</td>\n",
       "      <td>4</td>\n",
       "      <td>4</td>\n",
       "      <td>4</td>\n",
       "      <td>yes</td>\n",
       "      <td>no</td>\n",
       "      <td>no</td>\n",
       "      <td>no</td>\n",
       "      <td>yes</td>\n",
       "      <td>3</td>\n",
       "      <td>no</td>\n",
       "      <td>furnished</td>\n",
       "    </tr>\n",
       "    <tr>\n",
       "      <th>2</th>\n",
       "      <td>12250000</td>\n",
       "      <td>9960</td>\n",
       "      <td>3</td>\n",
       "      <td>2</td>\n",
       "      <td>2</td>\n",
       "      <td>yes</td>\n",
       "      <td>no</td>\n",
       "      <td>yes</td>\n",
       "      <td>no</td>\n",
       "      <td>no</td>\n",
       "      <td>2</td>\n",
       "      <td>yes</td>\n",
       "      <td>semi-furnished</td>\n",
       "    </tr>\n",
       "    <tr>\n",
       "      <th>3</th>\n",
       "      <td>12215000</td>\n",
       "      <td>7500</td>\n",
       "      <td>4</td>\n",
       "      <td>2</td>\n",
       "      <td>2</td>\n",
       "      <td>yes</td>\n",
       "      <td>no</td>\n",
       "      <td>yes</td>\n",
       "      <td>no</td>\n",
       "      <td>yes</td>\n",
       "      <td>3</td>\n",
       "      <td>yes</td>\n",
       "      <td>furnished</td>\n",
       "    </tr>\n",
       "    <tr>\n",
       "      <th>4</th>\n",
       "      <td>11410000</td>\n",
       "      <td>7420</td>\n",
       "      <td>4</td>\n",
       "      <td>1</td>\n",
       "      <td>2</td>\n",
       "      <td>yes</td>\n",
       "      <td>yes</td>\n",
       "      <td>yes</td>\n",
       "      <td>no</td>\n",
       "      <td>yes</td>\n",
       "      <td>2</td>\n",
       "      <td>no</td>\n",
       "      <td>furnished</td>\n",
       "    </tr>\n",
       "  </tbody>\n",
       "</table>\n",
       "</div>"
      ],
      "text/plain": [
       "      price  area  bedrooms  bathrooms  stories mainroad guestroom basement  \\\n",
       "0  13300000  7420         4          2        3      yes        no       no   \n",
       "1  12250000  8960         4          4        4      yes        no       no   \n",
       "2  12250000  9960         3          2        2      yes        no      yes   \n",
       "3  12215000  7500         4          2        2      yes        no      yes   \n",
       "4  11410000  7420         4          1        2      yes       yes      yes   \n",
       "\n",
       "  hotwaterheating airconditioning  parking prefarea furnishingstatus  \n",
       "0              no             yes        2      yes        furnished  \n",
       "1              no             yes        3       no        furnished  \n",
       "2              no              no        2      yes   semi-furnished  \n",
       "3              no             yes        3      yes        furnished  \n",
       "4              no             yes        2       no        furnished  "
      ]
     },
     "execution_count": 87,
     "metadata": {},
     "output_type": "execute_result"
    }
   ],
   "source": [
    "# We want to call the CSV data.\n",
    "data = pd.read_csv('https://raw.githubusercontent.com/DillonOuimet/ECGR_4105/main/Homework_1/Housing.csv')\n",
    "data.head()"
   ]
  },
  {
   "cell_type": "code",
   "execution_count": 88,
   "id": "8439c67d-fdb1-4d55-ac26-aa5cb0ec95a4",
   "metadata": {},
   "outputs": [
    {
     "data": {
      "text/plain": [
       "545"
      ]
     },
     "execution_count": 88,
     "metadata": {},
     "output_type": "execute_result"
    }
   ],
   "source": [
    "m = len(data)\n",
    "m"
   ]
  },
  {
   "cell_type": "code",
   "execution_count": 89,
   "id": "f0059533-fe7e-4e05-accb-ff3cb6784dd1",
   "metadata": {},
   "outputs": [
    {
     "data": {
      "text/plain": [
       "(545, 13)"
      ]
     },
     "execution_count": 89,
     "metadata": {},
     "output_type": "execute_result"
    }
   ],
   "source": [
    "data.shape"
   ]
  },
  {
   "cell_type": "code",
   "execution_count": 90,
   "id": "d3f14844-193d-43fa-9b63-4fec38236e5d",
   "metadata": {},
   "outputs": [
    {
     "data": {
      "text/html": [
       "<div>\n",
       "<style scoped>\n",
       "    .dataframe tbody tr th:only-of-type {\n",
       "        vertical-align: middle;\n",
       "    }\n",
       "\n",
       "    .dataframe tbody tr th {\n",
       "        vertical-align: top;\n",
       "    }\n",
       "\n",
       "    .dataframe thead th {\n",
       "        text-align: right;\n",
       "    }\n",
       "</style>\n",
       "<table border=\"1\" class=\"dataframe\">\n",
       "  <thead>\n",
       "    <tr style=\"text-align: right;\">\n",
       "      <th></th>\n",
       "      <th>price</th>\n",
       "      <th>area</th>\n",
       "      <th>bedrooms</th>\n",
       "      <th>bathrooms</th>\n",
       "      <th>stories</th>\n",
       "      <th>mainroad</th>\n",
       "      <th>guestroom</th>\n",
       "      <th>basement</th>\n",
       "      <th>hotwaterheating</th>\n",
       "      <th>airconditioning</th>\n",
       "      <th>parking</th>\n",
       "      <th>prefarea</th>\n",
       "      <th>furnishingstatus</th>\n",
       "    </tr>\n",
       "  </thead>\n",
       "  <tbody>\n",
       "    <tr>\n",
       "      <th>0</th>\n",
       "      <td>13300000</td>\n",
       "      <td>7420</td>\n",
       "      <td>4</td>\n",
       "      <td>2</td>\n",
       "      <td>3</td>\n",
       "      <td>1</td>\n",
       "      <td>0</td>\n",
       "      <td>0</td>\n",
       "      <td>0</td>\n",
       "      <td>1</td>\n",
       "      <td>2</td>\n",
       "      <td>1</td>\n",
       "      <td>furnished</td>\n",
       "    </tr>\n",
       "    <tr>\n",
       "      <th>1</th>\n",
       "      <td>12250000</td>\n",
       "      <td>8960</td>\n",
       "      <td>4</td>\n",
       "      <td>4</td>\n",
       "      <td>4</td>\n",
       "      <td>1</td>\n",
       "      <td>0</td>\n",
       "      <td>0</td>\n",
       "      <td>0</td>\n",
       "      <td>1</td>\n",
       "      <td>3</td>\n",
       "      <td>0</td>\n",
       "      <td>furnished</td>\n",
       "    </tr>\n",
       "    <tr>\n",
       "      <th>2</th>\n",
       "      <td>12250000</td>\n",
       "      <td>9960</td>\n",
       "      <td>3</td>\n",
       "      <td>2</td>\n",
       "      <td>2</td>\n",
       "      <td>1</td>\n",
       "      <td>0</td>\n",
       "      <td>1</td>\n",
       "      <td>0</td>\n",
       "      <td>0</td>\n",
       "      <td>2</td>\n",
       "      <td>1</td>\n",
       "      <td>semi-furnished</td>\n",
       "    </tr>\n",
       "    <tr>\n",
       "      <th>3</th>\n",
       "      <td>12215000</td>\n",
       "      <td>7500</td>\n",
       "      <td>4</td>\n",
       "      <td>2</td>\n",
       "      <td>2</td>\n",
       "      <td>1</td>\n",
       "      <td>0</td>\n",
       "      <td>1</td>\n",
       "      <td>0</td>\n",
       "      <td>1</td>\n",
       "      <td>3</td>\n",
       "      <td>1</td>\n",
       "      <td>furnished</td>\n",
       "    </tr>\n",
       "    <tr>\n",
       "      <th>4</th>\n",
       "      <td>11410000</td>\n",
       "      <td>7420</td>\n",
       "      <td>4</td>\n",
       "      <td>1</td>\n",
       "      <td>2</td>\n",
       "      <td>1</td>\n",
       "      <td>1</td>\n",
       "      <td>1</td>\n",
       "      <td>0</td>\n",
       "      <td>1</td>\n",
       "      <td>2</td>\n",
       "      <td>0</td>\n",
       "      <td>furnished</td>\n",
       "    </tr>\n",
       "  </tbody>\n",
       "</table>\n",
       "</div>"
      ],
      "text/plain": [
       "      price  area  bedrooms  bathrooms  stories  mainroad  guestroom  \\\n",
       "0  13300000  7420         4          2        3         1          0   \n",
       "1  12250000  8960         4          4        4         1          0   \n",
       "2  12250000  9960         3          2        2         1          0   \n",
       "3  12215000  7500         4          2        2         1          0   \n",
       "4  11410000  7420         4          1        2         1          1   \n",
       "\n",
       "   basement  hotwaterheating  airconditioning  parking  prefarea  \\\n",
       "0         0                0                1        2         1   \n",
       "1         0                0                1        3         0   \n",
       "2         1                0                0        2         1   \n",
       "3         1                0                1        3         1   \n",
       "4         1                0                1        2         0   \n",
       "\n",
       "  furnishingstatus  \n",
       "0        furnished  \n",
       "1        furnished  \n",
       "2   semi-furnished  \n",
       "3        furnished  \n",
       "4        furnished  "
      ]
     },
     "execution_count": 90,
     "metadata": {},
     "output_type": "execute_result"
    }
   ],
   "source": [
    "# You can see that your dataset has many columns with values as 'Yes' or 'No'.\n",
    "# But in order to fit a regression line, we would need numerical values and not string.\n",
    "# List of variables to map\n",
    "varlist = ['mainroad', 'guestroom', 'basement', 'hotwaterheating', 'airconditioning', 'prefarea']\n",
    "# Defining the map function\n",
    "def binary_map(x):\n",
    "        return x.map({'yes': 1, \"no\": 0})\n",
    "           \n",
    "# Applying the function to the housing list\n",
    "data[varlist] = data[varlist].apply(binary_map)\n",
    "# Check the housing dataframe now\n",
    "data.head()"
   ]
  },
  {
   "cell_type": "code",
   "execution_count": 91,
   "id": "9912c799-0cb8-492b-9541-b32eb58c8539",
   "metadata": {},
   "outputs": [],
   "source": [
    "#Problem 1a"
   ]
  },
  {
   "cell_type": "code",
   "execution_count": 92,
   "id": "f49e4b46-3ae3-43e8-8236-78091f5177cd",
   "metadata": {},
   "outputs": [
    {
     "data": {
      "text/html": [
       "<div>\n",
       "<style scoped>\n",
       "    .dataframe tbody tr th:only-of-type {\n",
       "        vertical-align: middle;\n",
       "    }\n",
       "\n",
       "    .dataframe tbody tr th {\n",
       "        vertical-align: top;\n",
       "    }\n",
       "\n",
       "    .dataframe thead th {\n",
       "        text-align: right;\n",
       "    }\n",
       "</style>\n",
       "<table border=\"1\" class=\"dataframe\">\n",
       "  <thead>\n",
       "    <tr style=\"text-align: right;\">\n",
       "      <th></th>\n",
       "      <th>price</th>\n",
       "      <th>area</th>\n",
       "      <th>bedrooms</th>\n",
       "      <th>bathrooms</th>\n",
       "      <th>stories</th>\n",
       "      <th>mainroad</th>\n",
       "      <th>guestroom</th>\n",
       "      <th>basement</th>\n",
       "      <th>hotwaterheating</th>\n",
       "      <th>airconditioning</th>\n",
       "      <th>parking</th>\n",
       "      <th>prefarea</th>\n",
       "      <th>furnishingstatus</th>\n",
       "    </tr>\n",
       "  </thead>\n",
       "  <tbody>\n",
       "    <tr>\n",
       "      <th>126</th>\n",
       "      <td>5880000</td>\n",
       "      <td>7160</td>\n",
       "      <td>3</td>\n",
       "      <td>1</td>\n",
       "      <td>1</td>\n",
       "      <td>1</td>\n",
       "      <td>0</td>\n",
       "      <td>1</td>\n",
       "      <td>0</td>\n",
       "      <td>0</td>\n",
       "      <td>2</td>\n",
       "      <td>1</td>\n",
       "      <td>unfurnished</td>\n",
       "    </tr>\n",
       "    <tr>\n",
       "      <th>363</th>\n",
       "      <td>3710000</td>\n",
       "      <td>3584</td>\n",
       "      <td>2</td>\n",
       "      <td>1</td>\n",
       "      <td>1</td>\n",
       "      <td>1</td>\n",
       "      <td>0</td>\n",
       "      <td>0</td>\n",
       "      <td>1</td>\n",
       "      <td>0</td>\n",
       "      <td>0</td>\n",
       "      <td>0</td>\n",
       "      <td>semi-furnished</td>\n",
       "    </tr>\n",
       "    <tr>\n",
       "      <th>370</th>\n",
       "      <td>3640000</td>\n",
       "      <td>4280</td>\n",
       "      <td>2</td>\n",
       "      <td>1</td>\n",
       "      <td>1</td>\n",
       "      <td>1</td>\n",
       "      <td>0</td>\n",
       "      <td>0</td>\n",
       "      <td>0</td>\n",
       "      <td>1</td>\n",
       "      <td>2</td>\n",
       "      <td>0</td>\n",
       "      <td>semi-furnished</td>\n",
       "    </tr>\n",
       "    <tr>\n",
       "      <th>31</th>\n",
       "      <td>8400000</td>\n",
       "      <td>7000</td>\n",
       "      <td>3</td>\n",
       "      <td>1</td>\n",
       "      <td>4</td>\n",
       "      <td>1</td>\n",
       "      <td>0</td>\n",
       "      <td>0</td>\n",
       "      <td>0</td>\n",
       "      <td>1</td>\n",
       "      <td>2</td>\n",
       "      <td>0</td>\n",
       "      <td>semi-furnished</td>\n",
       "    </tr>\n",
       "    <tr>\n",
       "      <th>113</th>\n",
       "      <td>6083000</td>\n",
       "      <td>9620</td>\n",
       "      <td>3</td>\n",
       "      <td>1</td>\n",
       "      <td>1</td>\n",
       "      <td>1</td>\n",
       "      <td>0</td>\n",
       "      <td>1</td>\n",
       "      <td>0</td>\n",
       "      <td>0</td>\n",
       "      <td>2</td>\n",
       "      <td>1</td>\n",
       "      <td>furnished</td>\n",
       "    </tr>\n",
       "  </tbody>\n",
       "</table>\n",
       "</div>"
      ],
      "text/plain": [
       "       price  area  bedrooms  bathrooms  stories  mainroad  guestroom  \\\n",
       "126  5880000  7160         3          1        1         1          0   \n",
       "363  3710000  3584         2          1        1         1          0   \n",
       "370  3640000  4280         2          1        1         1          0   \n",
       "31   8400000  7000         3          1        4         1          0   \n",
       "113  6083000  9620         3          1        1         1          0   \n",
       "\n",
       "     basement  hotwaterheating  airconditioning  parking  prefarea  \\\n",
       "126         1                0                0        2         1   \n",
       "363         0                1                0        0         0   \n",
       "370         0                0                1        2         0   \n",
       "31          0                0                1        2         0   \n",
       "113         1                0                0        2         1   \n",
       "\n",
       "    furnishingstatus  \n",
       "126      unfurnished  \n",
       "363   semi-furnished  \n",
       "370   semi-furnished  \n",
       "31    semi-furnished  \n",
       "113        furnished  "
      ]
     },
     "execution_count": 92,
     "metadata": {},
     "output_type": "execute_result"
    }
   ],
   "source": [
    "#Splitting the Data into Training and Testing Sets\n",
    "from sklearn.model_selection import train_test_split\n",
    "# We specify this so that the train and test data set always have the same rows, respec\n",
    "np.random.seed(0)\n",
    "#70, 30 split.\n",
    "data_train, data_test = train_test_split(data, train_size = 0.7, test_size = 0.3, random_state=42)\n",
    "data_train.shape\n",
    "mTrain = len(data_train)\n",
    "data_train.head()"
   ]
  },
  {
   "cell_type": "code",
   "execution_count": 93,
   "id": "49d572f6-555a-435e-b553-772784666bc3",
   "metadata": {},
   "outputs": [],
   "source": [
    "data_test.shape\n",
    "mTest = len(data_test)"
   ]
  },
  {
   "cell_type": "code",
   "execution_count": 94,
   "id": "5f8775d8-eb62-411b-8f49-64159436f363",
   "metadata": {},
   "outputs": [
    {
     "data": {
      "text/html": [
       "<div>\n",
       "<style scoped>\n",
       "    .dataframe tbody tr th:only-of-type {\n",
       "        vertical-align: middle;\n",
       "    }\n",
       "\n",
       "    .dataframe tbody tr th {\n",
       "        vertical-align: top;\n",
       "    }\n",
       "\n",
       "    .dataframe thead th {\n",
       "        text-align: right;\n",
       "    }\n",
       "</style>\n",
       "<table border=\"1\" class=\"dataframe\">\n",
       "  <thead>\n",
       "    <tr style=\"text-align: right;\">\n",
       "      <th></th>\n",
       "      <th>area</th>\n",
       "      <th>bedrooms</th>\n",
       "      <th>bathrooms</th>\n",
       "      <th>stories</th>\n",
       "      <th>parking</th>\n",
       "    </tr>\n",
       "  </thead>\n",
       "  <tbody>\n",
       "    <tr>\n",
       "      <th>316</th>\n",
       "      <td>5900</td>\n",
       "      <td>4</td>\n",
       "      <td>2</td>\n",
       "      <td>2</td>\n",
       "      <td>1</td>\n",
       "    </tr>\n",
       "    <tr>\n",
       "      <th>77</th>\n",
       "      <td>6500</td>\n",
       "      <td>3</td>\n",
       "      <td>2</td>\n",
       "      <td>3</td>\n",
       "      <td>0</td>\n",
       "    </tr>\n",
       "    <tr>\n",
       "      <th>360</th>\n",
       "      <td>4040</td>\n",
       "      <td>2</td>\n",
       "      <td>1</td>\n",
       "      <td>1</td>\n",
       "      <td>0</td>\n",
       "    </tr>\n",
       "    <tr>\n",
       "      <th>90</th>\n",
       "      <td>5000</td>\n",
       "      <td>3</td>\n",
       "      <td>1</td>\n",
       "      <td>2</td>\n",
       "      <td>0</td>\n",
       "    </tr>\n",
       "    <tr>\n",
       "      <th>493</th>\n",
       "      <td>3960</td>\n",
       "      <td>3</td>\n",
       "      <td>1</td>\n",
       "      <td>1</td>\n",
       "      <td>0</td>\n",
       "    </tr>\n",
       "  </tbody>\n",
       "</table>\n",
       "</div>"
      ],
      "text/plain": [
       "     area  bedrooms  bathrooms  stories  parking\n",
       "316  5900         4          2        2        1\n",
       "77   6500         3          2        3        0\n",
       "360  4040         2          1        1        0\n",
       "90   5000         3          1        2        0\n",
       "493  3960         3          1        1        0"
      ]
     },
     "execution_count": 94,
     "metadata": {},
     "output_type": "execute_result"
    }
   ],
   "source": [
    "#for Question a we only want to look at these variables. \n",
    "Qa_vars = ['area', 'bedrooms', 'bathrooms', 'stories', 'parking']\n",
    "data_Newtrain = data_train[Qa_vars]\n",
    "data_Newtest = data_test[Qa_vars]\n",
    "data_Newtest.head()"
   ]
  },
  {
   "cell_type": "code",
   "execution_count": 95,
   "id": "c1869589-838b-4658-b9c8-b37bc3609266",
   "metadata": {},
   "outputs": [],
   "source": [
    "#define the expl. variable values train\n",
    "\n",
    "X_0_train = np.ones((mTrain, 1)) \n",
    "X_1_train = data_Newtrain.values[:, 0].reshape((mTrain, 1)) # get input values from first column\n",
    "X_2_train = data_Newtrain.values[:, 1].reshape((mTrain, 1)) # get output values from second column\n",
    "X_3_train = data_Newtrain.values[:, 2].reshape((mTrain, 1)) # get output values from third column\n",
    "X_4_train = data_Newtrain.values[:, 3].reshape((mTrain, 1)) \n",
    "X_5_train = data_Newtrain.values[:, 4].reshape((mTrain, 1)) \n",
    "y_train = data_train.values[:,0] # get output values from fourth column\n",
    "\n",
    "#define the expl. variable values test\n",
    "X_0_test = np.ones((mTest, 1)) \n",
    "X_1_test = data_Newtest.values[:, 0].reshape((mTest, 1))  # get input values from first column\n",
    "X_2_test = data_Newtest.values[:, 1].reshape((mTest, 1)) # get output values from second column\n",
    "X_3_test = data_Newtest.values[:, 2].reshape((mTest, 1)) # get output values from third column\n",
    "X_4_test = data_Newtest.values[:, 3].reshape((mTest, 1)) \n",
    "X_5_test = data_Newtest.values[:, 4].reshape((mTest, 1)) \n",
    "y_test = data_test.values[:,0] # get output values from fourth column"
   ]
  },
  {
   "cell_type": "code",
   "execution_count": 96,
   "id": "3bb067db-369a-49cb-9a3b-66d56791377b",
   "metadata": {},
   "outputs": [],
   "source": [
    "#Stack the arrays together\n",
    "X_train= np.hstack((X_0_train, X_1_train, X_2_train, X_3_train, X_4_train, X_5_train))\n",
    "X_test= np.hstack((X_0_test, X_1_test, X_2_test, X_3_test, X_4_test, X_5_test))\n"
   ]
  },
  {
   "cell_type": "code",
   "execution_count": 97,
   "id": "acd7dc5e-e740-4092-8821-b22e065b5b81",
   "metadata": {},
   "outputs": [],
   "source": [
    "#This is the loss function: \n",
    "def loss(X, y, theta, m):\n",
    " \"\"\"\n",
    " Compute loss for linear regression.\n",
    " Input Parameters\n",
    " ----------------\n",
    " X : 2D array where each row represent the training example and each column represent\n",
    " m= number of training examples\n",
    " n= number of features (including X_0 column of ones)\n",
    " y : 1D array of labels/target value for each traing example. dimension(1 x m)\n",
    " theta : 1D array of fitting parameters or weights. Dimension (1 x n)\n",
    " Output Parameters\n",
    " -----------------\n",
    " J : Scalar value.\n",
    " \"\"\"\n",
    "##First multply the X values by theta\n",
    " predictions = X.dot(theta)\n",
    "#Then subtract and s\n",
    " errors = np.subtract(predictions, y)\n",
    " sqrErrors = np.square(errors)\n",
    " J = 1 / (2 * m) * np.sum(sqrErrors)\n",
    " return J"
   ]
  },
  {
   "cell_type": "code",
   "execution_count": 98,
   "id": "91a3a5a8-da23-4e63-8817-b84dbc983ffe",
   "metadata": {},
   "outputs": [],
   "source": [
    "##This is the gradient descent function\n",
    "def gd_Multi(X_train,X_test, y_train, y_test, theta, alpha, iterations, n, mTrain, mTest):\n",
    "# n is the number of columns in the theta (how many variables + 1) \n",
    " \"\"\"\n",
    " Compute cost for linear regression.\n",
    " Input Parameters\n",
    " ----------------\n",
    " X : 2D array where each row represent the training example and each column represent\n",
    " m= number of training examples\n",
    " n= number of features (including X_0 column of ones)\n",
    " y : 1D array of labels/target value for each traing example. dimension(m x 1)\n",
    " theta : 1D array of fitting parameters or weights. Dimension (1 x n)\n",
    " alpha : Learning rate. Scalar value\n",
    " iterations: No of iterations. Scalar value.\n",
    " Output Parameters\n",
    " -----------------\n",
    " theta : Final Value. 1D array of fitting parameters or weights. Dimension (1 x n)\n",
    " cost_history: Conatins value of cost for each iteration. 1D array. Dimansion(m x 1)\n",
    " \"\"\"\n",
    " cost_history_Train = np.zeros(iterations)\n",
    " cost_history_Test = np.zeros(iterations)\n",
    " sum_delta = np.zeros(n)\n",
    " \n",
    "\n",
    " for i in range(iterations):\n",
    "    h = X_train.dot(theta) ##gives a m x 1 array\n",
    "    errors = np.subtract(h, y_train) ## also m x 1\n",
    "    \n",
    "    \"\"\" \n",
    "    Here is the main difference in my code vs what was provided.\n",
    "    I run this for loop n times and multiple the thetas one at a time\n",
    "    This should work for a data set of any amount of explanatory variables. \n",
    "    \"\"\"\n",
    "    for j in range(n):             \n",
    "        sum_delta[j] = (alpha / mTrain) * X_train[:,j].transpose().dot(errors); ##1 x 1 array\n",
    "        theta[j] = theta[j] - sum_delta[j];     \n",
    "        \n",
    "    #call the loss functions\n",
    "             #Training loss\n",
    "    cost_history_Train[i] = loss(X_train, y_train, theta, mTrain)\n",
    "             # Validation loss\n",
    "    cost_history_Test[i]  = loss(X_test, y_test, theta, mTest)\n",
    " return theta, cost_history_Train, cost_history_Test"
   ]
  },
  {
   "cell_type": "code",
   "execution_count": 99,
   "id": "cf15bd9c-af4b-453e-b266-5f032a73e4c0",
   "metadata": {},
   "outputs": [],
   "source": [
    "#set the Thetas to zero\n",
    "n = 6 #5 variable and x0\n",
    "thetaQa = np.zeros(n)"
   ]
  },
  {
   "cell_type": "code",
   "execution_count": 100,
   "id": "21d4227c-2c57-462b-8275-2aec0fdb7885",
   "metadata": {},
   "outputs": [],
   "source": [
    "#run the training set through the gd funtion\n",
    "\n",
    "thetaQa = np.zeros(n)\n",
    "iterations = 150\n",
    "alpha = 0.000000001\n",
    "#I want a slightly higher alpha and more iterations\n",
    "thetaQa, cost_historyQatrain, cost_historyQatest = gd_Multi(X_train,X_test, y_train, y_test, thetaQa, alpha, iterations, n, mTrain, mTest)"
   ]
  },
  {
   "cell_type": "code",
   "execution_count": 101,
   "id": "ae09c32e-558e-41cc-a7b8-3d835130e46d",
   "metadata": {},
   "outputs": [
    {
     "name": "stdout",
     "output_type": "stream",
     "text": [
      "[1.96335571e-01 8.48046298e+02 6.31795961e-01 2.94422871e-01\n",
      " 4.28337142e-01 1.56556245e-01]\n"
     ]
    }
   ],
   "source": [
    "print(thetaQa)"
   ]
  },
  {
   "cell_type": "code",
   "execution_count": 102,
   "id": "8e81097e-f2e6-4f83-a0a2-a004607e775e",
   "metadata": {},
   "outputs": [
    {
     "data": {
      "image/png": "[encoded data removed]",
      "text/plain": [
       "<Figure size 432x288 with 1 Axes>"
      ]
     },
     "metadata": {
      "needs_background": "light"
     },
     "output_type": "display_data"
    }
   ],
   "source": [
    "#plot the training and validation loss:\n",
    "plt.plot(range(1, iterations + 1),cost_historyQatrain, color='blue')\n",
    "plt.plot(range(1, iterations + 1),cost_historyQatest, color='red')\n",
    "plt.grid()\n",
    "plt.xlabel('Number of iterations')\n",
    "plt.ylabel('Cost (J)')\n",
    "plt.title('Training and Validation Losses')\n",
    "plt.legend(['Training Loss', 'Validation Loss Question 1a'])\n",
    "\n",
    "plt.savefig('/Users/Dillon/Desktop/Senior Year/4105/Homework1/1a.png')"
   ]
  },
  {
   "cell_type": "code",
   "execution_count": 103,
   "id": "a5a03ab4-7896-49b0-bb41-2d65f6ea0f79",
   "metadata": {},
   "outputs": [],
   "source": [
    "#Start of problem 1b"
   ]
  },
  {
   "cell_type": "code",
   "execution_count": 104,
   "id": "ff882035-4325-4789-952b-56e16a2313ea",
   "metadata": {},
   "outputs": [
    {
     "data": {
      "text/html": [
       "<div>\n",
       "<style scoped>\n",
       "    .dataframe tbody tr th:only-of-type {\n",
       "        vertical-align: middle;\n",
       "    }\n",
       "\n",
       "    .dataframe tbody tr th {\n",
       "        vertical-align: top;\n",
       "    }\n",
       "\n",
       "    .dataframe thead th {\n",
       "        text-align: right;\n",
       "    }\n",
       "</style>\n",
       "<table border=\"1\" class=\"dataframe\">\n",
       "  <thead>\n",
       "    <tr style=\"text-align: right;\">\n",
       "      <th></th>\n",
       "      <th>area</th>\n",
       "      <th>bedrooms</th>\n",
       "      <th>bathrooms</th>\n",
       "      <th>stories</th>\n",
       "      <th>mainroad</th>\n",
       "      <th>guestroom</th>\n",
       "      <th>basement</th>\n",
       "      <th>hotwaterheating</th>\n",
       "      <th>airconditioning</th>\n",
       "      <th>parking</th>\n",
       "      <th>prefarea</th>\n",
       "    </tr>\n",
       "  </thead>\n",
       "  <tbody>\n",
       "    <tr>\n",
       "      <th>126</th>\n",
       "      <td>7160</td>\n",
       "      <td>3</td>\n",
       "      <td>1</td>\n",
       "      <td>1</td>\n",
       "      <td>1</td>\n",
       "      <td>0</td>\n",
       "      <td>1</td>\n",
       "      <td>0</td>\n",
       "      <td>0</td>\n",
       "      <td>2</td>\n",
       "      <td>1</td>\n",
       "    </tr>\n",
       "    <tr>\n",
       "      <th>363</th>\n",
       "      <td>3584</td>\n",
       "      <td>2</td>\n",
       "      <td>1</td>\n",
       "      <td>1</td>\n",
       "      <td>1</td>\n",
       "      <td>0</td>\n",
       "      <td>0</td>\n",
       "      <td>1</td>\n",
       "      <td>0</td>\n",
       "      <td>0</td>\n",
       "      <td>0</td>\n",
       "    </tr>\n",
       "    <tr>\n",
       "      <th>370</th>\n",
       "      <td>4280</td>\n",
       "      <td>2</td>\n",
       "      <td>1</td>\n",
       "      <td>1</td>\n",
       "      <td>1</td>\n",
       "      <td>0</td>\n",
       "      <td>0</td>\n",
       "      <td>0</td>\n",
       "      <td>1</td>\n",
       "      <td>2</td>\n",
       "      <td>0</td>\n",
       "    </tr>\n",
       "    <tr>\n",
       "      <th>31</th>\n",
       "      <td>7000</td>\n",
       "      <td>3</td>\n",
       "      <td>1</td>\n",
       "      <td>4</td>\n",
       "      <td>1</td>\n",
       "      <td>0</td>\n",
       "      <td>0</td>\n",
       "      <td>0</td>\n",
       "      <td>1</td>\n",
       "      <td>2</td>\n",
       "      <td>0</td>\n",
       "    </tr>\n",
       "    <tr>\n",
       "      <th>113</th>\n",
       "      <td>9620</td>\n",
       "      <td>3</td>\n",
       "      <td>1</td>\n",
       "      <td>1</td>\n",
       "      <td>1</td>\n",
       "      <td>0</td>\n",
       "      <td>1</td>\n",
       "      <td>0</td>\n",
       "      <td>0</td>\n",
       "      <td>2</td>\n",
       "      <td>1</td>\n",
       "    </tr>\n",
       "  </tbody>\n",
       "</table>\n",
       "</div>"
      ],
      "text/plain": [
       "     area  bedrooms  bathrooms  stories  mainroad  guestroom  basement  \\\n",
       "126  7160         3          1        1         1          0         1   \n",
       "363  3584         2          1        1         1          0         0   \n",
       "370  4280         2          1        1         1          0         0   \n",
       "31   7000         3          1        4         1          0         0   \n",
       "113  9620         3          1        1         1          0         1   \n",
       "\n",
       "     hotwaterheating  airconditioning  parking  prefarea  \n",
       "126                0                0        2         1  \n",
       "363                1                0        0         0  \n",
       "370                0                1        2         0  \n",
       "31                 0                1        2         0  \n",
       "113                0                0        2         1  "
      ]
     },
     "execution_count": 104,
     "metadata": {},
     "output_type": "execute_result"
    }
   ],
   "source": [
    "#for Question a we only want to look at these variables. \n",
    "Q1b_vars = ['area', 'bedrooms', 'bathrooms', 'stories', 'mainroad', 'guestroom', 'basement', 'hotwaterheating', 'airconditioning', 'parking', 'prefarea']\n",
    "data_Newtrainb = data_train[Q1b_vars]\n",
    "data_Newtestb = data_test[Q1b_vars]\n",
    "data_Newtrainb.head()"
   ]
  },
  {
   "cell_type": "code",
   "execution_count": 105,
   "id": "966423ce-8b0e-451e-b7ca-33c94c78eed7",
   "metadata": {},
   "outputs": [],
   "source": [
    "#define the expl. variable values train\n",
    "X_0_trainb = np.ones((mTrain, 1)) \n",
    "X_1_trainb = data_Newtrainb.values[:, 0].reshape((mTrain, 1)) # get input values from first column\n",
    "X_2_trainb = data_Newtrainb.values[:, 1].reshape((mTrain, 1)) # get output values from second column\n",
    "X_3_trainb = data_Newtrainb.values[:, 2].reshape((mTrain, 1)) # get output values from third column\n",
    "X_4_trainb = data_Newtrainb.values[:, 3].reshape((mTrain, 1))\n",
    "X_5_trainb = data_Newtrainb.values[:, 4].reshape((mTrain, 1))\n",
    "X_6_trainb = data_Newtrainb.values[:, 5].reshape((mTrain, 1))\n",
    "X_7_trainb = data_Newtrainb.values[:, 6].reshape((mTrain, 1))\n",
    "X_8_trainb = data_Newtrainb.values[:, 7].reshape((mTrain, 1))\n",
    "X_9_trainb = data_Newtrainb.values[:, 8].reshape((mTrain, 1))\n",
    "X_10_trainb= data_Newtrainb.values[:, 9].reshape((mTrain, 1))\n",
    "X_11_trainb= data_Newtrainb.values[:, 10].reshape((mTrain, 1))\n",
    "#same output\n",
    "y_train = data_train.values[:,0] # get output values from fourth column\n",
    "\n",
    "#define the expl. variable values test\n",
    "X_0_testb = np.ones((mTest, 1)) \n",
    "X_1_testb = data_Newtestb.values[:, 0].reshape((mTest, 1))  # get input values from first column\n",
    "X_2_testb = data_Newtestb.values[:, 1].reshape((mTest, 1)) # get output values from second column\n",
    "X_3_testb = data_Newtestb.values[:, 2].reshape((mTest, 1)) # get output values from third column\n",
    "X_4_testb = data_Newtestb.values[:, 3].reshape((mTest, 1)) \n",
    "X_5_testb = data_Newtestb.values[:, 4].reshape((mTest, 1)) \n",
    "X_6_testb = data_Newtestb.values[:, 5].reshape((mTest, 1))  # get input values from first column\n",
    "X_7_testb = data_Newtestb.values[:, 6].reshape((mTest, 1)) # get output values from second column\n",
    "X_8_testb = data_Newtestb.values[:, 7].reshape((mTest, 1)) # get output values from third column\n",
    "X_9_testb = data_Newtestb.values[:, 8].reshape((mTest, 1)) \n",
    "X_10_testb = data_Newtestb.values[:, 9].reshape((mTest, 1)) \n",
    "X_11_testb = data_Newtestb.values[:, 10].reshape((mTest, 1)) \n",
    "y_test = data_test.values[:,0] # get output values from fourth column\n"
   ]
  },
  {
   "cell_type": "code",
   "execution_count": 106,
   "id": "63a10073-46dc-4384-8ca9-49cfb7b7a6c7",
   "metadata": {},
   "outputs": [],
   "source": [
    "#now put the sets together:\n",
    "X_trainb= np.hstack((X_0_trainb, X_1_trainb, X_2_trainb, X_3_trainb, X_4_trainb, X_5_trainb,X_6_trainb, X_7_trainb, X_8_trainb, X_9_trainb, X_10_trainb, X_11_trainb))\n",
    "X_testb = np.hstack((X_0_testb, X_1_testb, X_2_testb, X_3_testb, X_4_testb, X_5_testb, X_5_testb, X_7_testb, X_8_testb, X_9_testb, X_10_testb, X_11_testb))\n",
    "\n"
   ]
  },
  {
   "cell_type": "code",
   "execution_count": 107,
   "id": "c66c74a7-8f26-4e33-9302-5c6993cdeed1",
   "metadata": {},
   "outputs": [],
   "source": [
    "nb = 12;\n",
    "thetaQb = np.zeros(nb)\n",
    "iterations = 150\n",
    "alpha = 0.000000001\n",
    "#I want a slightly higher alpha and more iterations\n",
    "thetaQb, cost_historyQbtrain, cost_historyQbtest = gd_Multi(X_trainb,X_testb, y_train, y_test, thetaQb, alpha, iterations, nb, mTrain, mTest)"
   ]
  },
  {
   "cell_type": "code",
   "execution_count": 108,
   "id": "52a51fe8-a86b-4c32-8ab1-cf4d7dae73ea",
   "metadata": {},
   "outputs": [
    {
     "name": "stdout",
     "output_type": "stream",
     "text": [
      "[1.96335563e-01 8.48046260e+02 6.31795935e-01 2.94422860e-01\n",
      " 4.28337126e-01 1.73188946e-01 5.03931434e-02 9.40301683e-02\n",
      " 1.48755058e-02 9.51914515e-02 1.56556239e-01 5.89531365e-02]\n"
     ]
    }
   ],
   "source": [
    "print(thetaQb)"
   ]
  },
  {
   "cell_type": "code",
   "execution_count": 109,
   "id": "98cd23fc-5204-4ea4-ade4-0fb560f2c2a7",
   "metadata": {},
   "outputs": [
    {
     "data": {
      "image/png": "[encoded data removed]",
      "text/plain": [
       "<Figure size 432x288 with 1 Axes>"
      ]
     },
     "metadata": {
      "needs_background": "light"
     },
     "output_type": "display_data"
    }
   ],
   "source": [
    "#plot the training and validation loss:\n",
    "plt.plot(range(1, iterations + 1),cost_historyQbtrain, color='blue')\n",
    "plt.plot(range(1, iterations + 1),cost_historyQbtest, color='red')\n",
    "plt.grid()\n",
    "plt.xlabel('Number of iterations')\n",
    "plt.ylabel('Cost (J)')\n",
    "plt.title('Training and Validation Losses Question 1b')\n",
    "plt.legend(['Training Loss', 'Validation Loss'])\n",
    "\n",
    "plt.savefig('/Users/Dillon/Desktop/Senior Year/4105/Homework1/1b.png')"
   ]
  },
  {
   "cell_type": "code",
   "execution_count": 110,
   "id": "685248f8-7806-4c84-a67a-6cecbad4cad5",
   "metadata": {},
   "outputs": [],
   "source": [
    "#Start of problem 2a"
   ]
  },
  {
   "cell_type": "code",
   "execution_count": 111,
   "id": "1756840d-b2e1-47cb-ac27-9a6c010c6b94",
   "metadata": {},
   "outputs": [],
   "source": [
    "#First noralize the data using min max normalization\n",
    "def Norm(X):\n",
    "\n",
    "    #define the min and max values\n",
    "    mini = min(X)\n",
    "    maxi = max(X)\n",
    "\n",
    "    X_Norm = (X - mini) / (maxi-mini)\n",
    "\n",
    "    return X_Norm"
   ]
  },
  {
   "cell_type": "code",
   "execution_count": 112,
   "id": "6d26e6f4-4621-4ded-8156-4a38ddb2fd44",
   "metadata": {},
   "outputs": [],
   "source": [
    "#Normalize training\n",
    "X_trainNorm2a = X_train\n",
    "X_testNorm2a = X_test\n",
    "for i in range(n-1):\n",
    "    X_trainNorm2a[:, i+1] = Norm(X_train[:,i+1])\n",
    "    X_testNorm2a[:, i+1] = Norm(X_test[:,i+1])\n",
    "\n",
    "#Normalize output:\n",
    "y_trainNorm2a = Norm(y_train)  \n",
    "y_testNorm2a = Norm(y_test)   "
   ]
  },
  {
   "cell_type": "code",
   "execution_count": 113,
   "id": "c3a1369f-970d-4868-a26b-cc8f8255ef52",
   "metadata": {},
   "outputs": [],
   "source": [
    "#Now run the gradient descent on the nomalized data.\n",
    "n2a = 6\n",
    "thetaQ2a = np.zeros(n)\n",
    "iterations2a = 1700\n",
    "alpha2a = 0.01\n",
    "#I want a slightly higher alpha and more iterations\n",
    "thetaQ2a, cost_historyQ2atrain, cost_historyQ2atest = gd_Multi(X_trainNorm2a,X_testNorm2a, y_trainNorm2a, y_testNorm2a, thetaQ2a, alpha2a, iterations2a, n2a, mTrain, mTest)"
   ]
  },
  {
   "cell_type": "code",
   "execution_count": 114,
   "id": "ad53a54e-0713-4bed-8996-c1d88c00992c",
   "metadata": {},
   "outputs": [
    {
     "name": "stdout",
     "output_type": "stream",
     "text": [
      "[0.12332029 0.17869128 0.10928612 0.14708283 0.1422205  0.14003001]\n"
     ]
    }
   ],
   "source": [
    "print(thetaQ2a)"
   ]
  },
  {
   "cell_type": "code",
   "execution_count": 115,
   "id": "e021576b-f2bb-44d4-b7c0-d0381019b2a3",
   "metadata": {},
   "outputs": [
    {
     "data": {
      "image/png": "[encoded data removed]",
      "text/plain": [
       "<Figure size 432x288 with 1 Axes>"
      ]
     },
     "metadata": {
      "needs_background": "light"
     },
     "output_type": "display_data"
    }
   ],
   "source": [
    "#plot the training and validation loss:\n",
    "plt.plot(range(1, iterations2a + 1),cost_historyQ2atrain, color='blue')\n",
    "plt.plot(range(1, iterations2a + 1),cost_historyQ2atest, color='red')\n",
    "plt.grid()\n",
    "plt.xlabel('Number of iterations')\n",
    "plt.ylabel('Cost (J)')\n",
    "plt.title('Normalized Training and Validation Losses Question 2a')\n",
    "plt.legend(['Training Loss', 'Validation Loss'])\n",
    "\n",
    "plt.savefig('/Users/Dillon/Desktop/Senior Year/4105/Homework1/2a_Norm.png')"
   ]
  },
  {
   "cell_type": "code",
   "execution_count": 116,
   "id": "ca987533-b00e-48c0-a4de-acb451ad4ab6",
   "metadata": {},
   "outputs": [],
   "source": [
    "#Question 2 a for the standardization"
   ]
  },
  {
   "cell_type": "code",
   "execution_count": 117,
   "id": "33ccdfae-1edb-4013-9e1e-356ef755d3fe",
   "metadata": {},
   "outputs": [],
   "source": [
    "def Stand(X):\n",
    "    \n",
    "#     size = len(X)\n",
    "#     total = sum(X)\n",
    "    mean = np.average(X)\n",
    "    \n",
    "    std = np.std(X)\n",
    "    \n",
    "    X_Stand = (X - mean) / std\n",
    "\n",
    "\n",
    "    return X_Stand"
   ]
  },
  {
   "cell_type": "code",
   "execution_count": 118,
   "id": "0d6ffb37-4a87-4630-b6b1-fa5bf37714e2",
   "metadata": {},
   "outputs": [],
   "source": [
    "#std training\n",
    "X_trainstd2a = X_train\n",
    "X_teststd2a = X_test\n",
    "for i in range(n-1):\n",
    "    X_trainstd2a[:, i+1] = Norm(X_train[:,i+1])\n",
    "    X_teststd2a[:, i+1] = Norm(X_test[:,i+1])\n",
    "\n",
    "#Standardize output:\n",
    "y_trainstd2a = Norm(y_train)  \n",
    "y_teststd2a = Norm(y_test)  "
   ]
  },
  {
   "cell_type": "code",
   "execution_count": 119,
   "id": "99e6afab-b4b4-4585-8854-554d28f67fce",
   "metadata": {},
   "outputs": [],
   "source": [
    "#Now run GD\n",
    "n2astd = 6\n",
    "thetaQ2astd = np.zeros(n)\n",
    "iterations2astd = 2000\n",
    "alpha2astd = 0.01\n",
    "#I want a slightly higher alpha and more iterations\n",
    "thetaQ2astd, cost_historyQ2astdtrain, cost_historyQ2astdtest = gd_Multi(X_trainstd2a,X_teststd2a, y_trainstd2a, y_teststd2a, thetaQ2astd, alpha2astd, iterations2astd, n2astd, mTrain, mTest)"
   ]
  },
  {
   "cell_type": "code",
   "execution_count": 120,
   "id": "2148d2dc-5181-44e4-be8c-d83497e26fa1",
   "metadata": {},
   "outputs": [
    {
     "data": {
      "image/png": "[encoded data removed]",
      "text/plain": [
       "<Figure size 432x288 with 1 Axes>"
      ]
     },
     "metadata": {
      "needs_background": "light"
     },
     "output_type": "display_data"
    }
   ],
   "source": [
    "#plot the training and validation loss:\n",
    "plt.plot(range(1, iterations2astd + 1),cost_historyQ2astdtrain, color='blue')\n",
    "plt.plot(range(1, iterations2astd + 1),cost_historyQ2astdtest, color='red')\n",
    "plt.grid()\n",
    "plt.xlabel('Number of iterations')\n",
    "plt.ylabel('Cost (J)')\n",
    "plt.title('Standardized Training and Validation Losses Question 2a')\n",
    "plt.legend(['Training Loss', 'Validation Loss'])\n",
    "plt.savefig('/Users/Dillon/Desktop/Senior Year/4105/Homework1/2a_Std.png')"
   ]
  },
  {
   "cell_type": "code",
   "execution_count": 121,
   "id": "25ebe5d8-f9b5-4806-aa15-f2300cc3608e",
   "metadata": {},
   "outputs": [],
   "source": [
    "#Start of Question 2b"
   ]
  },
  {
   "cell_type": "code",
   "execution_count": 122,
   "id": "209276c5-4ac9-4429-8bf9-914cd66cc4d8",
   "metadata": {},
   "outputs": [],
   "source": [
    "#Normalize training\n",
    "X_trainNorm2b = X_trainb\n",
    "X_testNorm2b = X_testb\n",
    "for i in range(n-1):\n",
    "    X_trainNorm2b[:, i+1] = Norm(X_trainb[:,i+1])\n",
    "    X_testNorm2b[:, i+1] = Norm(X_testb[:,i+1])\n",
    "\n",
    "#Normalize output:\n",
    "y_trainNorm2b = Norm(y_train)  \n",
    "y_testNorm2b = Norm(y_test) "
   ]
  },
  {
   "cell_type": "code",
   "execution_count": 123,
   "id": "8dd07ec7-2f34-4d0f-b6c8-57a896d955a4",
   "metadata": {},
   "outputs": [],
   "source": [
    "n2b = 12\n",
    "thetaQ2b = np.zeros(n2b)\n",
    "iterations2b = 1300\n",
    "alpha2b = 0.01\n",
    "#I want a slightly higher alpha and more iterations\n",
    "thetaQ2b, cost_historyQ2btrain, cost_historyQ2btest = gd_Multi(X_trainNorm2b,X_testNorm2b, y_trainNorm2b, y_testNorm2b, thetaQ2b, alpha2b, iterations2b, n2b, mTrain, mTest)"
   ]
  },
  {
   "cell_type": "code",
   "execution_count": 124,
   "id": "18ff3177-1d90-4c78-b35f-fafb5f37e3ff",
   "metadata": {},
   "outputs": [
    {
     "data": {
      "image/png": "[encoded data removed]",
      "text/plain": [
       "<Figure size 432x288 with 1 Axes>"
      ]
     },
     "metadata": {
      "needs_background": "light"
     },
     "output_type": "display_data"
    }
   ],
   "source": [
    "#plot the training and validation loss:\n",
    "plt.plot(range(1, iterations2b + 1),cost_historyQ2btrain, color='blue')\n",
    "plt.plot(range(1, iterations2b + 1),cost_historyQ2btest, color='red')\n",
    "plt.grid()\n",
    "plt.xlabel('Number of iterations')\n",
    "plt.ylabel('Cost (J)')\n",
    "plt.title('Normalized Training and Validation Losses Question 2b')\n",
    "plt.legend(['Training Loss', 'Validation Loss'])\n",
    "plt.savefig('/Users/Dillon/Desktop/Senior Year/4105/Homework1/2b_Norm.png')"
   ]
  },
  {
   "cell_type": "code",
   "execution_count": 125,
   "id": "6d0adb9a-74a7-47e0-a781-12b3ea20a3b5",
   "metadata": {},
   "outputs": [],
   "source": [
    "#Question 2b for the standardization"
   ]
  },
  {
   "cell_type": "code",
   "execution_count": 126,
   "id": "989df47d-df1f-422b-a57f-7f8b1bef30c8",
   "metadata": {},
   "outputs": [],
   "source": [
    "#Ntd training\n",
    "X_trainstd2b = X_trainb\n",
    "X_teststd2b = X_testb\n",
    "for i in range(n-1):\n",
    "    X_trainstd2b[:, i+1] = Norm(X_trainb[:,i+1])\n",
    "    X_teststd2b[:, i+1] = Norm(X_testb[:,i+1])\n",
    "\n",
    "#Normalize output:\n",
    "y_trainstd2b = Norm(y_train)  \n",
    "y_teststd2b = Norm(y_test)  "
   ]
  },
  {
   "cell_type": "code",
   "execution_count": 127,
   "id": "cc0eaf42-2cb8-4cbb-8154-b31f9f83b2e8",
   "metadata": {},
   "outputs": [],
   "source": [
    "#Now run GD\n",
    "n2bstd = 12\n",
    "thetaQ2bstd = np.zeros(n2bstd)\n",
    "iterations2bstd = 1500\n",
    "alpha2bstd = 0.004\n",
    "#I want a slightly higher alpha and more iterations\n",
    "thetaQ2bstd, cost_historyQ2bstdtrain, cost_historyQ2bstdtest = gd_Multi(X_trainstd2b,X_teststd2b, y_trainstd2b, y_teststd2b, thetaQ2bstd, alpha2bstd, iterations2bstd, n2bstd, mTrain, mTest)"
   ]
  },
  {
   "cell_type": "code",
   "execution_count": 145,
   "id": "a4ed2000-d6a5-4095-b461-195c103d745c",
   "metadata": {},
   "outputs": [
    {
     "name": "stdout",
     "output_type": "stream",
     "text": [
      "[0.05256271 0.04989549 0.04738993 ... 0.0055669  0.00556637 0.00556584]\n"
     ]
    }
   ],
   "source": [
    "print(cost_historyQ3bstdtrain)"
   ]
  },
  {
   "cell_type": "code",
   "execution_count": 128,
   "id": "232f4192-ce33-470a-9e2b-a84c4b8b9cb6",
   "metadata": {},
   "outputs": [
    {
     "data": {
      "image/png": "[encoded data removed]",
      "text/plain": [
       "<Figure size 432x288 with 1 Axes>"
      ]
     },
     "metadata": {
      "needs_background": "light"
     },
     "output_type": "display_data"
    }
   ],
   "source": [
    "#plot the training and validation loss:\n",
    "plt.plot(range(1, iterations2bstd + 1),cost_historyQ2bstdtrain, color='blue')\n",
    "plt.plot(range(1, iterations2bstd + 1),cost_historyQ2bstdtest, color='red')\n",
    "plt.grid()\n",
    "plt.xlabel('Number of iterations')\n",
    "plt.ylabel('Cost (J)')\n",
    "plt.title('Standardized Training and Validation Losses Question 2b')\n",
    "plt.legend(['Training Loss', 'Validation Loss'])\n",
    "plt.savefig('/Users/Dillon/Desktop/Senior Year/4105/Homework1/2b_STD.png')"
   ]
  },
  {
   "cell_type": "code",
   "execution_count": 129,
   "id": "72832094-a782-40d8-8356-95624049e45c",
   "metadata": {},
   "outputs": [],
   "source": [
    "#Start of Question 3"
   ]
  },
  {
   "cell_type": "code",
   "execution_count": 130,
   "id": "8b37fc72-c80d-4123-a766-322cb36ff5d6",
   "metadata": {},
   "outputs": [],
   "source": [
    "#write the GD function to include parameter penaties:\n",
    "\n",
    "def gd_pp(X_train,X_test, y_train, y_test, theta, alpha, iterations, n, mTrain, mTest, lamb):\n",
    "# n is the number of columns in the theta (how many variables + 1) \n",
    " \"\"\"\n",
    " Compute cost for linear regression.\n",
    " Input Parameters\n",
    " ----------------\n",
    " X : 2D array where each row represent the training example and each column represent\n",
    " m= number of training examples\n",
    " n= number of features (including X_0 column of ones)\n",
    " y : 1D array of labels/target value for each traing example. dimension(m x 1)\n",
    " theta : 1D array of fitting parameters or weights. Dimension (1 x n)\n",
    " alpha : Learning rate. Scalar value\n",
    " iterations: No of iterations. Scalar value.\n",
    " Output Parameters\n",
    " -----------------\n",
    " theta : Final Value. 1D array of fitting parameters or weights. Dimension (1 x n)\n",
    " cost_history: Conatins value of cost for each iteration. 1D array. Dimansion(m x 1)\n",
    " \"\"\"\n",
    " cost_history_Train = np.zeros(iterations)\n",
    " cost_history_Test = np.zeros(iterations)\n",
    " sum_delta = np.zeros(n)\n",
    " \n",
    "\n",
    " for i in range(iterations):\n",
    "    h = X_train.dot(theta) ##gives a m x 1 array\n",
    "    errors = np.subtract(h, y_train) ## also m x 1\n",
    "    \n",
    "    \"\"\" \n",
    "    Here is the main difference in my code vs what was provided.\n",
    "    I run this for loop n times and multiple the thetas one at a time\n",
    "    This should work for a data set of any amount of explanatory variables. \n",
    "    \"\"\"\n",
    "    for j in range(n):             \n",
    "        sum_delta[j] = (alpha / mTrain) * X_train[:,j].transpose().dot(errors); ##1 x 1 array\n",
    "        if j == 0:  \n",
    "            theta[j] = theta[j] - sum_delta[j];   \n",
    "        if j != 0: \n",
    "            theta[j] = theta[j]*(1- lamb*alpha/mTrain)- sum_delta[j];# Here is where the penalties come in.\n",
    "                                                                     # I don't want penalties to impact theta_0        \n",
    "    #call the loss functions\n",
    "             #Training loss\n",
    "    cost_history_Train[i] = loss(X_train, y_train, theta, mTrain)\n",
    "             # Validation loss\n",
    "    cost_history_Test[i]  = loss(X_test, y_test, theta, mTest)\n",
    " return theta, cost_history_Train, cost_history_Test\n"
   ]
  },
  {
   "cell_type": "code",
   "execution_count": 131,
   "id": "b3e21634-4b5b-4d20-b758-faf43428f603",
   "metadata": {},
   "outputs": [],
   "source": [
    "#Question 3a Normalization"
   ]
  },
  {
   "cell_type": "code",
   "execution_count": 132,
   "id": "1ca14152-e73d-4b7f-9b16-cc0b33a462c4",
   "metadata": {},
   "outputs": [],
   "source": [
    "n3a = 6\n",
    "thetaQ3a = np.zeros(n)\n",
    "iterations3a = 1700\n",
    "alpha3a = 0.01\n",
    "lambda3a = 0.9\n",
    "thetaQ3a, cost_historyQ3atrain, cost_historyQ3atest = gd_pp(X_trainNorm2a,X_testNorm2a, y_trainNorm2a, y_testNorm2a, thetaQ3a, alpha3a, iterations3a, n3a, mTrain, mTest,lambda3a)"
   ]
  },
  {
   "cell_type": "code",
   "execution_count": 133,
   "id": "3a033c89-3ee2-4b47-b570-d313442738aa",
   "metadata": {},
   "outputs": [
    {
     "data": {
      "image/png": "[encoded data removed]",
      "text/plain": [
       "<Figure size 432x288 with 1 Axes>"
      ]
     },
     "metadata": {
      "needs_background": "light"
     },
     "output_type": "display_data"
    }
   ],
   "source": [
    "#plot the training and validation loss:\n",
    "plt.plot(range(1, iterations3a + 1),cost_historyQ3atrain, color='blue')\n",
    "plt.plot(range(1, iterations3a + 1),cost_historyQ3atest, color='red')\n",
    "\n",
    "plt.grid()\n",
    "plt.xlabel('Number of iterations')\n",
    "plt.ylabel('Cost (J)')\n",
    "plt.title('Normalized Training and Validation Losses Question 3a')\n",
    "plt.legend(['Training Loss', 'Validation Loss'])\n",
    "plt.savefig('/Users/Dillon/Desktop/Senior Year/4105/Homework1/3a_Norm.png')"
   ]
  },
  {
   "cell_type": "code",
   "execution_count": 134,
   "id": "8d67ab9f-144f-485d-860a-2fd8b9e948b7",
   "metadata": {},
   "outputs": [],
   "source": [
    "#Question 3a Standardization"
   ]
  },
  {
   "cell_type": "code",
   "execution_count": 135,
   "id": "99d07195-4836-4762-a169-1dabb96559e8",
   "metadata": {},
   "outputs": [],
   "source": [
    "thetaQ3astd = np.zeros(n)\n",
    "iterations3astd = 1700\n",
    "alpha3astd = 0.01\n",
    "lambda3astd = 0.99\n",
    "thetaQ3astd, cost_historyQ3astdtrain, cost_historyQ3astdtest = gd_pp(X_trainstd2a,X_teststd2a, y_trainstd2a, y_teststd2a, thetaQ3astd, alpha3astd, iterations3astd, n3a, mTrain, mTest,lambda3astd)"
   ]
  },
  {
   "cell_type": "code",
   "execution_count": 136,
   "id": "8521ebe4-845e-44be-96fe-21936fe8cd37",
   "metadata": {},
   "outputs": [
    {
     "data": {
      "image/png": "[encoded data removed]",
      "text/plain": [
       "<Figure size 432x288 with 1 Axes>"
      ]
     },
     "metadata": {
      "needs_background": "light"
     },
     "output_type": "display_data"
    }
   ],
   "source": [
    "#plot the training and validation loss:\n",
    "plt.plot(range(1, iterations3astd + 1),cost_historyQ3astdtrain, color='blue')\n",
    "plt.plot(range(1, iterations3astd + 1),cost_historyQ3astdtest, color='red')\n",
    "\n",
    "plt.grid()\n",
    "plt.xlabel('Number of iterations')\n",
    "plt.ylabel('Cost (J)')\n",
    "plt.title('Standardized Training and Validation Losses Question 3a')\n",
    "plt.legend(['Training Loss', 'Validation Loss'])\n",
    "plt.savefig('/Users/Dillon/Desktop/Senior Year/4105/Homework1/3a_STD.png')"
   ]
  },
  {
   "cell_type": "code",
   "execution_count": 137,
   "id": "ace0584d-6f67-4506-b9f4-f0be02231a59",
   "metadata": {},
   "outputs": [],
   "source": [
    "#Question 3b Normilization"
   ]
  },
  {
   "cell_type": "code",
   "execution_count": 138,
   "id": "4893827f-d54a-4225-9fad-666bb2db6dea",
   "metadata": {},
   "outputs": [],
   "source": [
    "n3b = 12\n",
    "thetaQ3b = np.zeros(n2b)\n",
    "iterations3b = 1300\n",
    "alpha3b = 0.01\n",
    "lambda3b = 1\n",
    "thetaQ3b, cost_historyQ3btrain, cost_historyQ3btest = gd_pp(X_trainNorm2b,X_testNorm2b, y_trainNorm2b, y_testNorm2b, thetaQ3b, alpha3b, iterations3b, n3b, mTrain, mTest, lambda3b)"
   ]
  },
  {
   "cell_type": "code",
   "execution_count": 143,
   "id": "f07e7643-a1c4-447a-8d0c-e8c542f5921c",
   "metadata": {},
   "outputs": [
    {
     "data": {
      "image/png": "[encoded data removed]",
      "text/plain": [
       "<Figure size 432x288 with 1 Axes>"
      ]
     },
     "metadata": {
      "needs_background": "light"
     },
     "output_type": "display_data"
    }
   ],
   "source": [
    "#plot the training and validation loss:\n",
    "plt.plot(range(1, iterations3b + 1),cost_historyQ3btrain, color='blue')\n",
    "plt.plot(range(1, iterations3b + 1),cost_historyQ3btest, color='red')\n",
    "plt.grid()\n",
    "plt.xlabel('Number of iterations')\n",
    "plt.ylabel('Cost (J)')\n",
    "plt.title('Normalized Training and Validation Losses Question 3b')\n",
    "plt.legend(['Training Loss', 'Validation Loss'])\n",
    "plt.savefig('/Users/Dillon/Desktop/Senior Year/4105/Homework1/3b_Norm.png')"
   ]
  },
  {
   "cell_type": "code",
   "execution_count": 140,
   "id": "983c22e3-749b-472e-9f3b-866773929c66",
   "metadata": {},
   "outputs": [],
   "source": [
    "#Question 3b Standardization"
   ]
  },
  {
   "cell_type": "code",
   "execution_count": 141,
   "id": "454eca8f-9ef6-468c-90c4-1fe7b741bb15",
   "metadata": {},
   "outputs": [],
   "source": [
    "thetaQ3bstd = np.zeros(n2b)\n",
    "iterations3bstd = 1700\n",
    "alpha3bstd = 0.01\n",
    "lambda3bstd = 0.99\n",
    "thetaQ3bstd, cost_historyQ3bstdtrain, cost_historyQ3bstdtest = gd_pp(X_trainstd2b,X_teststd2b, y_trainstd2b, y_teststd2b, thetaQ3bstd, alpha3bstd, iterations3bstd, n2b, mTrain, mTest,lambda3bstd)"
   ]
  },
  {
   "cell_type": "code",
   "execution_count": 142,
   "id": "c539239c-35b1-48fa-a766-b1331f22de01",
   "metadata": {},
   "outputs": [
    {
     "data": {
      "image/png": "[encoded data removed]",
      "text/plain": [
       "<Figure size 432x288 with 1 Axes>"
      ]
     },
     "metadata": {
      "needs_background": "light"
     },
     "output_type": "display_data"
    }
   ],
   "source": [
    "#plot the training and validation loss:\n",
    "plt.plot(range(1, iterations3bstd + 1),cost_historyQ3bstdtrain, color='blue')\n",
    "plt.plot(range(1, iterations3bstd + 1),cost_historyQ3bstdtest, color='red')\n",
    "plt.grid()\n",
    "plt.xlabel('Number of iterations')\n",
    "plt.ylabel('Cost (J)')\n",
    "plt.title('Standardized Training and Validation Losses Question 3b')\n",
    "plt.legend(['Training Loss', 'Validation Loss'])\n",
    "\n",
    "plt.savefig('/Users/Dillon/Desktop/Senior Year/4105/Homework1/3b_STD.png')"
   ]
  }
 ],
 "metadata": {
  "kernelspec": {
   "display_name": "Python 3",
   "language": "python",
   "name": "python3"
  },
  "language_info": {
   "codemirror_mode": {
    "name": "ipython",
    "version": 3
   },
   "file_extension": ".py",
   "mimetype": "text/x-python",
   "name": "python",
   "nbconvert_exporter": "python",
   "pygments_lexer": "ipython3",
   "version": "3.8.8"
  }
 },
 "nbformat": 4,
 "nbformat_minor": 5
}
