{
 "cells": [
  {
   "cell_type": "code",
   "execution_count": 1,
   "id": "9035903a-a32d-4bd7-9f33-48c757a4b97f",
   "metadata": {},
   "outputs": [],
   "source": [
    "import numpy as np\n",
    "import pandas as pd\n",
    "import matplotlib.pyplot as plt\n",
    "import seaborn as sns"
   ]
  },
  {
   "cell_type": "code",
   "execution_count": 2,
   "id": "79cf2ddb-c07f-4b34-8f7d-8c0d97846689",
   "metadata": {},
   "outputs": [
    {
     "data": {
      "text/html": [
       "<div>\n",
       "<style scoped>\n",
       "    .dataframe tbody tr th:only-of-type {\n",
       "        vertical-align: middle;\n",
       "    }\n",
       "\n",
       "    .dataframe tbody tr th {\n",
       "        vertical-align: top;\n",
       "    }\n",
       "\n",
       "    .dataframe thead th {\n",
       "        text-align: right;\n",
       "    }\n",
       "</style>\n",
       "<table border=\"1\" class=\"dataframe\">\n",
       "  <thead>\n",
       "    <tr style=\"text-align: right;\">\n",
       "      <th></th>\n",
       "      <th>type</th>\n",
       "      <th>fixed acidity</th>\n",
       "      <th>volatile acidity</th>\n",
       "      <th>citric acid</th>\n",
       "      <th>residual sugar</th>\n",
       "      <th>chlorides</th>\n",
       "      <th>free sulfur dioxide</th>\n",
       "      <th>total sulfur dioxide</th>\n",
       "      <th>density</th>\n",
       "      <th>pH</th>\n",
       "      <th>sulphates</th>\n",
       "      <th>alcohol</th>\n",
       "      <th>quality</th>\n",
       "    </tr>\n",
       "  </thead>\n",
       "  <tbody>\n",
       "    <tr>\n",
       "      <th>0</th>\n",
       "      <td>1</td>\n",
       "      <td>7.0</td>\n",
       "      <td>0.27</td>\n",
       "      <td>0.36</td>\n",
       "      <td>20.7</td>\n",
       "      <td>0.045</td>\n",
       "      <td>45.0</td>\n",
       "      <td>170.0</td>\n",
       "      <td>1.0010</td>\n",
       "      <td>3.00</td>\n",
       "      <td>0.45</td>\n",
       "      <td>8.8</td>\n",
       "      <td>6</td>\n",
       "    </tr>\n",
       "    <tr>\n",
       "      <th>1</th>\n",
       "      <td>1</td>\n",
       "      <td>6.3</td>\n",
       "      <td>0.30</td>\n",
       "      <td>0.34</td>\n",
       "      <td>1.6</td>\n",
       "      <td>0.049</td>\n",
       "      <td>14.0</td>\n",
       "      <td>132.0</td>\n",
       "      <td>0.9940</td>\n",
       "      <td>3.30</td>\n",
       "      <td>0.49</td>\n",
       "      <td>9.5</td>\n",
       "      <td>6</td>\n",
       "    </tr>\n",
       "    <tr>\n",
       "      <th>2</th>\n",
       "      <td>1</td>\n",
       "      <td>8.1</td>\n",
       "      <td>0.28</td>\n",
       "      <td>0.40</td>\n",
       "      <td>6.9</td>\n",
       "      <td>0.050</td>\n",
       "      <td>30.0</td>\n",
       "      <td>97.0</td>\n",
       "      <td>0.9951</td>\n",
       "      <td>3.26</td>\n",
       "      <td>0.44</td>\n",
       "      <td>10.1</td>\n",
       "      <td>6</td>\n",
       "    </tr>\n",
       "    <tr>\n",
       "      <th>3</th>\n",
       "      <td>1</td>\n",
       "      <td>7.2</td>\n",
       "      <td>0.23</td>\n",
       "      <td>0.32</td>\n",
       "      <td>8.5</td>\n",
       "      <td>0.058</td>\n",
       "      <td>47.0</td>\n",
       "      <td>186.0</td>\n",
       "      <td>0.9956</td>\n",
       "      <td>3.19</td>\n",
       "      <td>0.40</td>\n",
       "      <td>9.9</td>\n",
       "      <td>6</td>\n",
       "    </tr>\n",
       "    <tr>\n",
       "      <th>4</th>\n",
       "      <td>1</td>\n",
       "      <td>7.2</td>\n",
       "      <td>0.23</td>\n",
       "      <td>0.32</td>\n",
       "      <td>8.5</td>\n",
       "      <td>0.058</td>\n",
       "      <td>47.0</td>\n",
       "      <td>186.0</td>\n",
       "      <td>0.9956</td>\n",
       "      <td>3.19</td>\n",
       "      <td>0.40</td>\n",
       "      <td>9.9</td>\n",
       "      <td>6</td>\n",
       "    </tr>\n",
       "  </tbody>\n",
       "</table>\n",
       "</div>"
      ],
      "text/plain": [
       "   type  fixed acidity  volatile acidity  citric acid  residual sugar  \\\n",
       "0     1            7.0              0.27         0.36            20.7   \n",
       "1     1            6.3              0.30         0.34             1.6   \n",
       "2     1            8.1              0.28         0.40             6.9   \n",
       "3     1            7.2              0.23         0.32             8.5   \n",
       "4     1            7.2              0.23         0.32             8.5   \n",
       "\n",
       "   chlorides  free sulfur dioxide  total sulfur dioxide  density    pH  \\\n",
       "0      0.045                 45.0                 170.0   1.0010  3.00   \n",
       "1      0.049                 14.0                 132.0   0.9940  3.30   \n",
       "2      0.050                 30.0                  97.0   0.9951  3.26   \n",
       "3      0.058                 47.0                 186.0   0.9956  3.19   \n",
       "4      0.058                 47.0                 186.0   0.9956  3.19   \n",
       "\n",
       "   sulphates  alcohol  quality  \n",
       "0       0.45      8.8        6  \n",
       "1       0.49      9.5        6  \n",
       "2       0.44     10.1        6  \n",
       "3       0.40      9.9        6  \n",
       "4       0.40      9.9        6  "
      ]
     },
     "execution_count": 2,
     "metadata": {},
     "output_type": "execute_result"
    }
   ],
   "source": [
    "#import white wine\n",
    "wine_white = pd.DataFrame(pd.read_csv(\"winequality-white.csv\", sep = ';')) \n",
    "wine_white.insert(0, 'type', 1)\n",
    "wine_white.head()"
   ]
  },
  {
   "cell_type": "code",
   "execution_count": 3,
   "id": "8c7379f1-4cb9-4a8c-b585-90a0f7b483b4",
   "metadata": {},
   "outputs": [
    {
     "data": {
      "text/html": [
       "<div>\n",
       "<style scoped>\n",
       "    .dataframe tbody tr th:only-of-type {\n",
       "        vertical-align: middle;\n",
       "    }\n",
       "\n",
       "    .dataframe tbody tr th {\n",
       "        vertical-align: top;\n",
       "    }\n",
       "\n",
       "    .dataframe thead th {\n",
       "        text-align: right;\n",
       "    }\n",
       "</style>\n",
       "<table border=\"1\" class=\"dataframe\">\n",
       "  <thead>\n",
       "    <tr style=\"text-align: right;\">\n",
       "      <th></th>\n",
       "      <th>type</th>\n",
       "      <th>fixed acidity</th>\n",
       "      <th>volatile acidity</th>\n",
       "      <th>citric acid</th>\n",
       "      <th>residual sugar</th>\n",
       "      <th>chlorides</th>\n",
       "      <th>free sulfur dioxide</th>\n",
       "      <th>total sulfur dioxide</th>\n",
       "      <th>density</th>\n",
       "      <th>pH</th>\n",
       "      <th>sulphates</th>\n",
       "      <th>alcohol</th>\n",
       "      <th>quality</th>\n",
       "    </tr>\n",
       "  </thead>\n",
       "  <tbody>\n",
       "    <tr>\n",
       "      <th>0</th>\n",
       "      <td>0</td>\n",
       "      <td>7.4</td>\n",
       "      <td>0.70</td>\n",
       "      <td>0.00</td>\n",
       "      <td>1.9</td>\n",
       "      <td>0.076</td>\n",
       "      <td>11.0</td>\n",
       "      <td>34.0</td>\n",
       "      <td>0.9978</td>\n",
       "      <td>3.51</td>\n",
       "      <td>0.56</td>\n",
       "      <td>9.4</td>\n",
       "      <td>5</td>\n",
       "    </tr>\n",
       "    <tr>\n",
       "      <th>1</th>\n",
       "      <td>0</td>\n",
       "      <td>7.8</td>\n",
       "      <td>0.88</td>\n",
       "      <td>0.00</td>\n",
       "      <td>2.6</td>\n",
       "      <td>0.098</td>\n",
       "      <td>25.0</td>\n",
       "      <td>67.0</td>\n",
       "      <td>0.9968</td>\n",
       "      <td>3.20</td>\n",
       "      <td>0.68</td>\n",
       "      <td>9.8</td>\n",
       "      <td>5</td>\n",
       "    </tr>\n",
       "    <tr>\n",
       "      <th>2</th>\n",
       "      <td>0</td>\n",
       "      <td>7.8</td>\n",
       "      <td>0.76</td>\n",
       "      <td>0.04</td>\n",
       "      <td>2.3</td>\n",
       "      <td>0.092</td>\n",
       "      <td>15.0</td>\n",
       "      <td>54.0</td>\n",
       "      <td>0.9970</td>\n",
       "      <td>3.26</td>\n",
       "      <td>0.65</td>\n",
       "      <td>9.8</td>\n",
       "      <td>5</td>\n",
       "    </tr>\n",
       "    <tr>\n",
       "      <th>3</th>\n",
       "      <td>0</td>\n",
       "      <td>11.2</td>\n",
       "      <td>0.28</td>\n",
       "      <td>0.56</td>\n",
       "      <td>1.9</td>\n",
       "      <td>0.075</td>\n",
       "      <td>17.0</td>\n",
       "      <td>60.0</td>\n",
       "      <td>0.9980</td>\n",
       "      <td>3.16</td>\n",
       "      <td>0.58</td>\n",
       "      <td>9.8</td>\n",
       "      <td>6</td>\n",
       "    </tr>\n",
       "    <tr>\n",
       "      <th>4</th>\n",
       "      <td>0</td>\n",
       "      <td>7.4</td>\n",
       "      <td>0.70</td>\n",
       "      <td>0.00</td>\n",
       "      <td>1.9</td>\n",
       "      <td>0.076</td>\n",
       "      <td>11.0</td>\n",
       "      <td>34.0</td>\n",
       "      <td>0.9978</td>\n",
       "      <td>3.51</td>\n",
       "      <td>0.56</td>\n",
       "      <td>9.4</td>\n",
       "      <td>5</td>\n",
       "    </tr>\n",
       "  </tbody>\n",
       "</table>\n",
       "</div>"
      ],
      "text/plain": [
       "   type  fixed acidity  volatile acidity  citric acid  residual sugar  \\\n",
       "0     0            7.4              0.70         0.00             1.9   \n",
       "1     0            7.8              0.88         0.00             2.6   \n",
       "2     0            7.8              0.76         0.04             2.3   \n",
       "3     0           11.2              0.28         0.56             1.9   \n",
       "4     0            7.4              0.70         0.00             1.9   \n",
       "\n",
       "   chlorides  free sulfur dioxide  total sulfur dioxide  density    pH  \\\n",
       "0      0.076                 11.0                  34.0   0.9978  3.51   \n",
       "1      0.098                 25.0                  67.0   0.9968  3.20   \n",
       "2      0.092                 15.0                  54.0   0.9970  3.26   \n",
       "3      0.075                 17.0                  60.0   0.9980  3.16   \n",
       "4      0.076                 11.0                  34.0   0.9978  3.51   \n",
       "\n",
       "   sulphates  alcohol  quality  \n",
       "0       0.56      9.4        5  \n",
       "1       0.68      9.8        5  \n",
       "2       0.65      9.8        5  \n",
       "3       0.58      9.8        6  \n",
       "4       0.56      9.4        5  "
      ]
     },
     "execution_count": 3,
     "metadata": {},
     "output_type": "execute_result"
    }
   ],
   "source": [
    "#import red wine\n",
    "wine_red = pd.DataFrame(pd.read_csv(\"winequality-red.csv\", sep = ';'))\n",
    "wine_red.insert(0, 'type', 0)\n",
    "wine_red.head()"
   ]
  },
  {
   "cell_type": "code",
   "execution_count": 4,
   "id": "66f84cf6-28cc-473a-a4b7-e081cbb84344",
   "metadata": {},
   "outputs": [
    {
     "data": {
      "text/html": [
       "<div>\n",
       "<style scoped>\n",
       "    .dataframe tbody tr th:only-of-type {\n",
       "        vertical-align: middle;\n",
       "    }\n",
       "\n",
       "    .dataframe tbody tr th {\n",
       "        vertical-align: top;\n",
       "    }\n",
       "\n",
       "    .dataframe thead th {\n",
       "        text-align: right;\n",
       "    }\n",
       "</style>\n",
       "<table border=\"1\" class=\"dataframe\">\n",
       "  <thead>\n",
       "    <tr style=\"text-align: right;\">\n",
       "      <th></th>\n",
       "      <th>type</th>\n",
       "      <th>fixed acidity</th>\n",
       "      <th>volatile acidity</th>\n",
       "      <th>citric acid</th>\n",
       "      <th>residual sugar</th>\n",
       "      <th>chlorides</th>\n",
       "      <th>free sulfur dioxide</th>\n",
       "      <th>total sulfur dioxide</th>\n",
       "      <th>density</th>\n",
       "      <th>pH</th>\n",
       "      <th>sulphates</th>\n",
       "      <th>alcohol</th>\n",
       "      <th>quality</th>\n",
       "    </tr>\n",
       "  </thead>\n",
       "  <tbody>\n",
       "    <tr>\n",
       "      <th>0</th>\n",
       "      <td>1</td>\n",
       "      <td>7.0</td>\n",
       "      <td>0.270</td>\n",
       "      <td>0.36</td>\n",
       "      <td>20.7</td>\n",
       "      <td>0.045</td>\n",
       "      <td>45.0</td>\n",
       "      <td>170.0</td>\n",
       "      <td>1.00100</td>\n",
       "      <td>3.00</td>\n",
       "      <td>0.45</td>\n",
       "      <td>8.8</td>\n",
       "      <td>6</td>\n",
       "    </tr>\n",
       "    <tr>\n",
       "      <th>1</th>\n",
       "      <td>1</td>\n",
       "      <td>6.3</td>\n",
       "      <td>0.300</td>\n",
       "      <td>0.34</td>\n",
       "      <td>1.6</td>\n",
       "      <td>0.049</td>\n",
       "      <td>14.0</td>\n",
       "      <td>132.0</td>\n",
       "      <td>0.99400</td>\n",
       "      <td>3.30</td>\n",
       "      <td>0.49</td>\n",
       "      <td>9.5</td>\n",
       "      <td>6</td>\n",
       "    </tr>\n",
       "    <tr>\n",
       "      <th>2</th>\n",
       "      <td>1</td>\n",
       "      <td>8.1</td>\n",
       "      <td>0.280</td>\n",
       "      <td>0.40</td>\n",
       "      <td>6.9</td>\n",
       "      <td>0.050</td>\n",
       "      <td>30.0</td>\n",
       "      <td>97.0</td>\n",
       "      <td>0.99510</td>\n",
       "      <td>3.26</td>\n",
       "      <td>0.44</td>\n",
       "      <td>10.1</td>\n",
       "      <td>6</td>\n",
       "    </tr>\n",
       "    <tr>\n",
       "      <th>3</th>\n",
       "      <td>1</td>\n",
       "      <td>7.2</td>\n",
       "      <td>0.230</td>\n",
       "      <td>0.32</td>\n",
       "      <td>8.5</td>\n",
       "      <td>0.058</td>\n",
       "      <td>47.0</td>\n",
       "      <td>186.0</td>\n",
       "      <td>0.99560</td>\n",
       "      <td>3.19</td>\n",
       "      <td>0.40</td>\n",
       "      <td>9.9</td>\n",
       "      <td>6</td>\n",
       "    </tr>\n",
       "    <tr>\n",
       "      <th>4</th>\n",
       "      <td>1</td>\n",
       "      <td>7.2</td>\n",
       "      <td>0.230</td>\n",
       "      <td>0.32</td>\n",
       "      <td>8.5</td>\n",
       "      <td>0.058</td>\n",
       "      <td>47.0</td>\n",
       "      <td>186.0</td>\n",
       "      <td>0.99560</td>\n",
       "      <td>3.19</td>\n",
       "      <td>0.40</td>\n",
       "      <td>9.9</td>\n",
       "      <td>6</td>\n",
       "    </tr>\n",
       "    <tr>\n",
       "      <th>...</th>\n",
       "      <td>...</td>\n",
       "      <td>...</td>\n",
       "      <td>...</td>\n",
       "      <td>...</td>\n",
       "      <td>...</td>\n",
       "      <td>...</td>\n",
       "      <td>...</td>\n",
       "      <td>...</td>\n",
       "      <td>...</td>\n",
       "      <td>...</td>\n",
       "      <td>...</td>\n",
       "      <td>...</td>\n",
       "      <td>...</td>\n",
       "    </tr>\n",
       "    <tr>\n",
       "      <th>6492</th>\n",
       "      <td>0</td>\n",
       "      <td>6.2</td>\n",
       "      <td>0.600</td>\n",
       "      <td>0.08</td>\n",
       "      <td>2.0</td>\n",
       "      <td>0.090</td>\n",
       "      <td>32.0</td>\n",
       "      <td>44.0</td>\n",
       "      <td>0.99490</td>\n",
       "      <td>3.45</td>\n",
       "      <td>0.58</td>\n",
       "      <td>10.5</td>\n",
       "      <td>5</td>\n",
       "    </tr>\n",
       "    <tr>\n",
       "      <th>6493</th>\n",
       "      <td>0</td>\n",
       "      <td>5.9</td>\n",
       "      <td>0.550</td>\n",
       "      <td>0.10</td>\n",
       "      <td>2.2</td>\n",
       "      <td>0.062</td>\n",
       "      <td>39.0</td>\n",
       "      <td>51.0</td>\n",
       "      <td>0.99512</td>\n",
       "      <td>3.52</td>\n",
       "      <td>0.76</td>\n",
       "      <td>11.2</td>\n",
       "      <td>6</td>\n",
       "    </tr>\n",
       "    <tr>\n",
       "      <th>6494</th>\n",
       "      <td>0</td>\n",
       "      <td>6.3</td>\n",
       "      <td>0.510</td>\n",
       "      <td>0.13</td>\n",
       "      <td>2.3</td>\n",
       "      <td>0.076</td>\n",
       "      <td>29.0</td>\n",
       "      <td>40.0</td>\n",
       "      <td>0.99574</td>\n",
       "      <td>3.42</td>\n",
       "      <td>0.75</td>\n",
       "      <td>11.0</td>\n",
       "      <td>6</td>\n",
       "    </tr>\n",
       "    <tr>\n",
       "      <th>6495</th>\n",
       "      <td>0</td>\n",
       "      <td>5.9</td>\n",
       "      <td>0.645</td>\n",
       "      <td>0.12</td>\n",
       "      <td>2.0</td>\n",
       "      <td>0.075</td>\n",
       "      <td>32.0</td>\n",
       "      <td>44.0</td>\n",
       "      <td>0.99547</td>\n",
       "      <td>3.57</td>\n",
       "      <td>0.71</td>\n",
       "      <td>10.2</td>\n",
       "      <td>5</td>\n",
       "    </tr>\n",
       "    <tr>\n",
       "      <th>6496</th>\n",
       "      <td>0</td>\n",
       "      <td>6.0</td>\n",
       "      <td>0.310</td>\n",
       "      <td>0.47</td>\n",
       "      <td>3.6</td>\n",
       "      <td>0.067</td>\n",
       "      <td>18.0</td>\n",
       "      <td>42.0</td>\n",
       "      <td>0.99549</td>\n",
       "      <td>3.39</td>\n",
       "      <td>0.66</td>\n",
       "      <td>11.0</td>\n",
       "      <td>6</td>\n",
       "    </tr>\n",
       "  </tbody>\n",
       "</table>\n",
       "<p>6497 rows × 13 columns</p>\n",
       "</div>"
      ],
      "text/plain": [
       "      type  fixed acidity  volatile acidity  citric acid  residual sugar  \\\n",
       "0        1            7.0             0.270         0.36            20.7   \n",
       "1        1            6.3             0.300         0.34             1.6   \n",
       "2        1            8.1             0.280         0.40             6.9   \n",
       "3        1            7.2             0.230         0.32             8.5   \n",
       "4        1            7.2             0.230         0.32             8.5   \n",
       "...    ...            ...               ...          ...             ...   \n",
       "6492     0            6.2             0.600         0.08             2.0   \n",
       "6493     0            5.9             0.550         0.10             2.2   \n",
       "6494     0            6.3             0.510         0.13             2.3   \n",
       "6495     0            5.9             0.645         0.12             2.0   \n",
       "6496     0            6.0             0.310         0.47             3.6   \n",
       "\n",
       "      chlorides  free sulfur dioxide  total sulfur dioxide  density    pH  \\\n",
       "0         0.045                 45.0                 170.0  1.00100  3.00   \n",
       "1         0.049                 14.0                 132.0  0.99400  3.30   \n",
       "2         0.050                 30.0                  97.0  0.99510  3.26   \n",
       "3         0.058                 47.0                 186.0  0.99560  3.19   \n",
       "4         0.058                 47.0                 186.0  0.99560  3.19   \n",
       "...         ...                  ...                   ...      ...   ...   \n",
       "6492      0.090                 32.0                  44.0  0.99490  3.45   \n",
       "6493      0.062                 39.0                  51.0  0.99512  3.52   \n",
       "6494      0.076                 29.0                  40.0  0.99574  3.42   \n",
       "6495      0.075                 32.0                  44.0  0.99547  3.57   \n",
       "6496      0.067                 18.0                  42.0  0.99549  3.39   \n",
       "\n",
       "      sulphates  alcohol  quality  \n",
       "0          0.45      8.8        6  \n",
       "1          0.49      9.5        6  \n",
       "2          0.44     10.1        6  \n",
       "3          0.40      9.9        6  \n",
       "4          0.40      9.9        6  \n",
       "...         ...      ...      ...  \n",
       "6492       0.58     10.5        5  \n",
       "6493       0.76     11.2        6  \n",
       "6494       0.75     11.0        6  \n",
       "6495       0.71     10.2        5  \n",
       "6496       0.66     11.0        6  \n",
       "\n",
       "[6497 rows x 13 columns]"
      ]
     },
     "execution_count": 4,
     "metadata": {},
     "output_type": "execute_result"
    }
   ],
   "source": [
    "#combine both datasets into one\n",
    "wine = pd.concat([wine_white, wine_red], axis = 0)\n",
    "wine = wine.reset_index(drop=True)\n",
    "wine"
   ]
  },
  {
   "cell_type": "code",
   "execution_count": 5,
   "id": "0302c782-fd72-499f-9447-2d633a3084c5",
   "metadata": {},
   "outputs": [
    {
     "data": {
      "text/plain": [
       "0       1\n",
       "1       1\n",
       "2       1\n",
       "3       1\n",
       "4       1\n",
       "       ..\n",
       "6492    0\n",
       "6493    0\n",
       "6494    0\n",
       "6495    0\n",
       "6496    0\n",
       "Name: type, Length: 6497, dtype: int64"
      ]
     },
     "execution_count": 5,
     "metadata": {},
     "output_type": "execute_result"
    }
   ],
   "source": [
    "#Split data set between parameters and output\n",
    "X = wine.iloc[:, range(1, 13)]\n",
    "Y = wine.iloc[:, 0]\n",
    "Y"
   ]
  },
  {
   "cell_type": "code",
   "execution_count": 6,
   "id": "40555e05-8afc-42b6-a104-654f610ba2e7",
   "metadata": {},
   "outputs": [],
   "source": [
    "#split data set into X and Y training and testing sets\n",
    "from sklearn.model_selection import train_test_split\n",
    "\n",
    "np.random.seed(0)\n",
    "#splitting 70% data for training, 30% data for testing\n",
    "X_train, X_test, Y_train, Y_test = train_test_split(X, Y, test_size = 0.30, random_state = 42)"
   ]
  },
  {
   "cell_type": "code",
   "execution_count": 7,
   "id": "fe95cd07-fd9a-43fd-9d91-adc12c1a5f7f",
   "metadata": {},
   "outputs": [],
   "source": [
    "import warnings\n",
    "warnings.filterwarnings('ignore')\n",
    "from sklearn.preprocessing import StandardScaler\n",
    "\n",
    "#Standardizing the parameters so they are all equally weighted during training\n",
    "scalerStand = StandardScaler()\n",
    "X_train = scalerStand.fit_transform(X_train)\n",
    "X_test = scalerStand.fit_transform(X_test)"
   ]
  },
  {
   "cell_type": "code",
   "execution_count": 8,
   "id": "bf0d60af-e774-4a19-80f1-b5833aff4f9f",
   "metadata": {},
   "outputs": [
    {
     "data": {
      "text/plain": [
       "LogisticRegression()"
      ]
     },
     "execution_count": 8,
     "metadata": {},
     "output_type": "execute_result"
    }
   ],
   "source": [
    "from sklearn.linear_model import LogisticRegression\n",
    "\n",
    "#preforming logistic regression on the training set\n",
    "np.random.seed(0)\n",
    "classifier = LogisticRegression()\n",
    "classifier.fit(X_train, Y_train)"
   ]
  },
  {
   "cell_type": "code",
   "execution_count": 9,
   "id": "fce6deec-a63f-4f63-9072-23586d7809eb",
   "metadata": {},
   "outputs": [
    {
     "data": {
      "text/plain": [
       "array([1, 1, 1, 1, 1, 1, 1, 0, 1], dtype=int64)"
      ]
     },
     "execution_count": 9,
     "metadata": {},
     "output_type": "execute_result"
    }
   ],
   "source": [
    "#using the Logistic regression model to predict the output of testing set\n",
    "Y_pred = classifier.predict(X_test)\n",
    "Y_pred[0:9]"
   ]
  },
  {
   "cell_type": "code",
   "execution_count": 10,
   "id": "d116637a-790d-4f05-8ebd-cbccb7ee61f7",
   "metadata": {},
   "outputs": [],
   "source": [
    "#Creating a confusion matrix that compares predicted values to actual values\n",
    "from sklearn.metrics import confusion_matrix\n",
    "cm = confusion_matrix(Y_test, Y_pred)"
   ]
  },
  {
   "cell_type": "code",
   "execution_count": 29,
   "id": "70dd3cd6-3792-4e71-99fc-7ecd4438d350",
   "metadata": {},
   "outputs": [],
   "source": [
    "#Printing the accuracy, precision, and recall\n",
    "from sklearn import metrics \n",
    "normalLR_acc = metrics.accuracy_score(Y_test, Y_pred)\n",
    "normalLR_prec = metrics.precision_score(Y_test, Y_pred)\n",
    "normalLR_rec = metrics.recall_score(Y_test, Y_pred)"
   ]
  },
  {
   "cell_type": "code",
   "execution_count": 12,
   "id": "fb558674-2cfa-4d88-bbae-80420a1cfeb6",
   "metadata": {},
   "outputs": [
    {
     "data": {
      "image/png": "[encoded data removed]",
      "text/plain": [
       "<Figure size 432x288 with 2 Axes>"
      ]
     },
     "metadata": {
      "needs_background": "light"
     },
     "output_type": "display_data"
    }
   ],
   "source": [
    "#Plotting Confusion Matrix of predicted vs actual values\n",
    "import seaborn as sns \n",
    "class_names=[0,1] # name  of classes \n",
    "fig, ax = plt.subplots() \n",
    "tick_marks = np.arange(len(class_names)) \n",
    "plt.xticks(tick_marks, class_names) \n",
    "plt.yticks(tick_marks, class_names) \n",
    "# create heatmap \n",
    "sns.heatmap(pd.DataFrame(cm), annot=True, cmap=\"YlGnBu\" ,fmt='g') \n",
    "ax.xaxis.set_label_position(\"top\") \n",
    "plt.tight_layout() \n",
    "plt.title('Confusion matrix using Logistic Regression with Standardization', y=1.1) \n",
    "plt.ylabel('Actual Wine') \n",
    "plt.xlabel('Predicted Wine');"
   ]
  },
  {
   "cell_type": "code",
   "execution_count": 13,
   "id": "3b026f0d-36e6-41b1-acd2-be592d4defbe",
   "metadata": {},
   "outputs": [],
   "source": [
    "X = scalerStand.fit_transform(X)"
   ]
  },
  {
   "cell_type": "code",
   "execution_count": 14,
   "id": "035af8a6-22f7-49b5-995b-ab7b6c677621",
   "metadata": {},
   "outputs": [],
   "source": [
    "#creating matrices for accuracy, precision, and recall\n",
    "acc_score = []\n",
    "precision_score = []\n",
    "recall_score = []"
   ]
  },
  {
   "cell_type": "code",
   "execution_count": 15,
   "id": "54634f7c-929f-4925-bc16-0ef906b16f5f",
   "metadata": {},
   "outputs": [],
   "source": [
    "from sklearn.decomposition import PCA\n",
    "N = 12 #components\n",
    "#for loop to iterate through pca with n components\n",
    "for x in range(N):\n",
    "    if x <= 1: #PCA does not work when N <= 1\n",
    "        acc_score.append(0)\n",
    "        precision_score.append(0)\n",
    "        recall_score.append(0)\n",
    "    else:\n",
    "        #Performing PCA on dataset inputs\n",
    "        pca = PCA(n_components=x) \n",
    "        principalComponents = pca.fit_transform(X) \n",
    "        wine_pca = pd.DataFrame(data = principalComponents) \n",
    "        final_wine_pca = pd.concat([wine_pca, wine[['type']]], axis = 1)\n",
    "        \n",
    "        X2 = final_wine_pca.iloc[:, range(x)]\n",
    "        Y2 = final_wine_pca.iloc[:, x]\n",
    "    \n",
    "        np.random.seed(0)\n",
    "        #70% data for training, 30% data for testing\n",
    "        X2_train, X2_test, Y2_train, Y2_test = train_test_split(X2, Y2, test_size = 0.30, random_state = 42)\n",
    "    \n",
    "        #performing logistic regression on the dataset PCA\n",
    "        classifier.fit(X2_train, Y2_train)\n",
    "        Y2_pred = classifier.predict(X2_test)\n",
    "        \n",
    "        #Creating a confusion matrix that compares predicted values to actual values\n",
    "        from sklearn.metrics import confusion_matrix\n",
    "        cm_pca = confusion_matrix(Y2_test, Y2_pred)\n",
    "    \n",
    "        acc = metrics.accuracy_score(Y2_pred, Y2_test)\n",
    "        acc_score.append(acc)\n",
    "        \n",
    "        pres = metrics.precision_score(Y2_pred, Y2_test)\n",
    "        precision_score.append(pres)\n",
    "    \n",
    "        recall = metrics.recall_score(Y2_pred, Y2_test)\n",
    "        recall_score.append(recall)"
   ]
  },
  {
   "cell_type": "code",
   "execution_count": 16,
   "id": "79eb34cd-c4ef-4055-8c1b-3fee8212326c",
   "metadata": {},
   "outputs": [
    {
     "data": {
      "image/png": "[encoded data removed]",
      "text/plain": [
       "<Figure size 432x432 with 1 Axes>"
      ]
     },
     "metadata": {
      "needs_background": "light"
     },
     "output_type": "display_data"
    }
   ],
   "source": [
    "#plot PCA: N vs Accuracy, precision, and recall\n",
    "n = np.array( range(N))\n",
    "fig, ax = plt.subplots(figsize =(6, 6))\n",
    "plt.title(\"Logistic Regression with PCA\")\n",
    "plt.xticks(range(N))\n",
    "plt.plot(n, acc_score, color = 'blue', label = 'Accuracy')\n",
    "plt.plot(n, precision_score, color = 'red', label = 'Precision')\n",
    "plt.plot(n, recall_score, color = 'green', label = 'Recall')\n",
    "plt.legend()\n",
    "plt.ylim([0.98, 1])\n",
    "plt.xlim([2, 11])\n",
    "plt.xlabel('N')\n",
    "plt.ylabel('%')\n",
    "plt.show()"
   ]
  },
  {
   "cell_type": "code",
   "execution_count": 17,
   "id": "0efeba50-b8ce-4b49-86e8-fb33c21fa810",
   "metadata": {},
   "outputs": [
    {
     "name": "stdout",
     "output_type": "stream",
     "text": [
      "Accuracy: 0.9866666666666667\n",
      "Precision: 0.9932111337406653\n",
      "Recall: 0.9891818796484111\n"
     ]
    }
   ],
   "source": [
    "#Printing the accuracy, precision, and recall\n",
    "from sklearn import metrics \n",
    "print(\"Accuracy:\",acc_score[11]) \n",
    "print(\"Precision:\",precision_score[11]) \n",
    "print(\"Recall:\",recall_score[11])"
   ]
  },
  {
   "cell_type": "code",
   "execution_count": 18,
   "id": "d2663be1-65d4-499b-9dfb-b0d4702431ad",
   "metadata": {},
   "outputs": [
    {
     "data": {
      "image/png": "[encoded data removed]",
      "text/plain": [
       "<Figure size 432x288 with 2 Axes>"
      ]
     },
     "metadata": {
      "needs_background": "light"
     },
     "output_type": "display_data"
    }
   ],
   "source": [
    "#Plotting Confusion Matrix of predicted vs actual values\n",
    "import seaborn as sns \n",
    "class_names=[0,1] # name  of classes \n",
    "fig, ax = plt.subplots() \n",
    "tick_marks = np.arange(len(class_names)) \n",
    "plt.xticks(tick_marks, class_names) \n",
    "plt.yticks(tick_marks, class_names) \n",
    "# create heatmap \n",
    "sns.heatmap(pd.DataFrame(cm_pca), annot=True, cmap=\"YlGnBu\" ,fmt='g') \n",
    "ax.xaxis.set_label_position(\"top\") \n",
    "plt.tight_layout() \n",
    "plt.title('Confusion Matrix for PCA when N = 11', y=1.1) \n",
    "plt.ylabel('Actual Wine') \n",
    "plt.xlabel('Predicted Wine');"
   ]
  },
  {
   "cell_type": "code",
   "execution_count": 19,
   "id": "3df37043-b553-4ccb-9e67-8bec22c6e701",
   "metadata": {},
   "outputs": [],
   "source": [
    "from sklearn.discriminant_analysis import LinearDiscriminantAnalysis\n",
    "\n",
    "#performing LDA on the dataset\n",
    "lda = LinearDiscriminantAnalysis(n_components=1) \n",
    "principalComponents1 = lda.fit_transform(X, Y) \n",
    "wine_lda = pd.DataFrame(data = principalComponents1) \n",
    "final_wine_lda = pd.concat([wine_lda, wine[['type']]], axis = 1)\n",
    "\n",
    "np.random.seed(0)\n",
    "#70% data for training, 30% data for testing\n",
    "lda_train, lda_test = train_test_split(final_wine_lda, test_size = 0.30, random_state = 0)\n",
    "\n",
    "\n",
    "#splitting inputs and output\n",
    "X_trainlda = lda_train.loc[:, 0].values\n",
    "Y_trainlda = lda_train.loc[:, ['type']].values\n",
    "\n",
    "X_testlda = lda_test.loc[:, 0].values\n",
    "Y_testlda = lda_test.loc[:, ['type']].values"
   ]
  },
  {
   "cell_type": "code",
   "execution_count": 30,
   "id": "041027b0-36f0-47da-a3ba-0a87a629daf6",
   "metadata": {},
   "outputs": [],
   "source": [
    "from sklearn.naive_bayes import GaussianNB\n",
    "\n",
    "#performing gaussian naive bayes on the dataset after LDA\n",
    "classifierG = GaussianNB()\n",
    "classifierG.fit(X_trainlda.reshape(-1, 1), Y_trainlda.ravel())\n",
    "Y_predlda = classifierG.predict(X_testlda.reshape(-1,1))\n",
    "\n",
    "cm_lda_g = confusion_matrix(Y_testlda, Y_predlda)\n",
    "\n",
    "#printing the accuracy, regression, and recall\n",
    "LDA_g_acc = metrics.accuracy_score(Y_testlda, Y_predlda) \n",
    "LDA_g_prec = metrics.precision_score(Y_testlda, Y_predlda) \n",
    "LDA_g_rec = metrics.recall_score(Y_testlda, Y_predlda)"
   ]
  },
  {
   "cell_type": "code",
   "execution_count": 31,
   "id": "21bc4e6d-ed21-4570-998e-59f307e6d8b0",
   "metadata": {},
   "outputs": [
    {
     "data": {
      "image/png": "[encoded data removed]",
      "text/plain": [
       "<Figure size 432x288 with 2 Axes>"
      ]
     },
     "metadata": {
      "needs_background": "light"
     },
     "output_type": "display_data"
    }
   ],
   "source": [
    "#Plotting Confusion Matrix of predicted vs actual values\n",
    "import seaborn as sns \n",
    "class_names=[0,1] # name  of classes \n",
    "fig, ax = plt.subplots() \n",
    "tick_marks = np.arange(len(class_names)) \n",
    "plt.xticks(tick_marks, class_names) \n",
    "plt.yticks(tick_marks, class_names) \n",
    "# create heatmap \n",
    "sns.heatmap(pd.DataFrame(cm_lda_g), annot=True, cmap=\"YlGnBu\" ,fmt='g') \n",
    "ax.xaxis.set_label_position(\"top\") \n",
    "plt.tight_layout() \n",
    "plt.title('Confusion Matrix for LDA with Naive Bayes', y=1.1) \n",
    "plt.ylabel('Actual Wine') \n",
    "plt.xlabel('Predicted Wine');"
   ]
  },
  {
   "cell_type": "code",
   "execution_count": 36,
   "id": "8586efe5-8347-445a-8b3c-343209c17f6a",
   "metadata": {},
   "outputs": [],
   "source": [
    "np.random.seed(0)\n",
    "#70% data for training, 30% data for testing\n",
    "lda2_train, lda2_test = train_test_split(final_wine_lda, test_size = 0.30, random_state = 42)\n",
    "\n",
    "#splitting inputs and outputs\n",
    "X2_trainlda = lda2_train.loc[:, 0].values\n",
    "Y2_trainlda = lda2_train.loc[:, ['type']].values\n",
    "\n",
    "X2_testlda = lda2_test.loc[:, 0].values\n",
    "Y2_testlda = lda2_test.loc[:, ['type']].values\n",
    "\n",
    "#performing logistic regression on the dataset after lda\n",
    "classifier.fit(X2_trainlda.reshape(-1, 1), Y2_trainlda.ravel())\n",
    "Y_predlda2 = classifier.predict(X2_testlda.reshape(-1,1))\n",
    "\n",
    "cm_lda = confusion_matrix(Y2_testlda, Y_predlda2)\n",
    "#printing the accuracy, regression, and recall\n",
    "LDA_lr_acc = metrics.accuracy_score(Y2_testlda, Y_predlda2) \n",
    "LDA_lr_prec = metrics.precision_score(Y2_testlda, Y_predlda2) \n",
    "LDA_lr_rec = metrics.recall_score(Y2_testlda, Y_predlda2)"
   ]
  },
  {
   "cell_type": "code",
   "execution_count": 23,
   "id": "61f801bf-be21-4d1b-a1f6-43399dd39b0a",
   "metadata": {},
   "outputs": [
    {
     "data": {
      "image/png": "[encoded data removed]",
      "text/plain": [
       "<Figure size 432x288 with 2 Axes>"
      ]
     },
     "metadata": {
      "needs_background": "light"
     },
     "output_type": "display_data"
    }
   ],
   "source": [
    "#Plotting Confusion Matrix of predicted vs actual values\n",
    "import seaborn as sns \n",
    "class_names=[0,1] # name  of classes \n",
    "fig, ax = plt.subplots() \n",
    "tick_marks = np.arange(len(class_names)) \n",
    "plt.xticks(tick_marks, class_names) \n",
    "plt.yticks(tick_marks, class_names) \n",
    "# create heatmap \n",
    "sns.heatmap(pd.DataFrame(cm_lda), annot=True, cmap=\"YlGnBu\" ,fmt='g') \n",
    "ax.xaxis.set_label_position(\"top\") \n",
    "plt.tight_layout() \n",
    "plt.title('Confusion Matrix for LDA with Logistic Regression', y=1.1) \n",
    "plt.ylabel('Actual Wine') \n",
    "plt.xlabel('Predicted Wine');"
   ]
  },
  {
   "cell_type": "code",
   "execution_count": 41,
   "id": "0301f395-e25e-44f7-bdc5-caf9ab12f340",
   "metadata": {},
   "outputs": [
    {
     "data": {
      "image/png": "[encoded data removed]",
      "text/plain": [
       "<Figure size 432x288 with 1 Axes>"
      ]
     },
     "metadata": {
      "needs_background": "light"
     },
     "output_type": "display_data"
    }
   ],
   "source": [
    "labels = ['Normal Logistic Regression', 'PCA - Logistic Regression', 'LDA - Logistic Regression', 'LDA - Naive Bayes']\n",
    "x = np.array(range(2,12));\n",
    "plt.scatter(12, normalLR_acc)\n",
    "plt.scatter(x, acc_score[2:12])\n",
    "plt.scatter(1, LDA_lr_acc)\n",
    "plt.scatter(1, LDA_g_acc)\n",
    "plt.ylabel('%');\n",
    "plt.xlabel('N');\n",
    "plt.title('Accuracy');\n",
    "plt.legend(labels);"
   ]
  },
  {
   "cell_type": "code",
   "execution_count": 42,
   "id": "036c44c7-4369-45ef-a81c-d153f87df237",
   "metadata": {},
   "outputs": [
    {
     "data": {
      "image/png": "[encoded data removed]",
      "text/plain": [
       "<Figure size 432x288 with 1 Axes>"
      ]
     },
     "metadata": {
      "needs_background": "light"
     },
     "output_type": "display_data"
    }
   ],
   "source": [
    "x = np.array(range(2,12));\n",
    "plt.scatter(12, normalLR_prec)\n",
    "plt.scatter(x, precision_score[2:12])\n",
    "plt.scatter(1, LDA_lr_prec)\n",
    "plt.scatter(1, LDA_g_prec)\n",
    "plt.ylabel('%');\n",
    "plt.xlabel('N');\n",
    "plt.title('Precision');\n",
    "plt.legend(labels);"
   ]
  },
  {
   "cell_type": "code",
   "execution_count": 43,
   "id": "652a39d6-8070-484a-ada2-c5fcbe882ccf",
   "metadata": {},
   "outputs": [
    {
     "data": {
      "image/png": "[encoded data removed]",
      "text/plain": [
       "<Figure size 432x288 with 1 Axes>"
      ]
     },
     "metadata": {
      "needs_background": "light"
     },
     "output_type": "display_data"
    }
   ],
   "source": [
    "x = np.array(range(2,12));\n",
    "plt.scatter(12, normalLR_rec)\n",
    "plt.scatter(x, recall_score[2:12])\n",
    "plt.scatter(1, LDA_lr_rec)\n",
    "plt.scatter(1, LDA_g_rec)\n",
    "plt.ylabel('%');\n",
    "plt.xlabel('N');\n",
    "plt.title('Recall');\n",
    "plt.legend(labels, loc = 'upper center');"
   ]
  }
 ],
 "metadata": {
  "kernelspec": {
   "display_name": "Python 3",
   "language": "python",
   "name": "python3"
  },
  "language_info": {
   "codemirror_mode": {
    "name": "ipython",
    "version": 3
   },
   "file_extension": ".py",
   "mimetype": "text/x-python",
   "name": "python",
   "nbconvert_exporter": "python",
   "pygments_lexer": "ipython3",
   "version": "3.8.8"
  }
 },
 "nbformat": 4,
 "nbformat_minor": 5
}
