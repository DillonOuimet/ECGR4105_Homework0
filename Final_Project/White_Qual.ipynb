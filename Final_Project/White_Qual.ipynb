{
 "cells": [
  {
   "cell_type": "code",
   "execution_count": 1,
   "id": "c5799352-f118-411d-90fd-fd2d6abc1d43",
   "metadata": {},
   "outputs": [],
   "source": [
    "import numpy as np\n",
    "import matplotlib.pyplot as plt\n",
    "import pandas as pd\n",
    "import seaborn as sns\n",
    "from sklearn.model_selection import train_test_split\n",
    "\n",
    "import warnings\n",
    "warnings.filterwarnings('ignore')"
   ]
  },
  {
   "cell_type": "code",
   "execution_count": 2,
   "id": "d59ff043-1df2-4e42-8bb0-18929528793c",
   "metadata": {},
   "outputs": [
    {
     "data": {
      "text/plain": [
       "(4898, 13)"
      ]
     },
     "execution_count": 2,
     "metadata": {},
     "output_type": "execute_result"
    }
   ],
   "source": [
    "# We want to call the CSV data.\n",
    "Data = pd.DataFrame(pd.read_csv('https://raw.githubusercontent.com/DillonOuimet/ECGR_4105/main/Final_Project/White_Wine_Data', sep = ';'))\n",
    "\n",
    "Data.insert(0,'X0',1)\n",
    "features = 'X0','fixed acidity','volatile acidity','citric acid','residual sugar','chlorides','free sulfur dioxide','total sulfur dioxide','density','pH','sulphates','alcohol'\n",
    "feature  = 'fixed acidity','volatile acidity','citric acid','residual sugar','chlorides','free sulfur dioxide','total sulfur dioxide','density','pH','sulphates','alcohol'\n",
    "\n",
    "Data.shape"
   ]
  },
  {
   "cell_type": "code",
   "execution_count": 3,
   "id": "6825c6a0-5d3a-4919-80bd-5afc2d348644",
   "metadata": {},
   "outputs": [
    {
     "data": {
      "text/plain": [
       "980"
      ]
     },
     "execution_count": 3,
     "metadata": {},
     "output_type": "execute_result"
    }
   ],
   "source": [
    "from sklearn.model_selection import train_test_split\n",
    "# We specify this so that the train and test data set always have the same rows, respec\n",
    "np.random.seed(0)\n",
    "#70, 30 split.\n",
    "Train, Test = train_test_split(Data, train_size = 0.8, test_size = 0.2, random_state=42)\n",
    "len(Test)"
   ]
  },
  {
   "cell_type": "code",
   "execution_count": 5,
   "id": "9b315e28-d847-4250-9505-f8a51b23923f",
   "metadata": {},
   "outputs": [],
   "source": [
    "mTrain = len(Train)\n",
    "mTest = len(Test)"
   ]
  },
  {
   "cell_type": "code",
   "execution_count": 6,
   "id": "9d224b99-c148-46c1-ab60-eb5e738d9ab3",
   "metadata": {
    "tags": []
   },
   "outputs": [],
   "source": [
    "#This is the loss function: \n",
    "def loss(X, y, theta, m):\n",
    " \"\"\"\n",
    " Compute loss for linear regression.\n",
    " Input Parameters\n",
    " ----------------\n",
    " X : 2D array where each row represent the training example and each column represent\n",
    " m= number of training examples\n",
    " n= number of features (including X_0 column of ones)\n",
    " y : 1D array of labels/target value for each traing example. dimension(1 x m)\n",
    " theta : 1D array of fitting parameters or weights. Dimension (1 x n)\n",
    " Output Parameters\n",
    " -----------------\n",
    " J : Scalar value.\n",
    " \"\"\"\n",
    "##First multply the X values by theta\n",
    " predictions = X.dot(theta)\n",
    "#Then subtract and s\n",
    " errors = np.subtract(predictions, y)\n",
    " sqrErrors = np.square(errors)\n",
    " J = 1 / (2 * m) * np.sum(sqrErrors)\n",
    " return J"
   ]
  },
  {
   "cell_type": "code",
   "execution_count": 7,
   "id": "04c20803-3384-48ac-8ddd-dc5e2d70116d",
   "metadata": {
    "tags": []
   },
   "outputs": [],
   "source": [
    "##This is the gradient descent function\n",
    "def gd_Multi(X_train,X_test, y_train, y_test, theta, alpha, iterations, n, mTrain, mTest):\n",
    "# n is the number of columns in the theta (how many variables + 1) \n",
    " \"\"\"\n",
    " Compute cost for linear regression.\n",
    " Input Parameters\n",
    " ----------------\n",
    " X : 2D array where each row represent the training example and each column represent\n",
    " m= number of training examples\n",
    " n= number of features (including X_0 column of ones)\n",
    " y : 1D array of labels/target value for each traing example. dimension(m x 1)\n",
    " theta : 1D array of fitting parameters or weights. Dimension (1 x n)\n",
    " alpha : Learning rate. Scalar value\n",
    " iterations: No of iterations. Scalar value.\n",
    " Output Parameters\n",
    " -----------------\n",
    " theta : Final Value. 1D array of fitting parameters or weights. Dimension (1 x n)\n",
    " cost_history: Conatins value of cost for each iteration. 1D array. Dimansion(m x 1)\n",
    " \"\"\"\n",
    " cost_history_Train = np.zeros(iterations)\n",
    " cost_history_Test = np.zeros(iterations)\n",
    " sum_delta = np.zeros(n)\n",
    " \n",
    "\n",
    " for i in range(iterations):\n",
    "    h = X_train.dot(theta) ##gives a m x 1 array\n",
    "    errors = np.subtract(h, y_train) ## also m x 1\n",
    "    \n",
    "    \"\"\" \n",
    "    Here is the main difference in my code vs what was provided.\n",
    "    I run this for loop n times and multiple the thetas one at a time\n",
    "    This should work for a data set of any amount of explanatory variables. \n",
    "    \"\"\"\n",
    "    for j in range(n):             \n",
    "        sum_delta[j] = (alpha / mTrain) * X_train[:,j].transpose().dot(errors); ##1 x 1 array\n",
    "        theta[j] = theta[j] - sum_delta[j];     \n",
    "        \n",
    "    #call the loss functions\n",
    "             #Training loss\n",
    "    cost_history_Train[i] = loss(X_train, y_train, theta, mTrain)\n",
    "             # Validation loss\n",
    "    cost_history_Test[i]  = loss(X_test, y_test, theta, mTest)\n",
    " return theta, cost_history_Train, cost_history_Test"
   ]
  },
  {
   "cell_type": "code",
   "execution_count": 8,
   "id": "0302049b-f5fa-4a23-a18f-31d52b6d84c7",
   "metadata": {
    "tags": []
   },
   "outputs": [],
   "source": [
    "#define the expl. variable values train\n",
    "\n",
    "X_0_train = Train.values[:, 0].reshape((mTrain, 1))\n",
    "X_1_train = Train.values[:, 1].reshape((mTrain, 1)) # get input values from first column\n",
    "X_2_train = Train.values[:, 2].reshape((mTrain, 1)) # get output values from second column\n",
    "X_3_train = Train.values[:, 3].reshape((mTrain, 1)) # get output values from third column\n",
    "X_4_train = Train.values[:, 4].reshape((mTrain, 1)) \n",
    "X_5_train = Train.values[:, 5].reshape((mTrain, 1)) \n",
    "X_6_train = Train.values[:, 6].reshape((mTrain, 1))\n",
    "X_7_train = Train.values[:, 7].reshape((mTrain, 1)) # get input values from first column\n",
    "X_8_train = Train.values[:, 8].reshape((mTrain, 1)) # get output values from second column\n",
    "X_9_train = Train.values[:, 9].reshape((mTrain, 1)) # get output values from third column\n",
    "X_10_train = Train.values[:, 10].reshape((mTrain, 1)) \n",
    "X_11_train = Train.values[:, 11].reshape((mTrain, 1)) \n",
    "yTrainMM = Train.values[:,12] # get output values from fourth column\n",
    "\n",
    "#define the expl. variable values test\n",
    "X_0_test = Test.values[:, 0].reshape((mTest, 1))\n",
    "X_1_test = Test.values[:, 1].reshape((mTest, 1)) # get input values from first column\n",
    "X_2_test = Test.values[:, 2].reshape((mTest, 1)) # get output values from second column\n",
    "X_3_test = Test.values[:, 3].reshape((mTest, 1)) # get output values from third column\n",
    "X_4_test = Test.values[:, 4].reshape((mTest, 1)) \n",
    "X_5_test = Test.values[:, 5].reshape((mTest, 1)) \n",
    "X_6_test = Test.values[:, 6].reshape((mTest, 1))\n",
    "X_7_test = Test.values[:, 7].reshape((mTest, 1)) # get input values from first column\n",
    "X_8_test = Test.values[:, 8].reshape((mTest, 1)) # get output values from second column\n",
    "X_9_test = Test.values[:, 9].reshape((mTest, 1)) # get output values from third column\n",
    "X_10_test = Test.values[:, 10].reshape((mTest, 1)) \n",
    "X_11_test = Test.values[:, 11].reshape((mTest, 1)) \n",
    "yTestMM = Test.values[:,12]"
   ]
  },
  {
   "cell_type": "code",
   "execution_count": 9,
   "id": "298303cf-88e3-438e-af24-bfb26199796d",
   "metadata": {
    "tags": []
   },
   "outputs": [
    {
     "data": {
      "text/plain": [
       "3.0"
      ]
     },
     "execution_count": 9,
     "metadata": {},
     "output_type": "execute_result"
    }
   ],
   "source": [
    "#Stack the arrays together\n",
    "xTrainMM= np.hstack((X_0_train, X_1_train, X_2_train, X_3_train, X_4_train, X_5_train, X_6_train, X_7_train, X_8_train, X_9_train, X_10_train, X_11_train))\n",
    "xTestMM= np.hstack((X_0_test, X_1_test, X_2_test, X_3_test, X_4_test, X_5_test,X_6_test, X_7_test, X_8_test, X_9_test, X_10_test, X_11_test))\n",
    "min(yTrainMM)"
   ]
  },
  {
   "cell_type": "code",
   "execution_count": 10,
   "id": "3d924796-5dbf-4486-8d7b-70878da1e724",
   "metadata": {},
   "outputs": [],
   "source": [
    "from sklearn.preprocessing import  MinMaxScaler, StandardScaler\n",
    "sc_X = StandardScaler()\n",
    "\n",
    "TrainScaleSS = sc_X.fit_transform(xTrainMM)\n",
    "TestScaleSS =  sc_X.fit_transform(xTestMM)\n",
    "\n",
    "#Scale the data\n",
    "scale = MinMaxScaler()\n",
    "TrainScaleMM = scale.fit_transform(xTrainMM)\n",
    "TestScaleMM  = scale.fit_transform(xTestMM)\n",
    "\n",
    "\n"
   ]
  },
  {
   "cell_type": "code",
   "execution_count": 11,
   "id": "5cfe0030-999d-4812-82af-f1f5d2780879",
   "metadata": {},
   "outputs": [],
   "source": [
    "N = 12\n",
    "thetaQa = np.zeros(N)\n",
    "iterations = 1500\n",
    "alpha = .009\n",
    "#I want a slightly higher alpha and more iterations\n",
    "thetaQa, cost_historyQatrain, cost_historyQatest = gd_Multi( TrainScaleMM, TestScaleMM, yTrainMM, yTestMM, thetaQa, alpha, iterations, N, mTrain, mTest)"
   ]
  },
  {
   "cell_type": "code",
   "execution_count": 12,
   "id": "bb8e9519-d9d7-4c36-9d89-42062ba02bf9",
   "metadata": {},
   "outputs": [
    {
     "data": {
      "text/plain": [
       "<matplotlib.legend.Legend at 0x2899142e340>"
      ]
     },
     "execution_count": 12,
     "metadata": {},
     "output_type": "execute_result"
    },
    {
     "data": {
      "image/png": "[encoded data removed]",
      "text/plain": [
       "<Figure size 432x288 with 1 Axes>"
      ]
     },
     "metadata": {
      "needs_background": "light"
     },
     "output_type": "display_data"
    }
   ],
   "source": [
    "#plot the training and validation loss:\n",
    "plt.plot(range(1, iterations + 1),cost_historyQatrain, color='blue')\n",
    "plt.plot(range(1, iterations + 1),cost_historyQatest, color ='red')\n",
    "plt.grid()\n",
    "plt.xlabel('Number of iterations')\n",
    "plt.ylabel('Cost (J)')\n",
    "plt.title('Training and Validation Losses for red wine')\n",
    "plt.legend(['Training Loss', 'Validation Loss'])\n"
   ]
  },
  {
   "cell_type": "code",
   "execution_count": 13,
   "id": "15b4ca78-7ed9-4584-a5fe-37aeef891575",
   "metadata": {
    "tags": []
   },
   "outputs": [
    {
     "name": "stdout",
     "output_type": "stream",
     "text": [
      "[0.         2.45780405 0.98022602 1.28823833 0.57761738 0.67612473\n",
      " 1.28324145 2.22840606 0.78832214 2.65378037 1.76762205 3.11047627]\n"
     ]
    }
   ],
   "source": [
    "print(thetaQa)"
   ]
  },
  {
   "cell_type": "code",
   "execution_count": 14,
   "id": "afd95b44-567d-4d45-98e5-59378eeb180c",
   "metadata": {},
   "outputs": [],
   "source": [
    "#Now try logisticRegression without scaling"
   ]
  },
  {
   "cell_type": "code",
   "execution_count": 15,
   "id": "a2675900-e684-40eb-937f-a7e2dce2c035",
   "metadata": {
    "tags": []
   },
   "outputs": [
    {
     "data": {
      "text/plain": [
       "9.0"
      ]
     },
     "execution_count": 15,
     "metadata": {},
     "output_type": "execute_result"
    }
   ],
   "source": [
    "#Import LogisticRegression from sklearn.linear_model\n",
    "xTrain = xTrainMM \n",
    "xTest = xTestMM \n",
    "yTrain = yTrainMM\n",
    "yTest = yTestMM\n",
    "\n",
    "\n",
    "from sklearn.linear_model import LogisticRegression\n",
    "#Train the data\n",
    "\n",
    "classifier = LogisticRegression(random_state=42)\n",
    "classifier.fit(xTrain, yTrain)\n",
    "max(yTrain)"
   ]
  },
  {
   "cell_type": "code",
   "execution_count": 16,
   "id": "9ba8c7f0-319e-45a9-81f3-e715f3cfca35",
   "metadata": {},
   "outputs": [
    {
     "data": {
      "text/plain": [
       "7.0"
      ]
     },
     "execution_count": 16,
     "metadata": {},
     "output_type": "execute_result"
    }
   ],
   "source": [
    "Y_predNON = classifier.predict(xTest)\n",
    "max(Y_predNON)"
   ]
  },
  {
   "cell_type": "code",
   "execution_count": 17,
   "id": "dce742d3-6d25-422f-b3bc-eaf2c300e0cd",
   "metadata": {},
   "outputs": [
    {
     "data": {
      "text/plain": [
       "array([[  1,   0,   2,   2,   0,   0],\n",
       "       [  0,   0,   8,  17,   0,   0],\n",
       "       [  0,   0,  97, 193,   1,   0],\n",
       "       [  0,   0,  80, 351,   1,   0],\n",
       "       [  0,   0,  20, 169,   3,   0],\n",
       "       [  0,   0,   2,  33,   0,   0]], dtype=int64)"
      ]
     },
     "execution_count": 17,
     "metadata": {},
     "output_type": "execute_result"
    }
   ],
   "source": [
    "from sklearn.metrics import confusion_matrix\n",
    "#make the confustion matrix\n",
    "cnf_matrixNON = confusion_matrix(yTest, Y_predNON, labels = [3,4,5,6,7,8])\n",
    "cnf_matrixNON\n"
   ]
  },
  {
   "cell_type": "code",
   "execution_count": 18,
   "id": "5cd73f31-89b6-46ee-87fc-59dc375edac7",
   "metadata": {},
   "outputs": [
    {
     "name": "stdout",
     "output_type": "stream",
     "text": [
      "Accuracy: 0.46122448979591835\n",
      "Precision: 0.4627236540549234\n",
      "Recall: 0.46122448979591835\n"
     ]
    }
   ],
   "source": [
    "from sklearn import metrics\n",
    "\n",
    "#grab the metrics\n",
    "print(\"Accuracy:\",metrics.accuracy_score(yTest, Y_predNON))\n",
    "print(\"Precision:\",metrics.precision_score(yTest, Y_predNON,average = 'weighted'))\n",
    "print(\"Recall:\",metrics.recall_score(yTest, Y_predNON,average = 'weighted'))\n"
   ]
  },
  {
   "cell_type": "code",
   "execution_count": 19,
   "id": "0aec0c8c-f6c0-465e-9515-d574ff449a5a",
   "metadata": {},
   "outputs": [
    {
     "data": {
      "image/png": "[encoded data removed]",
      "text/plain": [
       "<Figure size 432x288 with 2 Axes>"
      ]
     },
     "metadata": {
      "needs_background": "light"
     },
     "output_type": "display_data"
    }
   ],
   "source": [
    "#Let's visualize the results of the model in the form of a co#nfusion matrix using matp\n",
    "#Here, you will visualize the confusion matrix using Heatmap.\n",
    "class_names=[3,4,5,6,7,8] # name of classes\n",
    "fig, ax = plt.subplots()\n",
    "tick_marks = np.arange(len(class_names))\n",
    "plt.xticks(tick_marks, class_names)\n",
    "plt.yticks(tick_marks, class_names)\n",
    "# create heatmap\n",
    "sns.heatmap(pd.DataFrame(cnf_matrixNON), annot=True, cmap=\"YlGnBu\" ,fmt='g')\n",
    "ax.xaxis.set_label_position(\"top\");\n",
    "plt.tight_layout()\n",
    "plt.title('CM For Red Wine with Logistic Regression', y=1.1)\n",
    "plt.ylabel('Actual label');\n",
    "plt.xlabel('Predicted label');\n",
    "ax.set_xticklabels(class_names);\n",
    "ax.set_yticklabels(class_names);"
   ]
  },
  {
   "cell_type": "code",
   "execution_count": 20,
   "id": "6ac43e41-abf2-4e81-b824-a6a5aa0ebe62",
   "metadata": {},
   "outputs": [],
   "source": [
    "#LR with Scaling"
   ]
  },
  {
   "cell_type": "code",
   "execution_count": 21,
   "id": "7071c68c-354b-418f-a986-5391c38c3975",
   "metadata": {
    "tags": []
   },
   "outputs": [
    {
     "data": {
      "text/plain": [
       "LogisticRegression(random_state=42)"
      ]
     },
     "execution_count": 21,
     "metadata": {},
     "output_type": "execute_result"
    }
   ],
   "source": [
    "#Train the data\n",
    "\n",
    "classifierSS = LogisticRegression(random_state=42)\n",
    "classifierSS.fit(TrainScaleSS, yTrain)\n",
    "\n",
    "classifierMM = LogisticRegression(random_state=42)\n",
    "classifierMM.fit(TrainScaleMM, yTrain)"
   ]
  },
  {
   "cell_type": "code",
   "execution_count": 22,
   "id": "d414e622-c068-4b75-a877-963e18985fd7",
   "metadata": {},
   "outputs": [],
   "source": [
    "Y_predSS = classifierSS.predict(TestScaleSS)\n",
    "Y_predMM = classifierMM.predict(TestScaleMM)\n",
    "# min(Y_predSS)"
   ]
  },
  {
   "cell_type": "code",
   "execution_count": 23,
   "id": "6d9515e5-4406-46d6-be1b-353c1803da3f",
   "metadata": {},
   "outputs": [
    {
     "data": {
      "text/plain": [
       "array([[  0,   0,   2,   2,   0,   1],\n",
       "       [  0,   1,  13,  11,   0,   0],\n",
       "       [  0,   1, 157, 131,   1,   1],\n",
       "       [  0,   0,  86, 313,  32,   0],\n",
       "       [  0,   0,  13, 131,  48,   0],\n",
       "       [  0,   0,   1,  25,   9,   0]], dtype=int64)"
      ]
     },
     "execution_count": 23,
     "metadata": {},
     "output_type": "execute_result"
    }
   ],
   "source": [
    "\n",
    "#make the confustion matrix\n",
    "cnf_matrixSS = confusion_matrix(yTest, Y_predSS, labels = [3,4,5,6,7,8])\n",
    "cnf_matrixMM = confusion_matrix(yTest, Y_predMM, labels = [3,4,5,6,7,8])\n",
    "cnf_matrixSS"
   ]
  },
  {
   "cell_type": "code",
   "execution_count": 24,
   "id": "c63d5df6-9dde-4ffd-9f28-0eb666aef3ec",
   "metadata": {},
   "outputs": [
    {
     "data": {
      "image/png": "[encoded data removed]",
      "text/plain": [
       "<Figure size 432x288 with 2 Axes>"
      ]
     },
     "metadata": {
      "needs_background": "light"
     },
     "output_type": "display_data"
    }
   ],
   "source": [
    "#Let's visualize the results of the model in the form of a co#nfusion matrix using matp\n",
    "#Here, you will visualize the confusion matrix using Heatmap.\n",
    "class_names=[3,4,5,6,7,8] # name of classes\n",
    "fig, ax = plt.subplots()\n",
    "tick_marks = np.arange(len(class_names))\n",
    "plt.xticks(tick_marks, class_names)\n",
    "plt.yticks(tick_marks, class_names)\n",
    "# create heatmap\n",
    "sns.heatmap(pd.DataFrame(cnf_matrixSS), annot=True, cmap=\"YlGnBu\" ,fmt='g')\n",
    "ax.xaxis.set_label_position(\"top\");\n",
    "plt.tight_layout()\n",
    "plt.title('CM for Logistic Regression with Standard Scaling', y=1.1)\n",
    "plt.ylabel('Actual label');\n",
    "plt.xlabel('Predicted label');\n",
    "ax.set_xticklabels(class_names);\n",
    "ax.set_yticklabels(class_names);"
   ]
  },
  {
   "cell_type": "code",
   "execution_count": 25,
   "id": "9e04f4b4-f052-4424-a33b-b41e29494692",
   "metadata": {},
   "outputs": [
    {
     "data": {
      "image/png": "[encoded data removed]",
      "text/plain": [
       "<Figure size 432x288 with 2 Axes>"
      ]
     },
     "metadata": {
      "needs_background": "light"
     },
     "output_type": "display_data"
    }
   ],
   "source": [
    "#Let's visualize the results of the model in the form of a co#nfusion matrix using matp\n",
    "#Here, you will visualize the confusion matrix using Heatmap.\n",
    "class_names=[3,4,5,6,7,8] # name of classes\n",
    "fig, ax = plt.subplots()\n",
    "tick_marks = np.arange(len(class_names))\n",
    "plt.xticks(tick_marks, class_names)\n",
    "plt.yticks(tick_marks, class_names)\n",
    "# create heatmap\n",
    "sns.heatmap(pd.DataFrame(cnf_matrixMM), annot=True, cmap=\"YlGnBu\" ,fmt='g', xticklabels = True)\n",
    "ax.xaxis.set_label_position(\"top\");\n",
    "plt.tight_layout()\n",
    "plt.title('CM for Logistic Regression with Min Max Scaling', y=1.1)\n",
    "plt.ylabel('Actual label');\n",
    "plt.xlabel('Predicted label');\n",
    "ax.set_xticklabels(class_names);\n",
    "ax.set_yticklabels(class_names);"
   ]
  },
  {
   "cell_type": "code",
   "execution_count": 26,
   "id": "879d12b1-0aae-4a91-b59e-71f085a365e4",
   "metadata": {},
   "outputs": [
    {
     "name": "stdout",
     "output_type": "stream",
     "text": [
      "Accuracy: 0.5295918367346939\n",
      "Precision: 0.5137221042576899\n",
      "Recall: 0.5295918367346939\n"
     ]
    }
   ],
   "source": [
    "#grab the metrics\n",
    "AClrpl = metrics.accuracy_score(yTest, Y_predSS)\n",
    "PRlrpl = metrics.precision_score(yTest, Y_predSS,average = 'weighted')\n",
    "print(\"Accuracy:\",metrics.accuracy_score(yTest, Y_predSS))\n",
    "print(\"Precision:\",metrics.precision_score(yTest, Y_predSS,average = 'weighted'))\n",
    "print(\"Recall:\",metrics.recall_score(yTest, Y_predSS,average = 'weighted'))"
   ]
  },
  {
   "cell_type": "code",
   "execution_count": 27,
   "id": "d623a57a-3ae7-4d83-93af-4e2a0f066d47",
   "metadata": {},
   "outputs": [
    {
     "name": "stdout",
     "output_type": "stream",
     "text": [
      "Accuracy: 0.503061224489796\n",
      "Precision: 0.5687912817938912\n",
      "Recall: 0.503061224489796\n"
     ]
    }
   ],
   "source": [
    "#grab the metrics\n",
    "print(\"Accuracy:\",metrics.accuracy_score(yTest, Y_predMM))\n",
    "print(\"Precision:\",metrics.precision_score(yTest, Y_predMM,average = 'weighted'))\n",
    "print(\"Recall:\",metrics.recall_score(yTest, Y_predMM,average = 'weighted'))"
   ]
  },
  {
   "cell_type": "code",
   "execution_count": 28,
   "id": "6c72f555-ac8e-45bf-9bb4-6d8e766c97d5",
   "metadata": {},
   "outputs": [],
   "source": [
    "#LR using PCA and LR"
   ]
  },
  {
   "cell_type": "code",
   "execution_count": 29,
   "id": "23a8a495-ebdc-4d42-9827-2b8487833576",
   "metadata": {},
   "outputs": [
    {
     "data": {
      "text/plain": [
       "(4898, 11)"
      ]
     },
     "execution_count": 29,
     "metadata": {},
     "output_type": "execute_result"
    }
   ],
   "source": [
    "XTot = Data.loc[:, feature].values\n",
    "X_std = StandardScaler().fit_transform(XTot)\n",
    "\n",
    "X_MM = MinMaxScaler().fit_transform(XTot)\n",
    "\n",
    "X_std.shape"
   ]
  },
  {
   "cell_type": "code",
   "execution_count": 33,
   "id": "6187a2d0-4d73-4550-9102-4809c746abac",
   "metadata": {},
   "outputs": [],
   "source": [
    "#Do PCA on the data using this funciton:\n",
    "def PCAfunc(N,X_std):\n",
    "    from sklearn.decomposition import PCA\n",
    "    #I want to keep N of the components:\n",
    "\n",
    "    pca = PCA(n_components=N)\n",
    "    principalComponents = pca.fit_transform(X_std) \n",
    "    principalDf = pd.DataFrame(data = principalComponents)\n",
    "\n",
    "    finalDataPCA = pd.concat([principalDf, Data[['quality']]], axis = 1) \n",
    "\n",
    "\n",
    "\n",
    "    #Split the Data:\n",
    "    data_trainPCA, data_testPCA = train_test_split(finalDataPCA, train_size = 0.80, test_size = 0.2, random_state= 42)\n",
    "    X_TrainPCA = data_trainPCA.loc[:, range(N)].values #The number of principle components will change. \n",
    "    Y_TrainPCA = data_trainPCA.loc[:, ['quality']].values\n",
    "\n",
    "    X_TestPCA = data_testPCA.loc[:, range(N)].values\n",
    "    Y_TestPCA = data_testPCA.loc[:, ['quality']].values\n",
    "\n",
    "    #Train the data\n",
    "\n",
    "    classifierPCA = LogisticRegression(random_state=0)\n",
    "    classifierPCA.fit(X_TrainPCA, Y_TrainPCA.ravel())\n",
    "    Y_predPCA = classifierPCA.predict(X_TestPCA)\n",
    "\n",
    "    cnf_matrix = confusion_matrix(Y_TestPCA, Y_predPCA,labels = [3,4,5,6,7,8])\n",
    "    cnf_matrix\n",
    "    ac = metrics.accuracy_score(Y_TestPCA, Y_predPCA)\n",
    "    pr = metrics.precision_score(Y_TestPCA, Y_predPCA,average = 'weighted')\n",
    "    re = metrics.recall_score(Y_TestPCA, Y_predPCA,average = 'weighted')\n",
    "    return ac, pr, re, cnf_matrix"
   ]
  },
  {
   "cell_type": "code",
   "execution_count": 34,
   "id": "d97039f2-25ad-473f-bb1e-e5fba4287a4d",
   "metadata": {},
   "outputs": [
    {
     "name": "stdout",
     "output_type": "stream",
     "text": [
      "0.5316326530612245\n"
     ]
    }
   ],
   "source": [
    "comp = 11\n",
    "accuracySS = np.zeros(comp)\n",
    "precisionSS = np.zeros(comp)\n",
    "recallSS = np.zeros(comp)\n",
    "\n",
    "accuracyMM  = np.zeros(comp)\n",
    "precisionMM = np.zeros(comp)\n",
    "recallMM    = np.zeros(comp)\n",
    "\n",
    "for N in range(comp):\n",
    "   [accuracySS[N],precisionSS[N],recallSS[N], cnf_matrixSSPCA] = PCAfunc(N+1,X_std)\n",
    "   [accuracyMM[N],precisionMM[N],recallMM[N], cnf_matrixMM] = PCAfunc(N+1,X_MM)\n",
    "AClrPCA = accuracySS[10]\n",
    "PRlrPCA = precisionSS[10]\n",
    "print(recallSS[10])\n"
   ]
  },
  {
   "cell_type": "code",
   "execution_count": 35,
   "id": "94529252-ee33-4189-bed8-d34b0aa7bb46",
   "metadata": {},
   "outputs": [
    {
     "data": {
      "image/png": "[encoded data removed]",
      "text/plain": [
       "<Figure size 432x288 with 2 Axes>"
      ]
     },
     "metadata": {
      "needs_background": "light"
     },
     "output_type": "display_data"
    }
   ],
   "source": [
    "#Let's visualize the results of the model in the form of a co#nfusion matrix using matp\n",
    "#Here, you will visualize the confusion matrix using Heatmap.\n",
    "class_names=[3,4,5,6,7,8] # name of classes\n",
    "fig, ax = plt.subplots()\n",
    "tick_marks = np.arange(len(class_names))\n",
    "plt.xticks(tick_marks, class_names)\n",
    "plt.yticks(tick_marks, class_names)\n",
    "# create heatmap\n",
    "sns.heatmap(pd.DataFrame(cnf_matrixSSPCA), annot=True, cmap=\"YlGnBu\" ,fmt='g')\n",
    "ax.xaxis.set_label_position(\"top\");\n",
    "plt.tight_layout()\n",
    "plt.title('CM for Logistic Regression PCA', y=1.1)\n",
    "plt.ylabel('Actual label');\n",
    "plt.xlabel('Predicted label');\n",
    "ax.set_xticklabels(class_names);\n",
    "ax.set_yticklabels(class_names);"
   ]
  },
  {
   "cell_type": "code",
   "execution_count": 36,
   "id": "c7b9e429-843f-459f-9fd5-fefee1263492",
   "metadata": {},
   "outputs": [
    {
     "data": {
      "text/plain": [
       "<matplotlib.legend.Legend at 0x2899540da90>"
      ]
     },
     "execution_count": 36,
     "metadata": {},
     "output_type": "execute_result"
    },
    {
     "data": {
      "image/png": "[encoded data removed]",
      "text/plain": [
       "<Figure size 432x288 with 1 Axes>"
      ]
     },
     "metadata": {
      "needs_background": "light"
     },
     "output_type": "display_data"
    }
   ],
   "source": [
    "plt.plot(range(1, comp+1),accuracySS, color='b')\n",
    "plt.plot(range(1, comp+1),precisionSS, color='r')\n",
    "plt.plot(range(1, comp+1),recallSS, color='g')\n",
    "plt.grid()\n",
    "plt.xlabel('N')\n",
    "plt.ylabel('%')\n",
    "plt.title('Accuracy, Precision, and Recall over different Principle Components')\n",
    "plt.legend(['Accuracy', 'Precision', 'Recall'])"
   ]
  },
  {
   "cell_type": "code",
   "execution_count": 37,
   "id": "2684471b-cb00-441f-91f3-bf87dc30a247",
   "metadata": {},
   "outputs": [
    {
     "data": {
      "text/plain": [
       "<matplotlib.legend.Legend at 0x28995460a30>"
      ]
     },
     "execution_count": 37,
     "metadata": {},
     "output_type": "execute_result"
    },
    {
     "data": {
      "image/png": "[encoded data removed]",
      "text/plain": [
       "<Figure size 432x288 with 1 Axes>"
      ]
     },
     "metadata": {
      "needs_background": "light"
     },
     "output_type": "display_data"
    }
   ],
   "source": [
    "plt.plot(range(1, comp+1),accuracyMM, color='b')\n",
    "plt.plot(range(1, comp+1),precisionMM, color='r')\n",
    "plt.plot(range(1, comp+1),recallMM, color='g')\n",
    "plt.grid()\n",
    "plt.xlabel('Number of Components')\n",
    "plt.ylabel('%')\n",
    "plt.title('Accuracy, Precision, and Recall over different Principle Components')\n",
    "plt.legend(['Accuracy', 'Precision', 'Recall'])"
   ]
  },
  {
   "cell_type": "code",
   "execution_count": 38,
   "id": "bd7131c3-ed20-47c7-ba24-e193765620af",
   "metadata": {},
   "outputs": [],
   "source": [
    "# LR with LDA"
   ]
  },
  {
   "cell_type": "code",
   "execution_count": 39,
   "id": "fb3f7f7e-cd5e-4e33-bd26-f9dd066ed879",
   "metadata": {},
   "outputs": [],
   "source": [
    "#Do LDA on the data using this funciton:\n",
    "def LDAfunc(N,X,Y):\n",
    "    \n",
    "    #I want to keep N of the components:\n",
    "    lda = LinearDiscriminantAnalysis(n_components=N)\n",
    "    lda_pc = lda.fit_transform(X,Y) \n",
    "    \n",
    "    PDF = pd.DataFrame(data = lda_pc)    \n",
    "   \n",
    "    finalDataLDA = pd.concat([PDF, Data[['quality']]], axis = 1) \n",
    "    NumCompLDA = (finalDataLDA.shape[1]) -1\n",
    "\n",
    "\n",
    "    #Split the Data:\n",
    "    data_trainLDA, data_testLDA = train_test_split(finalDataLDA, train_size = 0.80, test_size = 0.2, random_state= 42)\n",
    "    X_TrainLDA = data_trainLDA.loc[:, range(NumCompLDA)].values #The number of principle components will change. \n",
    "    Y_TrainLDA = data_trainLDA.loc[:, ['quality']].values\n",
    "\n",
    "    X_TestLDA = data_testLDA.loc[:, range(NumCompLDA)].values\n",
    "    Y_TestLDA = data_testLDA.loc[:, ['quality']].values\n",
    "\n",
    "    #Train the data\n",
    "\n",
    "    classifierLDALR = LogisticRegression(random_state=42)\n",
    "    classifierLDALR.fit(X_TrainLDA.reshape(-NumCompLDA,NumCompLDA), Y_TrainLDA.ravel())\n",
    "    Y_predLDA = classifierLDALR.predict(X_TestLDA.reshape(-NumCompLDA,NumCompLDA))\n",
    "\n",
    "    cnf_matrix = confusion_matrix(Y_TestLDA, Y_predLDA)\n",
    "    cnf_matrix\n",
    "    ac = metrics.accuracy_score(Y_TestLDA, Y_predLDA)\n",
    "    pr = metrics.precision_score(Y_TestLDA, Y_predLDA,average = 'weighted')\n",
    "    re = metrics.recall_score(Y_TestLDA, Y_predLDA,average = 'weighted')\n",
    "    return ac, pr, re, cnf_matrix"
   ]
  },
  {
   "cell_type": "code",
   "execution_count": 40,
   "id": "8cee16f7-35f5-4132-97c3-aec0a3b21f95",
   "metadata": {
    "tags": []
   },
   "outputs": [],
   "source": [
    "Y_TotLDA = Data.loc[:, 'quality'].values\n",
    "X_TotLDA = Data.loc[:, features].values"
   ]
  },
  {
   "cell_type": "code",
   "execution_count": 41,
   "id": "d28a42f7-9352-42e1-8e69-a2e53b90029a",
   "metadata": {
    "tags": []
   },
   "outputs": [
    {
     "name": "stdout",
     "output_type": "stream",
     "text": [
      "0.5163265306122449\n"
     ]
    }
   ],
   "source": [
    "from sklearn.discriminant_analysis import LinearDiscriminantAnalysis\n",
    "NUM = 5\n",
    "accuracyLDA = np.zeros(NUM)\n",
    "precisionLDA = np.zeros(NUM)\n",
    "recallLDA = np.zeros(NUM)\n",
    "for N in range(NUM):\n",
    "   [accuracyLDA[N],precisionLDA[N],recallLDA[N], cnf_matrixLDA] = LDAfunc(N+1,X_TotLDA,Y_TotLDA)\n",
    "AClrLDA = accuracyLDA[1]\n",
    "PRlrLDA = precisionLDA[1]\n",
    "print(recallLDA[1])"
   ]
  },
  {
   "cell_type": "code",
   "execution_count": 42,
   "id": "9c8bf2a2-0e54-4f23-8121-886736aeeb43",
   "metadata": {
    "tags": []
   },
   "outputs": [
    {
     "data": {
      "text/plain": [
       "<matplotlib.legend.Legend at 0x28995504b80>"
      ]
     },
     "execution_count": 42,
     "metadata": {},
     "output_type": "execute_result"
    },
    {
     "data": {
      "image/png": "[encoded data removed]",
      "text/plain": [
       "<Figure size 432x288 with 1 Axes>"
      ]
     },
     "metadata": {
      "needs_background": "light"
     },
     "output_type": "display_data"
    }
   ],
   "source": [
    "plt.plot(range(1, NUM+1),accuracyLDA, color='b')\n",
    "plt.plot(range(1, NUM+1),precisionLDA, color='r')\n",
    "plt.plot(range(1, NUM+1),recallLDA, color='g')\n",
    "plt.grid()\n",
    "plt.xlabel('N')\n",
    "plt.ylabel('%')\n",
    "plt.title('Accuracy, Precision, and Recall over different N')\n",
    "plt.legend(['Accuracy', 'Precision', 'Recall'])"
   ]
  },
  {
   "cell_type": "code",
   "execution_count": 43,
   "id": "ec1cb80b-3faf-4d3f-b68c-db09653f97da",
   "metadata": {},
   "outputs": [
    {
     "name": "stdout",
     "output_type": "stream",
     "text": [
      "2\n"
     ]
    }
   ],
   "source": [
    "lda = LinearDiscriminantAnalysis(n_components=2)\n",
    "lda_pc = lda.fit_transform(X_std,Y_TotLDA) \n",
    "PDF = pd.DataFrame(data = lda_pc)    \n",
    "   \n",
    "finalDataLDA = pd.concat([PDF, Data[['quality']]], axis = 1) \n",
    "NumCompLDA = (finalDataLDA.shape[1]) -1\n",
    "print(NumCompLDA)"
   ]
  },
  {
   "cell_type": "code",
   "execution_count": 44,
   "id": "cfb101d4-16f4-4799-9525-30273b77a380",
   "metadata": {
    "tags": []
   },
   "outputs": [],
   "source": [
    "#Split the Data:\n",
    "data_trainLDA, data_testLDA = train_test_split(finalDataLDA, train_size = 0.85, test_size = 0.15, random_state= 42)\n",
    "X_TrainLDA = data_trainLDA.loc[:, range(NumCompLDA)].values\n",
    "Y_TrainLDA = data_trainLDA.loc[:, ['quality']].values\n",
    "\n",
    "X_TestLDA = data_testLDA.loc[:, range(NumCompLDA)].values\n",
    "Y_TestLDA = data_testLDA.loc[:, ['quality']].values"
   ]
  },
  {
   "cell_type": "code",
   "execution_count": 45,
   "id": "f8e6cc32-50d5-4b1f-a038-bcf5a9bbcf95",
   "metadata": {
    "tags": []
   },
   "outputs": [
    {
     "data": {
      "text/plain": [
       "LogisticRegression(random_state=0)"
      ]
     },
     "execution_count": 45,
     "metadata": {},
     "output_type": "execute_result"
    }
   ],
   "source": [
    "classifierLDALR = LogisticRegression(random_state=0)\n",
    "classifierLDALR.fit(X_TrainLDA.reshape(-NumCompLDA,NumCompLDA), Y_TrainLDA.ravel())"
   ]
  },
  {
   "cell_type": "code",
   "execution_count": 46,
   "id": "c818bfe9-2469-4e24-bd78-9758ab93c8e7",
   "metadata": {
    "tags": []
   },
   "outputs": [],
   "source": [
    "Y_predLDALR = classifierLDALR.predict(X_TestLDA.reshape(-NumCompLDA,NumCompLDA))\n",
    "cnf_matrixLDALR = confusion_matrix(Y_TestLDA, Y_predLDALR)"
   ]
  },
  {
   "cell_type": "code",
   "execution_count": 47,
   "id": "3f5ad4b8-ae16-45b5-a6e9-2a7ef087224f",
   "metadata": {
    "jupyter": {
     "source_hidden": true
    },
    "tags": []
   },
   "outputs": [
    {
     "data": {
      "image/png": "[encoded data removed]",
      "text/plain": [
       "<Figure size 432x288 with 2 Axes>"
      ]
     },
     "metadata": {
      "needs_background": "light"
     },
     "output_type": "display_data"
    }
   ],
   "source": [
    "#Let's visualize the results of the model in the form of a co#nfusion matrix using matp\n",
    "#Here, you will visualize the confusion matrix using Heatmap.\n",
    "class_names=[3,4,5,6,7,8] # name of classes\n",
    "fig, ax = plt.subplots()\n",
    "tick_marks = np.arange(len(class_names))\n",
    "plt.xticks(tick_marks, class_names)\n",
    "plt.yticks(tick_marks, class_names)\n",
    "# create heatmap\n",
    "sns.heatmap(pd.DataFrame(cnf_matrixLDALR), annot=True, cmap=\"YlGnBu\" ,fmt='g', xticklabels = True)\n",
    "ax.xaxis.set_label_position(\"top\");\n",
    "plt.tight_layout()\n",
    "plt.title('CM for Logistic Regression PCA', y=1.1)\n",
    "plt.ylabel('Actual label');\n",
    "plt.xlabel('Predicted label');\n",
    "ax.set_xticklabels(class_names);\n",
    "ax.set_yticklabels(class_names);"
   ]
  },
  {
   "cell_type": "code",
   "execution_count": 48,
   "id": "b3a8172d-55be-455b-a832-77eaeb59039d",
   "metadata": {
    "jupyter": {
     "source_hidden": true
    },
    "tags": []
   },
   "outputs": [
    {
     "name": "stdout",
     "output_type": "stream",
     "text": [
      "Accuracy: 0.507482993197279\n",
      "Precision: 0.4927811296937156\n",
      "Recall: 0.507482993197279\n"
     ]
    }
   ],
   "source": [
    "print(\"Accuracy:\",metrics.accuracy_score(Y_TestLDA, Y_predLDALR))\n",
    "print(\"Precision:\",metrics.precision_score(Y_TestLDA, Y_predLDALR,average = 'weighted'))\n",
    "print(\"Recall:\",metrics.recall_score(Y_TestLDA, Y_predLDALR,average = 'weighted'))"
   ]
  },
  {
   "cell_type": "code",
   "execution_count": 49,
   "id": "3166f6d2-540c-4ca4-bf62-4c9f646dc5ed",
   "metadata": {},
   "outputs": [],
   "source": [
    "#NB with SS and MM"
   ]
  },
  {
   "cell_type": "code",
   "execution_count": 50,
   "id": "6eca2429-e390-46e1-8fda-b0c7dff49c45",
   "metadata": {
    "tags": []
   },
   "outputs": [
    {
     "data": {
      "text/plain": [
       "GaussianNB()"
      ]
     },
     "execution_count": 50,
     "metadata": {},
     "output_type": "execute_result"
    }
   ],
   "source": [
    "from sklearn.naive_bayes import GaussianNB\n",
    "#run the NB classifier\n",
    "classifierGausNON = GaussianNB()\n",
    "classifierGausMM = GaussianNB()\n",
    "classifierGausSS = GaussianNB()\n",
    "\n",
    "classifierGausNON.fit(xTrain, yTrain)\n",
    "classifierGausMM.fit(TrainScaleMM, yTrain)\n",
    "classifierGausSS.fit(TrainScaleSS, yTrain)"
   ]
  },
  {
   "cell_type": "code",
   "execution_count": 51,
   "id": "56bc960e-9216-4082-8da2-e1e227c0795d",
   "metadata": {
    "tags": []
   },
   "outputs": [],
   "source": [
    "Y_predNBNON = classifierGausNON.predict(xTest)\n",
    "Y_predNBSS = classifierGausSS.predict(TestScaleSS)\n",
    "Y_predNBMM = classifierGausMM.predict(TestScaleMM)"
   ]
  },
  {
   "cell_type": "code",
   "execution_count": 52,
   "id": "2e420ff2-c406-483c-b058-3a75febafced",
   "metadata": {
    "tags": []
   },
   "outputs": [],
   "source": [
    "cmNBNON = confusion_matrix(yTest, Y_predNBNON, labels = [3,4,5,6,7,8])\n",
    "cmNBSS = confusion_matrix(yTest, Y_predNBSS, labels = [3,4,5,6,7,8])\n",
    "cmNBMM = confusion_matrix(yTest, Y_predNBMM, labels = [3,4,5,6,7,8])"
   ]
  },
  {
   "cell_type": "code",
   "execution_count": 53,
   "id": "2f78768b-4347-4aef-aa07-8c2b1cb111b7",
   "metadata": {
    "tags": []
   },
   "outputs": [
    {
     "name": "stdout",
     "output_type": "stream",
     "text": [
      "Accuracy: 0.4387755102040816\n",
      "Precision: 0.45572857294916325\n",
      "Recall: 0.4387755102040816\n"
     ]
    }
   ],
   "source": [
    "print(\"Accuracy:\",metrics.accuracy_score(yTest, Y_predNBNON))\n",
    "print(\"Precision:\",metrics.precision_score(yTest, Y_predNBNON,average = 'weighted'))\n",
    "print(\"Recall:\",metrics.recall_score(yTest, Y_predNBNON,average = 'weighted'))\n",
    "ACnbPL = metrics.accuracy_score(yTest, Y_predNBNON)\n",
    "PRnbPL = metrics.precision_score(yTest, Y_predNBNON,average = 'weighted')"
   ]
  },
  {
   "cell_type": "code",
   "execution_count": 54,
   "id": "5611e32f-9abf-4c88-be04-8d3c8951e7a2",
   "metadata": {
    "tags": []
   },
   "outputs": [
    {
     "name": "stdout",
     "output_type": "stream",
     "text": [
      "Accuracy: 0.42959183673469387\n",
      "Precision: 0.451533548385188\n",
      "Recall: 0.42959183673469387\n"
     ]
    }
   ],
   "source": [
    "print(\"Accuracy:\",metrics.accuracy_score(yTest, Y_predNBSS))\n",
    "print(\"Precision:\",metrics.precision_score(yTest, Y_predNBSS,average = 'weighted'))\n",
    "print(\"Recall:\",metrics.recall_score(yTest, Y_predNBSS,average = 'weighted'))"
   ]
  },
  {
   "cell_type": "code",
   "execution_count": 55,
   "id": "44ecc3a7-8aa1-4d5f-b9ba-cd7ed75628a3",
   "metadata": {
    "tags": []
   },
   "outputs": [
    {
     "name": "stdout",
     "output_type": "stream",
     "text": [
      "Accuracy: 0.42857142857142855\n",
      "Precision: 0.4625992486541294\n",
      "Recall: 0.42857142857142855\n"
     ]
    }
   ],
   "source": [
    "print(\"Accuracy:\",metrics.accuracy_score(yTest, Y_predNBMM))\n",
    "print(\"Precision:\",metrics.precision_score(yTest, Y_predNBMM,average = 'weighted'))\n",
    "print(\"Recall:\",metrics.recall_score(yTest, Y_predNBMM,average = 'weighted'))"
   ]
  },
  {
   "cell_type": "code",
   "execution_count": 56,
   "id": "b0d1cc6b-1956-455b-9d5a-58ece0fd086d",
   "metadata": {
    "tags": []
   },
   "outputs": [
    {
     "data": {
      "image/png": "[encoded data removed]",
      "text/plain": [
       "<Figure size 432x288 with 2 Axes>"
      ]
     },
     "metadata": {
      "needs_background": "light"
     },
     "output_type": "display_data"
    }
   ],
   "source": [
    "#Let's visualize the results of the model in the form of a co#nfusion matrix using matp\n",
    "#Here, you will visualize the confusion matrix using Heatmap.\n",
    "class_names=[3,4,5,6,7,8] # name of classes\n",
    "fig, ax = plt.subplots()\n",
    "tick_marks = np.arange(len(class_names))\n",
    "plt.xticks(tick_marks, class_names)\n",
    "plt.yticks(tick_marks, class_names)\n",
    "# create heatmap\n",
    "sns.heatmap(pd.DataFrame(cmNBNON), annot=True, cmap=\"YlGnBu\" ,fmt='g')\n",
    "ax.xaxis.set_label_position(\"top\");\n",
    "plt.tight_layout()\n",
    "plt.title('Confusion matrix NB No Standardization', y=1.1)\n",
    "plt.ylabel('Actual label');\n",
    "plt.xlabel('Predicted label');\n",
    "ax.set_xticklabels(class_names);\n",
    "ax.set_yticklabels(class_names);"
   ]
  },
  {
   "cell_type": "code",
   "execution_count": 57,
   "id": "e212982e-8177-4ec8-951c-ccf44cb4bc13",
   "metadata": {
    "tags": []
   },
   "outputs": [
    {
     "data": {
      "image/png": "[encoded data removed]",
      "text/plain": [
       "<Figure size 432x288 with 2 Axes>"
      ]
     },
     "metadata": {
      "needs_background": "light"
     },
     "output_type": "display_data"
    }
   ],
   "source": [
    "#Let's visualize the results of the model in the form of a co#nfusion matrix using matp\n",
    "#Here, you will visualize the confusion matrix using Heatmap.\n",
    "class_names=[0,1] # name of classes\n",
    "fig, ax = plt.subplots()\n",
    "tick_marks = np.arange(len(class_names))\n",
    "plt.xticks(tick_marks, class_names)\n",
    "plt.yticks(tick_marks, class_names)\n",
    "# create heatmap\n",
    "sns.heatmap(pd.DataFrame(cmNBSS), annot=True, cmap=\"YlGnBu\" ,fmt='g')\n",
    "ax.xaxis.set_label_position(\"top\");\n",
    "plt.tight_layout()\n",
    "plt.title('Confusion matrix NB SS', y=1.1)\n",
    "plt.ylabel('Actual label');\n",
    "plt.xlabel('Predicted label');"
   ]
  },
  {
   "cell_type": "code",
   "execution_count": 58,
   "id": "bd1147eb-dcb8-4667-891a-e7c611914510",
   "metadata": {
    "tags": []
   },
   "outputs": [
    {
     "data": {
      "image/png": "[encoded data removed]",
      "text/plain": [
       "<Figure size 432x288 with 2 Axes>"
      ]
     },
     "metadata": {
      "needs_background": "light"
     },
     "output_type": "display_data"
    }
   ],
   "source": [
    "#Let's visualize the results of the model in the form of a co#nfusion matrix using matp\n",
    "#Here, you will visualize the confusion matrix using Heatmap.\n",
    "class_names=[0,1] # name of classes\n",
    "fig, ax = plt.subplots()\n",
    "tick_marks = np.arange(len(class_names))\n",
    "plt.xticks(tick_marks, class_names)\n",
    "plt.yticks(tick_marks, class_names)\n",
    "# create heatmap\n",
    "sns.heatmap(pd.DataFrame(cmNBMM), annot=True, cmap=\"YlGnBu\" ,fmt='g')\n",
    "ax.xaxis.set_label_position(\"top\");\n",
    "plt.tight_layout()\n",
    "plt.title('Confusion matrix NB MM', y=1.1)\n",
    "plt.ylabel('Actual label');\n",
    "plt.xlabel('Predicted label');"
   ]
  },
  {
   "cell_type": "code",
   "execution_count": 59,
   "id": "61e7a02f-1d45-4f73-9300-1b7aac5c2c11",
   "metadata": {},
   "outputs": [],
   "source": [
    "# GB with LDA"
   ]
  },
  {
   "cell_type": "code",
   "execution_count": 60,
   "id": "aa989480-ee6b-42ea-8cfc-655fe5322d30",
   "metadata": {},
   "outputs": [],
   "source": [
    "#Split the Data:\n",
    "data_trainLDAGB, data_testLDAGB = train_test_split(finalDataLDA, train_size = 0.8, test_size = 0.2, random_state= 42)\n",
    "X_TrainLDA = data_trainLDA.loc[:, range(NumCompLDA)].values\n",
    "Y_TrainLDA = data_trainLDA.loc[:, ['quality']].values\n",
    "\n",
    "X_TestLDA = data_testLDA.loc[:, range(NumCompLDA)].values\n",
    "Y_TestLDA = data_testLDA.loc[:, ['quality']].values"
   ]
  },
  {
   "cell_type": "code",
   "execution_count": 61,
   "id": "4ef9fc4f-c3d5-47b9-b511-1925415d5aa6",
   "metadata": {},
   "outputs": [
    {
     "data": {
      "text/plain": [
       "GaussianNB()"
      ]
     },
     "execution_count": 61,
     "metadata": {},
     "output_type": "execute_result"
    }
   ],
   "source": [
    "#Apply Gaussian Naive Bayes theory\n",
    "classifierGausLDA = GaussianNB()\n",
    "#I have to reshape these using .reshape() and .ravel()\n",
    "classifierGausLDA.fit(X_TrainLDA.reshape(-NumCompLDA, NumCompLDA), Y_TrainLDA.ravel())"
   ]
  },
  {
   "cell_type": "code",
   "execution_count": 62,
   "id": "a70bb7ed-0286-4b5c-a3e5-8cae512dd906",
   "metadata": {},
   "outputs": [],
   "source": [
    "Y_PredLDAGB = classifierGausLDA.predict(X_TestLDA.reshape(-NumCompLDA,NumCompLDA))"
   ]
  },
  {
   "cell_type": "code",
   "execution_count": 63,
   "id": "93c50a92-1dbc-485b-8458-762289385a1a",
   "metadata": {},
   "outputs": [],
   "source": [
    "cnf_matrixLDANB = confusion_matrix(Y_TestLDA, Y_PredLDAGB)"
   ]
  },
  {
   "cell_type": "code",
   "execution_count": 64,
   "id": "1723c5e4-f9e5-4f07-b34f-53ff633cd30f",
   "metadata": {},
   "outputs": [
    {
     "data": {
      "image/png": "[encoded data removed]",
      "text/plain": [
       "<Figure size 432x288 with 2 Axes>"
      ]
     },
     "metadata": {
      "needs_background": "light"
     },
     "output_type": "display_data"
    }
   ],
   "source": [
    "#Let's visualize the results of the model in the form of a co#nfusion matrix using matp\n",
    "#Here, you will visualize the confusion matrix using Heatmap.\n",
    "class_names=[3,4,5,6,7,8] # name of classes\n",
    "fig, ax = plt.subplots()\n",
    "tick_marks = np.arange(len(class_names))\n",
    "plt.xticks(tick_marks, class_names)\n",
    "plt.yticks(tick_marks, class_names)\n",
    "# create heatmap\n",
    "sns.heatmap(pd.DataFrame(cnf_matrixLDANB), annot=True, cmap=\"YlGnBu\" ,fmt='g')\n",
    "ax.xaxis.set_label_position(\"top\");\n",
    "plt.tight_layout()\n",
    "plt.title('Confusion matrix NB With LDA', y=1.1)\n",
    "plt.ylabel('Actual label');\n",
    "plt.xlabel('Predicted label');\n",
    "ax.set_xticklabels(class_names);\n",
    "ax.set_yticklabels(class_names);"
   ]
  },
  {
   "cell_type": "code",
   "execution_count": 65,
   "id": "8248cb9d-95aa-4161-a799-a31eaed16d0a",
   "metadata": {},
   "outputs": [
    {
     "name": "stdout",
     "output_type": "stream",
     "text": [
      "Accuracy: 0.5102040816326531\n",
      "Precision: 0.48857929848944165\n",
      "Recall: 0.5102040816326531\n"
     ]
    }
   ],
   "source": [
    "print(\"Accuracy:\" ,metrics.accuracy_score (Y_TestLDA, Y_PredLDAGB))\n",
    "print(\"Precision:\",metrics.precision_score(Y_TestLDA, Y_PredLDAGB,average = 'weighted'))\n",
    "print(\"Recall:\"   ,metrics.recall_score   (Y_TestLDA, Y_PredLDAGB,average = 'weighted'))\n",
    "\n",
    "ACnbLDA = metrics.accuracy_score (Y_TestLDA, Y_PredLDAGB)\n",
    "PRnbLDA = metrics.precision_score(Y_TestLDA, Y_PredLDAGB,average = 'weighted')\n",
    "\n"
   ]
  },
  {
   "cell_type": "code",
   "execution_count": 66,
   "id": "dfecca94-7ce8-41a5-956b-3c6a43a34ab0",
   "metadata": {},
   "outputs": [
    {
     "data": {
      "image/png": "[encoded data removed]",
      "text/plain": [
       "<Figure size 432x288 with 1 Axes>"
      ]
     },
     "metadata": {
      "needs_background": "light"
     },
     "output_type": "display_data"
    }
   ],
   "source": [
    "labels = ['Logistic Regression (LR)', 'LR with PCA', 'LR with LDA','Naive Bayes','Naive Bayes with LDA']\n",
    "plt.scatter(1,AClrpl)\n",
    "plt.scatter(2, AClrPCA)\n",
    "plt.scatter(3, AClrLDA)\n",
    "plt.scatter(4, ACnbPL)\n",
    "plt.scatter(5, ACnbLDA)\n",
    "plt.title('Accuracy');\n",
    "plt.legend(labels, loc = 'lower left');\n",
    "plt.grid()"
   ]
  },
  {
   "cell_type": "code",
   "execution_count": 67,
   "id": "79a4481d-22b3-41f1-8c7c-bd1a1bbb4971",
   "metadata": {},
   "outputs": [
    {
     "data": {
      "image/png": "[encoded data removed]",
      "text/plain": [
       "<Figure size 432x288 with 1 Axes>"
      ]
     },
     "metadata": {
      "needs_background": "light"
     },
     "output_type": "display_data"
    }
   ],
   "source": [
    "labels = ['Logistic Regression (LR)', 'LR with PCA', 'LR with LDA','Naive Bayes','Naive Bayes with LDA']\n",
    "plt.scatter(1,PRlrpl)\n",
    "plt.scatter(2, PRlrPCA)\n",
    "plt.scatter(3, PRlrLDA)\n",
    "plt.scatter(4, PRnbPL)\n",
    "plt.scatter(5, PRnbLDA)\n",
    "plt.title('Precision');\n",
    "plt.legend(labels, loc = 'lower left');\n",
    "plt.grid()"
   ]
  },
  {
   "cell_type": "code",
   "execution_count": 68,
   "id": "aa2275f1-d8f5-42d7-8e93-df9a2681ef76",
   "metadata": {},
   "outputs": [],
   "source": [
    "#Stack the arrays together\n",
    "Y_TotLDALR = Data.loc[:, 'quality'].values\n",
    "X_TotLDALR = Data.loc[:, features].values\n",
    "\n"
   ]
  },
  {
   "cell_type": "code",
   "execution_count": 69,
   "id": "78323203-3df1-438f-b37c-10e71136437d",
   "metadata": {},
   "outputs": [],
   "source": [
    "#Linear Regression no feature extraction"
   ]
  },
  {
   "cell_type": "code",
   "execution_count": 70,
   "id": "17703d46-37df-45ef-93bc-2c66d1a8aa8a",
   "metadata": {},
   "outputs": [],
   "source": [
    "TrainScaleMM = scale.fit_transform(xTrainMM)\n",
    "TestScaleMM  = scale.fit_transform(xTestMM)"
   ]
  },
  {
   "cell_type": "code",
   "execution_count": 71,
   "id": "2f66fcb9-7b54-45be-b620-7ee3dfef212e",
   "metadata": {},
   "outputs": [
    {
     "data": {
      "text/plain": [
       "LinearRegression()"
      ]
     },
     "execution_count": 71,
     "metadata": {},
     "output_type": "execute_result"
    }
   ],
   "source": [
    "from sklearn.linear_model import LinearRegression\n",
    "\n",
    "modelMM = LinearRegression()\n",
    "modelMM.fit(TrainScaleMM, yTrainMM)"
   ]
  },
  {
   "cell_type": "code",
   "execution_count": 72,
   "id": "bb0c015d-f9c3-46e8-8d6c-9ef0144f099a",
   "metadata": {},
   "outputs": [
    {
     "name": "stdout",
     "output_type": "stream",
     "text": [
      "coefficient of determination: 0.28431266263894317\n",
      "intercept: 5.417022709155224\n",
      "Coefficients: [ 0.          0.3672579  -1.953182   -0.10176376  4.6448187  -0.00892212\n",
      "  0.73464161 -0.07337265 -6.44558016  0.66076984  0.55820259  1.41985384]\n"
     ]
    }
   ],
   "source": [
    "r_sq = modelMM.score(TrainScaleMM, yTrainMM)\n",
    "print('coefficient of determination:', r_sq)\n",
    "print('intercept:', modelMM.intercept_)\n",
    "\n",
    "print('Coefficients:', modelMM.coef_)"
   ]
  },
  {
   "cell_type": "code",
   "execution_count": 73,
   "id": "39c0229c-4f86-4edc-99e3-bb5301358aa8",
   "metadata": {},
   "outputs": [
    {
     "name": "stdout",
     "output_type": "stream",
     "text": [
      "1815.2287349649157\n"
     ]
    }
   ],
   "source": [
    "Y_predMM = modelMM.predict(TestScaleMM)\n",
    "y_DiffMM = sum(abs(yTestMM-Y_predMM))\n",
    "print(y_DiffMM)"
   ]
  },
  {
   "cell_type": "code",
   "execution_count": 74,
   "id": "2b9e69e6-00fb-4089-8fd8-80be875850ac",
   "metadata": {},
   "outputs": [],
   "source": [
    "#Do LDA on the data using this funciton:\n",
    "N=2;\n",
    "#I want to keep N of the components:\n",
    "lda = LinearDiscriminantAnalysis(n_components=N)\n",
    "lda_pc = lda.fit_transform(X_TotLDALR,Y_TotLDALR) \n",
    "    \n",
    "PDF = pd.DataFrame(data = lda_pc)    \n",
    "   \n",
    "finalDataLDA = pd.concat([PDF, Data[['quality']]], axis = 1) \n",
    "NumCompLDA = (finalDataLDA.shape[1]) -1\n",
    "\n",
    "\n",
    "#Split the Data:\n",
    "data_trainLDA, data_testLDA = train_test_split(finalDataLDA, train_size = 0.8, test_size = 0.2, random_state= 42)\n",
    "X_TrainLDA = data_trainLDA.loc[:, range(NumCompLDA)].values #The number of principle components will change. \n",
    "Y_TrainLDA = data_trainLDA.loc[:, ['quality']].values\n",
    "\n",
    "X_TestLDA = data_testLDA.loc[:, range(NumCompLDA)].values\n",
    "Y_TestLDA = data_testLDA.loc[:, ['quality']].values\n",
    "    \n",
    "X_0_train = X_TrainLDA[:, 0].reshape((mTrain, 1))\n",
    "X_1_train = X_TrainLDA[:, 1].reshape((mTrain, 1)) # get input values from first column\n",
    "Y_TrainLDA # get output values from fourth column\n",
    "\n",
    "#define the expl. variable values test\n",
    "X_0_test = X_TestLDA[:, 0].reshape((mTest, 1))\n",
    "X_1_test = X_TestLDA[:, 1].reshape((mTest, 1)) # get input values from first colum\n",
    "Y_TestLDA\n",
    "\n",
    "    \n",
    "xTrainLDA= np.hstack((X_0_train, X_1_train))\n",
    "xTestLDA = np.hstack((X_0_test, X_1_test))  "
   ]
  },
  {
   "cell_type": "code",
   "execution_count": 75,
   "id": "711d8693-157a-4ccf-9368-2f335476958a",
   "metadata": {},
   "outputs": [],
   "source": [
    "scale = MinMaxScaler()\n",
    "TrainScaleLDA = scale.fit_transform(xTrainLDA)\n",
    "TestScaleLDA  = scale.fit_transform(xTestLDA)"
   ]
  },
  {
   "cell_type": "code",
   "execution_count": 76,
   "id": "38310c97-9516-437c-af2d-173a652c772a",
   "metadata": {},
   "outputs": [
    {
     "data": {
      "text/plain": [
       "LinearRegression()"
      ]
     },
     "execution_count": 76,
     "metadata": {},
     "output_type": "execute_result"
    }
   ],
   "source": [
    "from sklearn.linear_model import LinearRegression\n",
    "\n",
    "model = LinearRegression()\n",
    "model.fit(TrainScaleLDA, Y_TrainLDA)"
   ]
  },
  {
   "cell_type": "code",
   "execution_count": 77,
   "id": "6f9dc183-342b-4189-b5af-597c29a824f5",
   "metadata": {},
   "outputs": [
    {
     "name": "stdout",
     "output_type": "stream",
     "text": [
      "coefficient of determination: 0.28350355528463156\n",
      "intercept: [7.24606617]\n",
      "slope: [[-3.84512023 -0.15638527]]\n"
     ]
    }
   ],
   "source": [
    "r_sq = model.score(TrainScaleLDA, Y_TrainLDA)\n",
    "print('coefficient of determination:', r_sq)\n",
    "print('intercept:', model.intercept_)\n",
    "\n",
    "print('slope:', model.coef_)\n"
   ]
  },
  {
   "cell_type": "code",
   "execution_count": 78,
   "id": "2e3e834e-0570-4a68-8035-18210abaac31",
   "metadata": {},
   "outputs": [
    {
     "name": "stdout",
     "output_type": "stream",
     "text": [
      "[737.01532515]\n"
     ]
    }
   ],
   "source": [
    "Y_predLDA = model.predict(TestScaleLDA)\n",
    "y_DiffLDA = sum(abs(Y_TestLDA-Y_predLDA))\n",
    "print(y_DiffLDA)"
   ]
  },
  {
   "cell_type": "code",
   "execution_count": 79,
   "id": "cf5a2c10-f44a-469b-b9d8-48c2e1dff744",
   "metadata": {},
   "outputs": [],
   "source": [
    "#LDA With 1 Comp"
   ]
  },
  {
   "cell_type": "code",
   "execution_count": 80,
   "id": "f936c661-1d8d-4b5a-845c-e330a9ac48bb",
   "metadata": {},
   "outputs": [],
   "source": [
    "N=1;\n",
    "#I want to keep N of the components:\n",
    "lda = LinearDiscriminantAnalysis(n_components=N)\n",
    "lda_pc = lda.fit_transform(X_TotLDALR,Y_TotLDALR) \n",
    "    \n",
    "PDF = pd.DataFrame(data = lda_pc)    \n",
    "   \n",
    "finalDataLDA = pd.concat([PDF, Data[['quality']]], axis = 1) \n",
    "NumCompLDA = (finalDataLDA.shape[1]) -1\n",
    "\n",
    "\n",
    "    #Split the Data:\n",
    "data_trainLDA, data_testLDA = train_test_split(finalDataLDA, train_size = 0.8, test_size = 0.2, random_state= 42)\n",
    "X_TrainLDA1 = data_trainLDA.loc[:, range(NumCompLDA)].values #The number of principle components will change. \n",
    "Y_TrainLDA1 = data_trainLDA.loc[:, ['quality']].values\n",
    "\n",
    "X_TestLDA = data_testLDA.loc[:, range(NumCompLDA)].values\n",
    "Y_TestLDA1 = data_testLDA.loc[:, ['quality']].values\n",
    "    \n",
    "X_0_train = X_TrainLDA[:, 0].reshape((mTrain, 1))\n",
    "Y_TrainLDA1 # get output values from fourth column\n",
    "\n",
    "    #define the expl. variable values test\n",
    "X_0_test = X_TestLDA[:, 0].reshape((mTest, 1))\n",
    "\n",
    "\n",
    "    \n",
    "xTrainLDA1= ((X_0_train))\n",
    "xTestLDA1 = ((X_0_test)) "
   ]
  },
  {
   "cell_type": "code",
   "execution_count": 81,
   "id": "b6728217-41fe-42ec-9320-952a0fbcdc05",
   "metadata": {},
   "outputs": [
    {
     "name": "stdout",
     "output_type": "stream",
     "text": [
      "coefficient of determination with 1 comp.: 0.2831353549642933\n",
      "intercept: [7.20011327]\n",
      "slope: [[-3.84654966]]\n",
      "Error [724.77204062]\n"
     ]
    }
   ],
   "source": [
    "scale = MinMaxScaler()\n",
    "TrainScaleLDA1 = scale.fit_transform(xTrainLDA1)\n",
    "TestScaleLDA1  = scale.fit_transform(xTestLDA1)\n",
    "\n",
    "model1 = LinearRegression()\n",
    "model1.fit(TrainScaleLDA1, Y_TrainLDA1)\n",
    "\n",
    "r_sq1 = model1.score(TrainScaleLDA1, Y_TrainLDA1)\n",
    "print('coefficient of determination with 1 comp.:', r_sq1)\n",
    "print('intercept:', model1.intercept_)\n",
    "\n",
    "print('slope:', model1.coef_)\n",
    "\n",
    "Y_predLDA1 = model1.predict(TestScaleLDA1)\n",
    "y_DiffLDA1 = sum(abs(Y_TestLDA1-Y_predLDA1))\n",
    "print('Error', y_DiffLDA1)"
   ]
  },
  {
   "cell_type": "code",
   "execution_count": 82,
   "id": "8763bf5c-0dbe-433f-a0e7-9ba683113e0d",
   "metadata": {},
   "outputs": [],
   "source": [
    "#SVR with MM\n",
    "from sklearn.svm import SVR\n",
    "from sklearn.pipeline import make_pipeline"
   ]
  },
  {
   "cell_type": "code",
   "execution_count": 83,
   "id": "b4633833-7231-49d5-b217-5f768cbc3390",
   "metadata": {},
   "outputs": [
    {
     "data": {
      "text/plain": [
       "Pipeline(steps=[('minmaxscaler', MinMaxScaler()), ('svr', SVR(epsilon=0.2))])"
      ]
     },
     "execution_count": 83,
     "metadata": {},
     "output_type": "execute_result"
    }
   ],
   "source": [
    "regr = make_pipeline(MinMaxScaler(), SVR(C=1.0, epsilon=0.2))\n",
    "regr.fit(xTrain, yTrainMM)"
   ]
  },
  {
   "cell_type": "code",
   "execution_count": 84,
   "id": "edc80ca9-d415-4265-ae82-32106b68b046",
   "metadata": {},
   "outputs": [
    {
     "name": "stdout",
     "output_type": "stream",
     "text": [
      "Error 534.9570904563385\n",
      "534.9570904563385\n"
     ]
    }
   ],
   "source": [
    "Y_PredSVR = regr.predict(xTest)\n",
    "y_DiffSVR = sum(abs(yTestMM-Y_PredSVR))\n",
    "print('Error', y_DiffSVR)\n",
    "\n",
    "print(y_DiffSVR)"
   ]
  },
  {
   "cell_type": "code",
   "execution_count": 85,
   "id": "046d5d4b-eaf4-43b3-a5fd-d14d577b29c8",
   "metadata": {},
   "outputs": [
    {
     "data": {
      "text/plain": [
       "Pipeline(steps=[('standardscaler', StandardScaler()),\n",
       "                ('svr', SVR(C=1.4, epsilon=0.2))])"
      ]
     },
     "execution_count": 85,
     "metadata": {},
     "output_type": "execute_result"
    }
   ],
   "source": [
    "#SVR with SS\n",
    "regr = make_pipeline(StandardScaler(), SVR(C=1.4, epsilon=0.2))\n",
    "regr.fit(xTrainMM, yTrainMM)"
   ]
  },
  {
   "cell_type": "code",
   "execution_count": 86,
   "id": "4494c11a-a062-495f-9baf-c2b619c15ecd",
   "metadata": {},
   "outputs": [
    {
     "name": "stdout",
     "output_type": "stream",
     "text": [
      "Error 506.2704637597168\n",
      "506.2704637597168\n"
     ]
    }
   ],
   "source": [
    "Y_PredSVR = regr.predict(xTestMM)\n",
    "y_DiffSVR = sum(abs(yTestMM-Y_PredSVR))\n",
    "print('Error', y_DiffSVR)\n",
    "\n",
    "print(y_DiffSVR)"
   ]
  }
 ],
 "metadata": {
  "kernelspec": {
   "display_name": "Python 3",
   "language": "python",
   "name": "python3"
  },
  "language_info": {
   "codemirror_mode": {
    "name": "ipython",
    "version": 3
   },
   "file_extension": ".py",
   "mimetype": "text/x-python",
   "name": "python",
   "nbconvert_exporter": "python",
   "pygments_lexer": "ipython3",
   "version": "3.8.8"
  }
 },
 "nbformat": 4,
 "nbformat_minor": 5
}
